{
 "cells": [
  {
   "metadata": {
    "ExecuteTime": {
     "end_time": "2025-06-12T16:38:38.414380Z",
     "start_time": "2025-06-12T16:38:37.729313Z"
    }
   },
   "cell_type": "code",
   "source": [
    "import numpy as np\n",
    "import pandas as pd\n",
    "import matplotlib.pyplot as plt\n",
    "import seaborn as sns\n",
    "from sklearn.decomposition import PCA\n",
    "from sklearn.manifold import TSNE\n",
    "from sklearn.cluster import KMeans\n",
    "from sklearn.metrics import silhouette_score\n",
    "from sklearn.neighbors import NearestNeighbors\n",
    "import json\n",
    "from pathlib import Path\n",
    "import plotly.express as px\n",
    "import plotly.graph_objects as go\n",
    "from plotly.subplots import make_subplots"
   ],
   "id": "955320c950ea4853",
   "outputs": [],
   "execution_count": 1
  },
  {
   "metadata": {
    "ExecuteTime": {
     "end_time": "2025-06-12T16:38:38.420329Z",
     "start_time": "2025-06-12T16:38:38.417901Z"
    }
   },
   "cell_type": "code",
   "source": [
    "def load_embedding_data(embedding_dir: str):\n",
    "    \"\"\"Load embeddings and associated metadata.\"\"\"\n",
    "    embedding_dir = Path(embedding_dir)\n",
    "\n",
    "    # Load embeddings\n",
    "    embedding_file = list(embedding_dir.glob(\"embeddings_*.npy\"))[0]\n",
    "    embeddings = np.load(embedding_file)\n",
    "\n",
    "    # Load metadata\n",
    "    metadata_file = list(embedding_dir.glob(\"metadata_*.json\"))[0]\n",
    "    with open(metadata_file, 'r') as f:\n",
    "        metadata = json.load(f)\n",
    "\n",
    "    # Load token mapping\n",
    "    token_file = list(embedding_dir.glob(\"token_mapping_*.csv\"))[0]\n",
    "    token_df = pd.read_csv(token_file)\n",
    "\n",
    "    print(f\"Loaded embeddings: {embeddings.shape}\")\n",
    "    print(f\"Model: {metadata['model_name']}\")\n",
    "    print(f\"Semantic dimensions: {metadata.get('semantic_dim', 'unknown')}\")\n",
    "    print(f\"Label features: {metadata['label_features']}\")\n",
    "\n",
    "    return embeddings, metadata, token_df"
   ],
   "id": "d3116eda1ed9d4f1",
   "outputs": [],
   "execution_count": 2
  },
  {
   "metadata": {
    "ExecuteTime": {
     "end_time": "2025-06-12T16:45:59.781521Z",
     "start_time": "2025-06-12T16:45:59.778115Z"
    }
   },
   "cell_type": "code",
   "source": [
    "def basic_embedding_stats(embeddings: np.ndarray):\n",
    "    \"\"\"Compute basic statistics about the embedding space.\"\"\"\n",
    "    stats = {\n",
    "        'shape': embeddings.shape,\n",
    "        'mean_norm': np.linalg.norm(embeddings, axis=1).mean(),\n",
    "        'std_norm': np.linalg.norm(embeddings, axis=1).std(),\n",
    "        'sparsity': (embeddings == 0).sum() / embeddings.size,\n",
    "        'dimension_variance': embeddings.var(axis=0).mean(),\n",
    "        'pairwise_similarity_mean': np.corrcoef(embeddings).mean()\n",
    "    }\n",
    "\n",
    "    for key, value in stats.items():\n",
    "        if key == 'shape':\n",
    "            print(f\"{key}: {value}\")\n",
    "        else:\n",
    "            print(f\"{key}: {value:.4f}\")\n",
    "\n",
    "    return stats"
   ],
   "id": "5e6ff14d37378ac5",
   "outputs": [],
   "execution_count": 16
  },
  {
   "metadata": {
    "ExecuteTime": {
     "end_time": "2025-06-12T17:08:46.465507Z",
     "start_time": "2025-06-12T17:08:46.460594Z"
    }
   },
   "cell_type": "code",
   "source": [
    "def visualize_embedding_space(embeddings: np.ndarray,\n",
    "                              token_df: pd.DataFrame,\n",
    "                              cluster_labels: np.ndarray = None,\n",
    "                              sample_size: int = 1000):\n",
    "    \"\"\"Create 2D visualization of embedding space with both t-SNE and PCA.\"\"\"\n",
    "\n",
    "    # Sample for visualization if too large\n",
    "    if len(embeddings) > sample_size:\n",
    "        indices = np.random.choice(len(embeddings), sample_size, replace=False)\n",
    "        embeddings_vis = embeddings[indices]\n",
    "        tokens_vis = token_df.iloc[indices].copy()\n",
    "        clusters_vis = cluster_labels[indices] if cluster_labels is not None else None\n",
    "    else:\n",
    "        embeddings_vis = embeddings\n",
    "        tokens_vis = token_df.copy()\n",
    "        clusters_vis = cluster_labels\n",
    "\n",
    "    # Create both reductions\n",
    "    print(\"Computing PCA and t-SNE...\")\n",
    "    pca = PCA(n_components=2, random_state=42)\n",
    "    pca_coords = pca.fit_transform(embeddings_vis)\n",
    "\n",
    "    tsne = TSNE(n_components=2, random_state=42, perplexity=min(30, len(embeddings_vis)-1))\n",
    "    tsne_coords = tsne.fit_transform(embeddings_vis)\n",
    "\n",
    "    # Prepare data\n",
    "    tokens_vis['tsne_x'] = tsne_coords[:, 0]\n",
    "    tokens_vis['tsne_y'] = tsne_coords[:, 1]\n",
    "    tokens_vis['pca_x'] = pca_coords[:, 0]\n",
    "    tokens_vis['pca_y'] = pca_coords[:, 1]\n",
    "    tokens_vis['text_preview'] = tokens_vis['token'].str[:50]\n",
    "\n",
    "    if clusters_vis is not None:\n",
    "        tokens_vis['cluster'] = clusters_vis.astype(str)\n",
    "\n",
    "    # t-SNE plot\n",
    "    if clusters_vis is not None:\n",
    "        fig1 = px.scatter(tokens_vis, x='tsne_x', y='tsne_y', color='cluster',\n",
    "                          hover_data=['text_preview'],\n",
    "                          title='t-SNE Embedding Visualization',\n",
    "                          labels={'tsne_x': 't-SNE 1', 'tsne_y': 't-SNE 2'})\n",
    "    else:\n",
    "        fig1 = px.scatter(tokens_vis, x='tsne_x', y='tsne_y',\n",
    "                          hover_data=['text_preview'],\n",
    "                          title='t-SNE Embedding Visualization',\n",
    "                          labels={'tsne_x': 't-SNE 1', 'tsne_y': 't-SNE 2'})\n",
    "\n",
    "    fig1.update_traces(marker=dict(size=4, opacity=0.7))\n",
    "    fig1.show()\n",
    "\n",
    "    # PCA plot\n",
    "    pca_title = f'PCA Embedding Visualization (explained variance: {pca.explained_variance_ratio_.sum():.2f})'\n",
    "\n",
    "    if clusters_vis is not None:\n",
    "        fig2 = px.scatter(tokens_vis, x='pca_x', y='pca_y', color='cluster',\n",
    "                          hover_data=['text_preview'],\n",
    "                          title=pca_title,\n",
    "                          labels={'pca_x': 'PCA 1', 'pca_y': 'PCA 2'})\n",
    "    else:\n",
    "        fig2 = px.scatter(tokens_vis, x='pca_x', y='pca_y',\n",
    "                          hover_data=['text_preview'],\n",
    "                          title=pca_title,\n",
    "                          labels={'pca_x': 'PCA 1', 'pca_y': 'PCA 2'})\n",
    "\n",
    "    fig2.update_traces(marker=dict(size=4, opacity=0.7))\n",
    "    fig2.show()\n",
    "\n",
    "    return {'tsne': tsne_coords, 'pca': pca_coords}, tokens_vis"
   ],
   "id": "44816d48a18026e",
   "outputs": [],
   "execution_count": 26
  },
  {
   "metadata": {
    "ExecuteTime": {
     "end_time": "2025-06-12T16:38:41.802727Z",
     "start_time": "2025-06-12T16:38:41.798931Z"
    }
   },
   "cell_type": "code",
   "source": [
    "def cluster_analysis(embeddings: np.ndarray,\n",
    "                     token_df: pd.DataFrame,\n",
    "                     k_range: range = range(2, 11)):\n",
    "    \"\"\"Perform clustering analysis to find natural groupings.\"\"\"\n",
    "\n",
    "    silhouette_scores = []\n",
    "    inertias = []\n",
    "\n",
    "    for k in k_range:\n",
    "        kmeans = KMeans(n_clusters=k, random_state=42, n_init=10)\n",
    "        labels = kmeans.fit_predict(embeddings)\n",
    "        silhouette_scores.append(silhouette_score(embeddings, labels))\n",
    "        inertias.append(kmeans.inertia_)\n",
    "\n",
    "    # Plot elbow curve\n",
    "    fig, (ax1, ax2) = plt.subplots(1, 2, figsize=(12, 4))\n",
    "\n",
    "    ax1.plot(k_range, silhouette_scores, 'bo-')\n",
    "    ax1.set_xlabel('Number of Clusters')\n",
    "    ax1.set_ylabel('Silhouette Score')\n",
    "    ax1.set_title('Silhouette Analysis')\n",
    "    ax1.grid(True)\n",
    "\n",
    "    ax2.plot(k_range, inertias, 'ro-')\n",
    "    ax2.set_xlabel('Number of Clusters')\n",
    "    ax2.set_ylabel('Inertia')\n",
    "    ax2.set_title('Elbow Method')\n",
    "    ax2.grid(True)\n",
    "\n",
    "    plt.tight_layout()\n",
    "    plt.show()\n",
    "\n",
    "    # Best k by silhouette score\n",
    "    best_k = k_range[np.argmax(silhouette_scores)]\n",
    "    print(f\"Best k by silhouette score: {best_k}\")\n",
    "\n",
    "    # Cluster with best k\n",
    "    kmeans_best = KMeans(n_clusters=best_k, random_state=42)\n",
    "    cluster_labels = kmeans_best.fit_predict(embeddings)\n",
    "\n",
    "    # Add clusters to token dataframe\n",
    "    token_df_clustered = token_df.copy()\n",
    "    token_df_clustered['cluster'] = cluster_labels\n",
    "\n",
    "    return cluster_labels, token_df_clustered, best_k"
   ],
   "id": "b8f4c185995048a3",
   "outputs": [],
   "execution_count": 5
  },
  {
   "metadata": {
    "ExecuteTime": {
     "end_time": "2025-06-12T16:38:42.224963Z",
     "start_time": "2025-06-12T16:38:42.221631Z"
    }
   },
   "cell_type": "code",
   "source": [
    "def analyze_semantic_neighbors(embeddings: np.ndarray,\n",
    "                               token_df: pd.DataFrame,\n",
    "                               query_tokens: list = None,\n",
    "                               n_neighbors: int = 5):\n",
    "    \"\"\"Find semantically similar tokens.\"\"\"\n",
    "\n",
    "    nn = NearestNeighbors(n_neighbors=n_neighbors+1, metric='cosine')\n",
    "    nn.fit(embeddings)\n",
    "\n",
    "    if query_tokens is None:\n",
    "        # Random sample for exploration\n",
    "        query_indices = np.random.choice(len(embeddings), 3, replace=False)\n",
    "    else:\n",
    "        # Find indices of specific tokens\n",
    "        query_indices = []\n",
    "        for query in query_tokens:\n",
    "            matches = token_df[token_df['token'].str.contains(query, case=False)].index\n",
    "            if len(matches) > 0:\n",
    "                query_indices.append(matches[0])\n",
    "\n",
    "    print(\"=== Semantic Neighbors Analysis ===\")\n",
    "    for idx in query_indices:\n",
    "        distances, indices = nn.kneighbors([embeddings[idx]])\n",
    "\n",
    "        print(f\"\\nQuery: '{token_df.iloc[idx]['token']}'\")\n",
    "        print(\"Nearest neighbors:\")\n",
    "        for i, (dist, neighbor_idx) in enumerate(zip(distances[0][1:], indices[0][1:])):\n",
    "            neighbor_token = token_df.iloc[neighbor_idx]['token']\n",
    "            print(f\"  {i+1}. '{neighbor_token}' (distance: {dist:.3f})\")"
   ],
   "id": "d3d22ef24d306415",
   "outputs": [],
   "execution_count": 6
  },
  {
   "metadata": {
    "ExecuteTime": {
     "end_time": "2025-06-12T16:38:42.592380Z",
     "start_time": "2025-06-12T16:38:42.588736Z"
    }
   },
   "cell_type": "code",
   "source": [
    "def label_distribution_analysis(embeddings: np.ndarray,\n",
    "                                token_df: pd.DataFrame,\n",
    "                                metadata: dict,\n",
    "                                original_tokens: list):\n",
    "    \"\"\"Analyze how labels are distributed in embedding space.\"\"\"\n",
    "\n",
    "    if 'feature_names' not in metadata:\n",
    "        print(\"No label feature information available\")\n",
    "        return\n",
    "\n",
    "    # Extract label information from original tokens\n",
    "    label_data = []\n",
    "    for token_data in original_tokens:\n",
    "        labels = token_data['labels']\n",
    "        row = {'token': token_data['token']}\n",
    "        for label_type, label_info in labels.items():\n",
    "            row[f\"{label_type}_value\"] = label_info['value']\n",
    "            row[f\"{label_type}_confidence\"] = label_info['confidence']\n",
    "        label_data.append(row)\n",
    "\n",
    "    label_df = pd.DataFrame(label_data)\n",
    "\n",
    "    # Merge with embeddings\n",
    "    analysis_df = pd.concat([token_df, label_df.drop('token', axis=1)], axis=1)\n",
    "\n",
    "    # Analyze label distributions\n",
    "    print(\"=== Label Distribution Analysis ===\")\n",
    "\n",
    "    label_types = ['emotions', 'time', 'location', 'characters']\n",
    "    for label_type in label_types:\n",
    "        value_col = f\"{label_type}_value\"\n",
    "        conf_col = f\"{label_type}_confidence\"\n",
    "\n",
    "        if value_col in analysis_df.columns:\n",
    "            print(f\"\\n{label_type.title()} Distribution:\")\n",
    "            value_counts = analysis_df[value_col].value_counts()\n",
    "            print(value_counts.head())\n",
    "\n",
    "            # High confidence labels\n",
    "            high_conf = analysis_df[analysis_df[conf_col] > 0.8]\n",
    "            if len(high_conf) > 0:\n",
    "                print(f\"High confidence ({conf_col} > 0.8): {len(high_conf)} tokens\")\n",
    "\n",
    "    return analysis_df"
   ],
   "id": "b3d7e5cfc839908",
   "outputs": [],
   "execution_count": 7
  },
  {
   "metadata": {
    "ExecuteTime": {
     "end_time": "2025-06-12T17:05:04.884174Z",
     "start_time": "2025-06-12T17:05:04.880195Z"
    }
   },
   "cell_type": "code",
   "source": [
    "def generate_analysis_report(embedding_dir: str, original_json: str = None):\n",
    "    \"\"\"Generate comprehensive analysis report.\"\"\"\n",
    "\n",
    "    print(\"=== EMBEDDING ANALYSIS REPORT ===\\n\")\n",
    "\n",
    "    # Load data\n",
    "    embeddings, metadata, token_df = load_embedding_data(embedding_dir)\n",
    "\n",
    "    print(\"1. BASIC STATISTICS\")\n",
    "    print(\"-\" * 30)\n",
    "    basic_embedding_stats(embeddings)\n",
    "\n",
    "    print(\"\\n2. CLUSTERING ANALYSIS\")\n",
    "    print(\"-\" * 30)\n",
    "    cluster_labels, clustered_df, best_k = cluster_analysis(embeddings, token_df)\n",
    "\n",
    "    print(\"\\n3. EMBEDDING SPACE VISUALIZATION\")\n",
    "    print(\"-\" * 30)\n",
    "    coords, vis_df = visualize_embedding_space(embeddings, token_df, cluster_labels)\n",
    "\n",
    "    print(\"\\n4. SEMANTIC SIMILARITY\")\n",
    "    print(\"-\" * 30)\n",
    "    analyze_semantic_neighbors(embeddings, token_df)\n",
    "\n",
    "    if original_json:\n",
    "        print(\"\\n5. LABEL ANALYSIS\")\n",
    "        print(\"-\" * 30)\n",
    "        with open(original_json, 'r') as f:\n",
    "            original_data = json.load(f)\n",
    "        original_tokens = original_data['tokens'] if 'tokens' in original_data else original_data\n",
    "        analysis_df = label_distribution_analysis(embeddings, token_df, metadata, original_tokens)\n",
    "\n",
    "    print(\"\\n=== NEXT STEPS FOR CEBRA ===\")\n",
    "    print(\"✓ Embeddings are ready for CEBRA auxiliary variables\")\n",
    "    print(\"✓ Consider the clustering patterns for hypothesis formation\")\n",
    "    print(\"✓ Label distributions show contextual encoding quality\")\n",
    "    print(\"✓ Semantic neighbors validate embedding meaningfulness\")\n",
    "\n",
    "    return {\n",
    "        'embeddings': embeddings,\n",
    "        'metadata': metadata,\n",
    "        'token_df': token_df,\n",
    "        'clusters': cluster_labels,\n",
    "        'coords': coords\n",
    "    }"
   ],
   "id": "ce2b4932775c4b7e",
   "outputs": [],
   "execution_count": 19
  },
  {
   "metadata": {
    "ExecuteTime": {
     "end_time": "2025-06-12T17:05:05.741704Z",
     "start_time": "2025-06-12T17:05:05.738213Z"
    }
   },
   "cell_type": "code",
   "source": [
    "def quick_embedding_check(embedding_dir: str):\n",
    "    \"\"\"Fast quality check of your embeddings.\"\"\"\n",
    "    embeddings, metadata, token_df = load_embedding_data(embedding_dir)\n",
    "\n",
    "    print(\"🔍 QUICK EMBEDDING CHECK\")\n",
    "    print(\"=\" * 25)\n",
    "\n",
    "    # Basic stats\n",
    "    print(f\"✓ Shape: {embeddings.shape}\")\n",
    "    print(f\"✓ Model: {metadata.get('model_name', 'unknown')}\")\n",
    "    print(f\"✓ Mean embedding norm: {np.linalg.norm(embeddings, axis=1).mean():.3f}\")\n",
    "\n",
    "    # Sample some tokens\n",
    "    print(\"\\n📝 Sample tokens:\")\n",
    "    sample_indices = np.random.choice(len(token_df), min(5, len(token_df)), replace=False)\n",
    "    for idx in sample_indices:\n",
    "        print(f\"  '{token_df.iloc[idx]['token']}'\")\n",
    "\n",
    "    # Quick visualization\n",
    "    print(\"\\n📊 Generating visualization...\")\n",
    "    coords, vis_df = visualize_embedding_space(embeddings, token_df, sample_size=500)\n",
    "\n",
    "    print(\"\\n✅ Embeddings look good! Ready for CEBRA analysis.\")\n",
    "\n",
    "    return embeddings, token_df"
   ],
   "id": "cbed7c8ebb3f0887",
   "outputs": [],
   "execution_count": 20
  },
  {
   "metadata": {
    "ExecuteTime": {
     "end_time": "2025-06-12T17:08:36.164581Z",
     "start_time": "2025-06-12T17:08:35.508585Z"
    }
   },
   "cell_type": "code",
   "source": "quick_embedding_check(\"./embeddings_output/lightweight\")",
   "id": "71520d1c692f32ff",
   "outputs": [
    {
     "name": "stdout",
     "output_type": "stream",
     "text": [
      "Loaded embeddings: (1182, 392)\n",
      "Model: all-MiniLM-L6-v2\n",
      "Semantic dimensions: unknown\n",
      "Label features: 8\n",
      "🔍 QUICK EMBEDDING CHECK\n",
      "=========================\n",
      "✓ Shape: (1182, 392)\n",
      "✓ Model: all-MiniLM-L6-v2\n",
      "✓ Mean embedding norm: 2.969\n",
      "\n",
      "📝 Sample tokens:\n",
      "  'he  had not made it through the'\n",
      "  'You must be very'\n",
      "  'after Carmen'\n",
      "  'and she pushed open'\n",
      "  'like you to have this,'\n",
      "\n",
      "📊 Generating visualization...\n",
      "Computing PCA and t-SNE...\n"
     ]
    },
    {
     "data": {
      "application/vnd.plotly.v1+json": {
       "data": [
        {
         "customdata": [
          [
           "along in the illness as"
          ],
          [
           "but she did not mind"
          ],
          [
           "them."
          ],
          [
           "struggled to keep"
          ],
          [
           "long had Alba been"
          ],
          [
           "when she got back."
          ],
          [
           "that is strictly"
          ],
          [
           "hands preparing"
          ],
          [
           "Alba"
          ],
          [
           "at her chest"
          ],
          [
           "As"
          ],
          [
           "Just as she managed"
          ],
          [
           "Her hut was near"
          ],
          [
           "phone."
          ],
          [
           "what appeared to be the village"
          ],
          [
           "powered charger."
          ],
          [
           "my heart to leave this"
          ],
          [
           "privacy,"
          ],
          [
           "but one"
          ],
          [
           "looked out over"
          ],
          [
           "the village in daylight."
          ],
          [
           "and"
          ],
          [
           "over her cell phone"
          ],
          [
           "away."
          ],
          [
           "stopped talking,"
          ],
          [
           "to send us replacement"
          ],
          [
           "was a delicate"
          ],
          [
           "It was nearly pitch"
          ],
          [
           "but nothing seemed"
          ],
          [
           "She had no idea"
          ],
          [
           "the best she could,"
          ],
          [
           "reminded her why she"
          ],
          [
           "A week"
          ],
          [
           "Carmen said"
          ],
          [
           "dirt."
          ],
          [
           "she called, surprised."
          ],
          [
           "sky was overcast,"
          ],
          [
           "his name - but"
          ],
          [
           "fever medication."
          ],
          [
           "accent, his English"
          ],
          [
           "lots of"
          ],
          [
           "a carpet of blue green"
          ],
          [
           "indigestion."
          ],
          [
           "pork."
          ],
          [
           "the last of her anti"
          ],
          [
           "to the back."
          ],
          [
           "table."
          ],
          [
           "with."
          ],
          [
           "there was a festival in"
          ],
          [
           "There was no reason"
          ],
          [
           "[\"before'.]"
          ],
          [
           "the authorities to stop"
          ],
          [
           "Carmen"
          ],
          [
           "that replacement shipment"
          ],
          [
           "say."
          ],
          [
           "of the village,"
          ],
          [
           "in her office"
          ],
          [
           "Carmen with gifts."
          ],
          [
           "that if she hiked to the top"
          ],
          [
           "felt horribly guilty"
          ],
          [
           "her outside,"
          ],
          [
           "known?"
          ],
          [
           "her help"
          ],
          [
           "and returned home"
          ],
          [
           "with the strange"
          ],
          [
           "he was a classmate of Carmen"
          ],
          [
           "a long day at"
          ],
          [
           "Carmen"
          ],
          [
           "These were the moments that"
          ],
          [
           "That"
          ],
          [
           "whom Carmen did not recognize"
          ],
          [
           "her for long time."
          ],
          [
           "loggers working"
          ],
          [
           "picked up words amazingly"
          ],
          [
           "the busy clinic in"
          ],
          [
           "who spoke broken"
          ],
          [
           "more out of curiosity,"
          ],
          [
           "shore."
          ],
          [
           "once Antonio started"
          ],
          [
           "sign of civilization"
          ],
          [
           "doctor"
          ],
          [
           "Carmen felt frustrated"
          ],
          [
           "the lantern on the table."
          ],
          [
           "and bowed out of the"
          ],
          [
           "Suddenly,"
          ],
          [
           "that led to the river."
          ],
          [
           "rainforest."
          ],
          [
           "and stared out at the muddy"
          ],
          [
           "in the Amazon jungle,"
          ],
          [
           "sat on a rock"
          ],
          [
           "When Carmen noticed"
          ],
          [
           "night in her hut,"
          ],
          [
           "Her voice"
          ],
          [
           "Carmen"
          ],
          [
           "her shoulder to see the"
          ],
          [
           "into the evening,"
          ],
          [
           "He still had"
          ],
          [
           "Why  had not she"
          ],
          [
           "Stepping out onto the runway,"
          ],
          [
           "placed directly"
          ],
          [
           "turned to stare"
          ],
          [
           "to personally thank"
          ],
          [
           "doctor could be found"
          ],
          [
           "whistled to himself."
          ],
          [
           "to follow him."
          ],
          [
           "most of"
          ],
          [
           "onto a side street"
          ],
          [
           "By this"
          ],
          [
           "Maldonado,"
          ],
          [
           "no answer."
          ],
          [
           "he added apologetically."
          ],
          [
           "When Carmen gave"
          ],
          [
           "he spoke with a heavy"
          ],
          [
           "was released from"
          ],
          [
           "anything like this."
          ],
          [
           "across her chest"
          ],
          [
           "She wanted to know"
          ],
          [
           "down a narrow path"
          ],
          [
           "with this fever?"
          ],
          [
           "thought she noticed"
          ],
          [
           "at Carmen."
          ],
          [
           "Just a few days later,"
          ],
          [
           "that having a foreigner"
          ],
          [
           "winter was enough"
          ],
          [
           "them right away, but"
          ],
          [
           "and"
          ],
          [
           "were still quite mysterious"
          ],
          [
           "Dr. Torreson"
          ],
          [
           "the man looked up at her."
          ],
          [
           "had a nasty,"
          ],
          [
           "come and see what was"
          ],
          [
           "handing her a"
          ],
          [
           "the rainy season,"
          ],
          [
           "with a strange fever."
          ],
          [
           "She"
          ],
          [
           "something important."
          ],
          [
           "Even"
          ],
          [
           "he told her  he had put"
          ],
          [
           "Intrigued,"
          ],
          [
           "His forehead"
          ],
          [
           "and she"
          ],
          [
           "was baffled, and a little"
          ],
          [
           "The patient was an older"
          ],
          [
           "it was not her fault,"
          ],
          [
           "shy in the beginning,"
          ],
          [
           "Carmen noticed a"
          ],
          [
           "the villagers  were not telling"
          ],
          [
           "she rushed over to"
          ],
          [
           "child"
          ],
          [
           "girl continued to stare"
          ],
          [
           "make do with small"
          ],
          [
           "was boarding her plane"
          ],
          [
           "a very long time,"
          ],
          [
           "fires, smoking"
          ],
          [
           "but none did."
          ],
          [
           "When he saw"
          ],
          [
           "bag of supplies"
          ],
          [
           "a deep sleep."
          ],
          [
           "her breakfast, folding"
          ],
          [
           "Carmen opened"
          ],
          [
           "help,"
          ],
          [
           "Carmen sat down"
          ],
          [
           "with a seat attached"
          ],
          [
           "frightened the girl"
          ],
          [
           "as"
          ],
          [
           "According"
          ],
          [
           "of water, but Maria"
          ],
          [
           "he said."
          ],
          [
           "Senor Torreson,"
          ],
          [
           "the better of her,"
          ],
          [
           "was drowned out by"
          ],
          [
           "it over."
          ],
          [
           "medical clinic for the villagers."
          ],
          [
           "conversing with his"
          ],
          [
           "a bed frame,"
          ],
          [
           "bed"
          ],
          [
           "She"
          ],
          [
           "trees, with"
          ],
          [
           "Carmen"
          ],
          [
           "looked down eagerly"
          ],
          [
           "in leaves and twine."
          ],
          [
           "before she came,"
          ],
          [
           "from medical school."
          ],
          [
           "she was."
          ],
          [
           "and a breakfast of mashed"
          ],
          [
           "brown eyes."
          ],
          [
           "handmade necklace."
          ],
          [
           "left the clinic,"
          ],
          [
           "Was the fever contagious?"
          ],
          [
           "giving Carmen"
          ],
          [
           "Carmen"
          ],
          [
           "eyes."
          ],
          [
           "Alba motioned"
          ],
          [
           "mattress and a small"
          ],
          [
           "to invade the  family's"
          ],
          [
           "like this before."
          ],
          [
           "Hello, Dr."
          ],
          [
           "fever came to"
          ],
          [
           "The"
          ],
          [
           "with thatched"
          ],
          [
           "our satellite phone is"
          ],
          [
           "on a table near"
          ],
          [
           "Yes"
          ],
          [
           "evening, Juan"
          ],
          [
           "Along with the"
          ],
          [
           "wooden slats of the"
          ],
          [
           "Here, we would"
          ],
          [
           "was very good."
          ],
          [
           "and with Dr."
          ],
          [
           "Dr. Torreson?"
          ],
          [
           "through the town"
          ],
          [
           "you like this, but there is"
          ],
          [
           "I need your"
          ],
          [
           "gasped, and"
          ],
          [
           "of her hut."
          ],
          [
           "She"
          ],
          [
           "that what came out"
          ],
          [
           "to be nightmares."
          ],
          [
           "as they found her."
          ],
          [
           "As the plane"
          ],
          [
           "Carmen pictured"
          ],
          [
           "pointing at his chest."
          ],
          [
           "started to descend,"
          ],
          [
           "a house, her"
          ],
          [
           "covered by a thin"
          ],
          [
           "You should rest now."
          ],
          [
           "Traumatized and"
          ],
          [
           "Their clothing was more"
          ],
          [
           "below"
          ],
          [
           "the driver set"
          ],
          [
           "That is okay"
          ],
          [
           "moment, so"
          ],
          [
           "here."
          ],
          [
           "She would have to"
          ],
          [
           "the two usually ended"
          ],
          [
           "she had seen"
          ],
          [
           "her for curing his"
          ],
          [
           "the foreign woman"
          ],
          [
           "and wanted to leave"
          ],
          [
           "over in her mind."
          ],
          [
           "like Alba."
          ],
          [
           "the river."
          ],
          [
           "to have cured the man."
          ],
          [
           "to a river."
          ],
          [
           "Sunday morning tennis"
          ],
          [
           "was full of sights"
          ],
          [
           "As soon"
          ],
          [
           "hut."
          ],
          [
           "of medicines,"
          ],
          [
           "started."
          ],
          [
           "of Spanish"
          ],
          [
           "Carmen asked"
          ],
          [
           "For a brief"
          ],
          [
           "Besides,"
          ],
          [
           "if Carmen could"
          ],
          [
           "On"
          ],
          [
           "and Carmen got"
          ],
          [
           "patches of mud"
          ],
          [
           "tended to Ramiro"
          ],
          [
           "had a feeling that many"
          ],
          [
           "that she had done"
          ],
          [
           "layover in Lima,"
          ],
          [
           "teaching the girl to"
          ],
          [
           "coughing and"
          ],
          [
           "clothes,"
          ],
          [
           "would find it very rewarding."
          ],
          [
           "she called for Alba."
          ],
          [
           "that she"
          ],
          [
           "of breath, she"
          ],
          [
           "At a point,"
          ],
          [
           "did not come by the next"
          ],
          [
           "She knocked"
          ],
          [
           "bonfire,"
          ],
          [
           "Concerned."
          ],
          [
           "once,"
          ],
          [
           "may need to keep it for"
          ],
          [
           "Dr. Carmen"
          ],
          [
           "her clothes,"
          ],
          [
           "Juan said"
          ],
          [
           "supplies,"
          ],
          [
           "the village carried his"
          ],
          [
           "her chest."
          ],
          [
           "of bandages."
          ],
          [
           "had come from another"
          ],
          [
           "game"
          ],
          [
           "to care for them."
          ],
          [
           "moment Carmen"
          ],
          [
           "of this fever."
          ],
          [
           "who also"
          ],
          [
           "Torreson wrote,"
          ],
          [
           "heard footsteps"
          ],
          [
           "But, Dr."
          ],
          [
           "Antonio"
          ],
          [
           "dodging vines"
          ],
          [
           "I really hope you consider"
          ],
          [
           "goods"
          ],
          [
           "and Carmen"
          ],
          [
           "was a garbled yell."
          ],
          [
           "Carmen"
          ],
          [
           "in the order right"
          ],
          [
           "The organization"
          ],
          [
           "had friends"
          ],
          [
           "rainy season."
          ],
          [
           "Soon,"
          ],
          [
           "a thermometer"
          ],
          [
           "nervous and excited."
          ],
          [
           "how long she had slept."
          ],
          [
           "clinic to retrieve"
          ],
          [
           "has promised"
          ],
          [
           "the"
          ],
          [
           "of steamy air hit"
          ],
          [
           "that day."
          ],
          [
           "but he  did not yet have"
          ],
          [
           "We must contact"
          ],
          [
           "mix of leaves in"
          ],
          [
           "meats and stirring"
          ],
          [
           "water."
          ],
          [
           "she was familiar"
          ],
          [
           "As she turned"
          ],
          [
           "holding up her hands,"
          ],
          [
           "Carmen"
          ],
          [
           "it breaks"
          ],
          [
           "said, eager to get"
          ],
          [
           "realized that Alba"
          ],
          [
           "disappeared."
          ],
          [
           "At times,"
          ],
          [
           "after Carmen"
          ],
          [
           "not returned her cell"
          ],
          [
           "decorative than most"
          ],
          [
           "arrived yet."
          ],
          [
           "talked for a long time."
          ],
          [
           "jungle."
          ],
          [
           "but also"
          ],
          [
           "already gone."
          ],
          [
           "help?"
          ],
          [
           "She was taken"
          ],
          [
           "then went to her"
          ],
          [
           "Carmen"
          ],
          [
           "Lost"
          ],
          [
           "ran around them,"
          ],
          [
           "turned the boat toward"
          ],
          [
           "Worried and lonely,"
          ],
          [
           "a lantern."
          ],
          [
           "caught her eye:"
          ],
          [
           "ground."
          ],
          [
           "for us, he said,"
          ],
          [
           "been in the village for about"
          ],
          [
           "like nothing Carmen had"
          ],
          [
           "they hung up,"
          ],
          [
           "Carmen spent"
          ],
          [
           "certain aspects"
          ],
          [
           "There was little"
          ],
          [
           "Maria she should"
          ],
          [
           "Carmen"
          ],
          [
           "reasoned that the girl"
          ],
          [
           "she returned to the clinic"
          ],
          [
           "fast"
          ],
          [
           "a delicious feast."
          ],
          [
           "over the young  mans death."
          ],
          [
           "table"
          ],
          [
           "felt anxious"
          ],
          [
           "On the day Ramiro"
          ],
          [
           "for the victims"
          ],
          [
           "any more than that, she"
          ],
          [
           "Arriving"
          ],
          [
           "Alba more and more."
          ],
          [
           "to the United States"
          ],
          [
           "Another week went by."
          ],
          [
           "her walk to the clinic,"
          ],
          [
           "named Dr."
          ],
          [
           "huge baskets of"
          ],
          [
           "Had Dr. Torreson"
          ],
          [
           "flipflops carrying"
          ],
          [
           "Spanish and wore funny"
          ],
          [
           "stood there, holding"
          ],
          [
           "she had brought with her"
          ],
          [
           "cough."
          ],
          [
           "with Carmen slow"
          ],
          [
           "The clinic"
          ],
          [
           "she left now, the"
          ],
          [
           "to get her to drink."
          ],
          [
           "need to take your cell"
          ],
          [
           "was the only way to get medical"
          ],
          [
           "What if this was an"
          ],
          [
           "Carmen, he smiled"
          ],
          [
           "Hours passed"
          ],
          [
           "Chicago where she worked,"
          ],
          [
           "up playing games"
          ],
          [
           "It had been"
          ],
          [
           "the time spent with"
          ],
          [
           "Carmen gave"
          ],
          [
           "or telling stories instead."
          ],
          [
           "Carmen"
          ],
          [
           "patient came to the clinic"
          ],
          [
           "email's strange"
          ],
          [
           "broadly."
          ],
          [
           "A woman and"
          ],
          [
           "When Juan noticed"
          ],
          [
           "had not come by that"
          ],
          [
           "No, Juan said."
          ],
          [
           "adventure."
          ],
          [
           "community."
          ],
          [
           "she walked over to them,"
          ],
          [
           "said pointing"
          ],
          [
           "terminal, a man"
          ],
          [
           "to think about leaving"
          ],
          [
           "of humid air."
          ],
          [
           "would not say."
          ],
          [
           "it was the start of the"
          ],
          [
           "he needed to return"
          ],
          [
           "She was embarrassed"
          ],
          [
           "Carmen face,"
          ],
          [
           "Torreson wrote,"
          ],
          [
           "Inside were a few"
          ],
          [
           "head ashamed"
          ],
          [
           "women in"
          ],
          [
           "to be as far"
          ],
          [
           "at the edge of the Amazon"
          ],
          [
           "friend, Carmen"
          ],
          [
           "Whoa,"
          ],
          [
           "Carmen, but"
          ],
          [
           "Carmen  didn't"
          ],
          [
           "turned the cell phone"
          ],
          [
           "Once Carmen and"
          ],
          [
           "as the driver"
          ],
          [
           "man had a strange"
          ],
          [
           "the buzzing of insects"
          ],
          [
           "She had even begun"
          ],
          [
           "known about the fever"
          ],
          [
           "in his eyes."
          ],
          [
           "enormous help."
          ],
          [
           "hacking cough."
          ],
          [
           "patients had recovered,"
          ],
          [
           "the tiny airport"
          ],
          [
           "spare a couple of months,"
          ],
          [
           "Carmen"
          ],
          [
           "treating him with medication,"
          ],
          [
           "away."
          ],
          [
           "genuine appreciation"
          ],
          [
           "and the women cooked"
          ],
          [
           "confused."
          ],
          [
           "had been so welcoming."
          ],
          [
           "filling out medical"
          ],
          [
           "very much for coming to"
          ],
          [
           "tying her to Chicago."
          ],
          [
           "Alba, Maria"
          ],
          [
           "woman named"
          ],
          [
           "and back,"
          ],
          [
           "them just as interesting"
          ],
          [
           "He"
          ],
          [
           "in the evening to wait for"
          ],
          [
           "night."
          ],
          [
           "got worse."
          ],
          [
           "One morning,"
          ],
          [
           "and soon she"
          ],
          [
           "notice."
          ],
          [
           "led her to a"
          ],
          [
           "to go check on her."
          ],
          [
           "family's hut,"
          ],
          [
           "The floor was packed"
          ],
          [
           "was the villagers only"
          ],
          [
           "pleased that she had"
          ],
          [
           "and the two women"
          ],
          [
           "Torreson leaving,"
          ],
          [
           "great with names."
          ],
          [
           "Carmen started"
          ],
          [
           "with hand gestures"
          ],
          [
           "Juan."
          ],
          [
           "fire"
          ],
          [
           "torn."
          ],
          [
           "Carmen a potent"
          ],
          [
           "if"
          ],
          [
           "it's solar"
          ],
          [
           "before she could change"
          ],
          [
           "expression on his face."
          ],
          [
           "Just as she was about"
          ],
          [
           "to panic."
          ],
          [
           "serve our village."
          ],
          [
           "and grabbed it on instinct."
          ],
          [
           "if she stayed."
          ],
          [
           "and squinted at her"
          ],
          [
           "was a young man that she"
          ],
          [
           "sure if the disease"
          ],
          [
           "name on it."
          ],
          [
           "to sunlight"
          ],
          [
           "The girl"
          ],
          [
           "stood around small"
          ],
          [
           "anything about it in"
          ],
          [
           "and she pushed open"
          ],
          [
           "music,"
          ],
          [
           "in what seemed"
          ],
          [
           "She was enjoying"
          ],
          [
           "Carmen headed back"
          ],
          [
           "filling her"
          ],
          [
           "break, she"
          ],
          [
           "but they have not"
          ],
          [
           "was around, he could"
          ],
          [
           "weather: The"
          ],
          [
           "at her with huge"
          ],
          [
           "The two men stood"
          ]
         ],
         "hovertemplate": "t-SNE 1=%{x}<br>t-SNE 2=%{y}<br>text_preview=%{customdata[0]}<extra></extra>",
         "legendgroup": "",
         "marker": {
          "color": "#636efa",
          "symbol": "circle",
          "opacity": 0.7,
          "size": 4
         },
         "mode": "markers",
         "name": "",
         "orientation": "v",
         "showlegend": false,
         "x": {
          "dtype": "f4",
          "bdata": "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"
         },
         "xaxis": "x",
         "y": {
          "dtype": "f4",
          "bdata": "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"
         },
         "yaxis": "y",
         "type": "scatter"
        }
       ],
       "layout": {
        "template": {
         "data": {
          "histogram2dcontour": [
           {
            "type": "histogram2dcontour",
            "colorbar": {
             "outlinewidth": 0,
             "ticks": ""
            },
            "colorscale": [
             [
              0.0,
              "#0d0887"
             ],
             [
              0.1111111111111111,
              "#46039f"
             ],
             [
              0.2222222222222222,
              "#7201a8"
             ],
             [
              0.3333333333333333,
              "#9c179e"
             ],
             [
              0.4444444444444444,
              "#bd3786"
             ],
             [
              0.5555555555555556,
              "#d8576b"
             ],
             [
              0.6666666666666666,
              "#ed7953"
             ],
             [
              0.7777777777777778,
              "#fb9f3a"
             ],
             [
              0.8888888888888888,
              "#fdca26"
             ],
             [
              1.0,
              "#f0f921"
             ]
            ]
           }
          ],
          "choropleth": [
           {
            "type": "choropleth",
            "colorbar": {
             "outlinewidth": 0,
             "ticks": ""
            }
           }
          ],
          "histogram2d": [
           {
            "type": "histogram2d",
            "colorbar": {
             "outlinewidth": 0,
             "ticks": ""
            },
            "colorscale": [
             [
              0.0,
              "#0d0887"
             ],
             [
              0.1111111111111111,
              "#46039f"
             ],
             [
              0.2222222222222222,
              "#7201a8"
             ],
             [
              0.3333333333333333,
              "#9c179e"
             ],
             [
              0.4444444444444444,
              "#bd3786"
             ],
             [
              0.5555555555555556,
              "#d8576b"
             ],
             [
              0.6666666666666666,
              "#ed7953"
             ],
             [
              0.7777777777777778,
              "#fb9f3a"
             ],
             [
              0.8888888888888888,
              "#fdca26"
             ],
             [
              1.0,
              "#f0f921"
             ]
            ]
           }
          ],
          "heatmap": [
           {
            "type": "heatmap",
            "colorbar": {
             "outlinewidth": 0,
             "ticks": ""
            },
            "colorscale": [
             [
              0.0,
              "#0d0887"
             ],
             [
              0.1111111111111111,
              "#46039f"
             ],
             [
              0.2222222222222222,
              "#7201a8"
             ],
             [
              0.3333333333333333,
              "#9c179e"
             ],
             [
              0.4444444444444444,
              "#bd3786"
             ],
             [
              0.5555555555555556,
              "#d8576b"
             ],
             [
              0.6666666666666666,
              "#ed7953"
             ],
             [
              0.7777777777777778,
              "#fb9f3a"
             ],
             [
              0.8888888888888888,
              "#fdca26"
             ],
             [
              1.0,
              "#f0f921"
             ]
            ]
           }
          ],
          "contourcarpet": [
           {
            "type": "contourcarpet",
            "colorbar": {
             "outlinewidth": 0,
             "ticks": ""
            }
           }
          ],
          "contour": [
           {
            "type": "contour",
            "colorbar": {
             "outlinewidth": 0,
             "ticks": ""
            },
            "colorscale": [
             [
              0.0,
              "#0d0887"
             ],
             [
              0.1111111111111111,
              "#46039f"
             ],
             [
              0.2222222222222222,
              "#7201a8"
             ],
             [
              0.3333333333333333,
              "#9c179e"
             ],
             [
              0.4444444444444444,
              "#bd3786"
             ],
             [
              0.5555555555555556,
              "#d8576b"
             ],
             [
              0.6666666666666666,
              "#ed7953"
             ],
             [
              0.7777777777777778,
              "#fb9f3a"
             ],
             [
              0.8888888888888888,
              "#fdca26"
             ],
             [
              1.0,
              "#f0f921"
             ]
            ]
           }
          ],
          "surface": [
           {
            "type": "surface",
            "colorbar": {
             "outlinewidth": 0,
             "ticks": ""
            },
            "colorscale": [
             [
              0.0,
              "#0d0887"
             ],
             [
              0.1111111111111111,
              "#46039f"
             ],
             [
              0.2222222222222222,
              "#7201a8"
             ],
             [
              0.3333333333333333,
              "#9c179e"
             ],
             [
              0.4444444444444444,
              "#bd3786"
             ],
             [
              0.5555555555555556,
              "#d8576b"
             ],
             [
              0.6666666666666666,
              "#ed7953"
             ],
             [
              0.7777777777777778,
              "#fb9f3a"
             ],
             [
              0.8888888888888888,
              "#fdca26"
             ],
             [
              1.0,
              "#f0f921"
             ]
            ]
           }
          ],
          "mesh3d": [
           {
            "type": "mesh3d",
            "colorbar": {
             "outlinewidth": 0,
             "ticks": ""
            }
           }
          ],
          "scatter": [
           {
            "marker": {
             "line": {
              "color": "#283442"
             }
            },
            "type": "scatter"
           }
          ],
          "parcoords": [
           {
            "type": "parcoords",
            "line": {
             "colorbar": {
              "outlinewidth": 0,
              "ticks": ""
             }
            }
           }
          ],
          "scatterpolargl": [
           {
            "type": "scatterpolargl",
            "marker": {
             "colorbar": {
              "outlinewidth": 0,
              "ticks": ""
             }
            }
           }
          ],
          "bar": [
           {
            "error_x": {
             "color": "#f2f5fa"
            },
            "error_y": {
             "color": "#f2f5fa"
            },
            "marker": {
             "line": {
              "color": "rgb(17,17,17)",
              "width": 0.5
             },
             "pattern": {
              "fillmode": "overlay",
              "size": 10,
              "solidity": 0.2
             }
            },
            "type": "bar"
           }
          ],
          "scattergeo": [
           {
            "type": "scattergeo",
            "marker": {
             "colorbar": {
              "outlinewidth": 0,
              "ticks": ""
             }
            }
           }
          ],
          "scatterpolar": [
           {
            "type": "scatterpolar",
            "marker": {
             "colorbar": {
              "outlinewidth": 0,
              "ticks": ""
             }
            }
           }
          ],
          "histogram": [
           {
            "marker": {
             "pattern": {
              "fillmode": "overlay",
              "size": 10,
              "solidity": 0.2
             }
            },
            "type": "histogram"
           }
          ],
          "scattergl": [
           {
            "marker": {
             "line": {
              "color": "#283442"
             }
            },
            "type": "scattergl"
           }
          ],
          "scatter3d": [
           {
            "type": "scatter3d",
            "line": {
             "colorbar": {
              "outlinewidth": 0,
              "ticks": ""
             }
            },
            "marker": {
             "colorbar": {
              "outlinewidth": 0,
              "ticks": ""
             }
            }
           }
          ],
          "scattermap": [
           {
            "type": "scattermap",
            "marker": {
             "colorbar": {
              "outlinewidth": 0,
              "ticks": ""
             }
            }
           }
          ],
          "scattermapbox": [
           {
            "type": "scattermapbox",
            "marker": {
             "colorbar": {
              "outlinewidth": 0,
              "ticks": ""
             }
            }
           }
          ],
          "scatterternary": [
           {
            "type": "scatterternary",
            "marker": {
             "colorbar": {
              "outlinewidth": 0,
              "ticks": ""
             }
            }
           }
          ],
          "scattercarpet": [
           {
            "type": "scattercarpet",
            "marker": {
             "colorbar": {
              "outlinewidth": 0,
              "ticks": ""
             }
            }
           }
          ],
          "carpet": [
           {
            "aaxis": {
             "endlinecolor": "#A2B1C6",
             "gridcolor": "#506784",
             "linecolor": "#506784",
             "minorgridcolor": "#506784",
             "startlinecolor": "#A2B1C6"
            },
            "baxis": {
             "endlinecolor": "#A2B1C6",
             "gridcolor": "#506784",
             "linecolor": "#506784",
             "minorgridcolor": "#506784",
             "startlinecolor": "#A2B1C6"
            },
            "type": "carpet"
           }
          ],
          "table": [
           {
            "cells": {
             "fill": {
              "color": "#506784"
             },
             "line": {
              "color": "rgb(17,17,17)"
             }
            },
            "header": {
             "fill": {
              "color": "#2a3f5f"
             },
             "line": {
              "color": "rgb(17,17,17)"
             }
            },
            "type": "table"
           }
          ],
          "barpolar": [
           {
            "marker": {
             "line": {
              "color": "rgb(17,17,17)",
              "width": 0.5
             },
             "pattern": {
              "fillmode": "overlay",
              "size": 10,
              "solidity": 0.2
             }
            },
            "type": "barpolar"
           }
          ],
          "pie": [
           {
            "automargin": true,
            "type": "pie"
           }
          ]
         },
         "layout": {
          "autotypenumbers": "strict",
          "colorway": [
           "#636efa",
           "#EF553B",
           "#00cc96",
           "#ab63fa",
           "#FFA15A",
           "#19d3f3",
           "#FF6692",
           "#B6E880",
           "#FF97FF",
           "#FECB52"
          ],
          "font": {
           "color": "#f2f5fa"
          },
          "hovermode": "closest",
          "hoverlabel": {
           "align": "left"
          },
          "paper_bgcolor": "rgb(17,17,17)",
          "plot_bgcolor": "rgb(17,17,17)",
          "polar": {
           "bgcolor": "rgb(17,17,17)",
           "angularaxis": {
            "gridcolor": "#506784",
            "linecolor": "#506784",
            "ticks": ""
           },
           "radialaxis": {
            "gridcolor": "#506784",
            "linecolor": "#506784",
            "ticks": ""
           }
          },
          "ternary": {
           "bgcolor": "rgb(17,17,17)",
           "aaxis": {
            "gridcolor": "#506784",
            "linecolor": "#506784",
            "ticks": ""
           },
           "baxis": {
            "gridcolor": "#506784",
            "linecolor": "#506784",
            "ticks": ""
           },
           "caxis": {
            "gridcolor": "#506784",
            "linecolor": "#506784",
            "ticks": ""
           }
          },
          "coloraxis": {
           "colorbar": {
            "outlinewidth": 0,
            "ticks": ""
           }
          },
          "colorscale": {
           "sequential": [
            [
             0.0,
             "#0d0887"
            ],
            [
             0.1111111111111111,
             "#46039f"
            ],
            [
             0.2222222222222222,
             "#7201a8"
            ],
            [
             0.3333333333333333,
             "#9c179e"
            ],
            [
             0.4444444444444444,
             "#bd3786"
            ],
            [
             0.5555555555555556,
             "#d8576b"
            ],
            [
             0.6666666666666666,
             "#ed7953"
            ],
            [
             0.7777777777777778,
             "#fb9f3a"
            ],
            [
             0.8888888888888888,
             "#fdca26"
            ],
            [
             1.0,
             "#f0f921"
            ]
           ],
           "sequentialminus": [
            [
             0.0,
             "#0d0887"
            ],
            [
             0.1111111111111111,
             "#46039f"
            ],
            [
             0.2222222222222222,
             "#7201a8"
            ],
            [
             0.3333333333333333,
             "#9c179e"
            ],
            [
             0.4444444444444444,
             "#bd3786"
            ],
            [
             0.5555555555555556,
             "#d8576b"
            ],
            [
             0.6666666666666666,
             "#ed7953"
            ],
            [
             0.7777777777777778,
             "#fb9f3a"
            ],
            [
             0.8888888888888888,
             "#fdca26"
            ],
            [
             1.0,
             "#f0f921"
            ]
           ],
           "diverging": [
            [
             0,
             "#8e0152"
            ],
            [
             0.1,
             "#c51b7d"
            ],
            [
             0.2,
             "#de77ae"
            ],
            [
             0.3,
             "#f1b6da"
            ],
            [
             0.4,
             "#fde0ef"
            ],
            [
             0.5,
             "#f7f7f7"
            ],
            [
             0.6,
             "#e6f5d0"
            ],
            [
             0.7,
             "#b8e186"
            ],
            [
             0.8,
             "#7fbc41"
            ],
            [
             0.9,
             "#4d9221"
            ],
            [
             1,
             "#276419"
            ]
           ]
          },
          "xaxis": {
           "gridcolor": "#283442",
           "linecolor": "#506784",
           "ticks": "",
           "title": {
            "standoff": 15
           },
           "zerolinecolor": "#283442",
           "automargin": true,
           "zerolinewidth": 2
          },
          "yaxis": {
           "gridcolor": "#283442",
           "linecolor": "#506784",
           "ticks": "",
           "title": {
            "standoff": 15
           },
           "zerolinecolor": "#283442",
           "automargin": true,
           "zerolinewidth": 2
          },
          "scene": {
           "xaxis": {
            "backgroundcolor": "rgb(17,17,17)",
            "gridcolor": "#506784",
            "linecolor": "#506784",
            "showbackground": true,
            "ticks": "",
            "zerolinecolor": "#C8D4E3",
            "gridwidth": 2
           },
           "yaxis": {
            "backgroundcolor": "rgb(17,17,17)",
            "gridcolor": "#506784",
            "linecolor": "#506784",
            "showbackground": true,
            "ticks": "",
            "zerolinecolor": "#C8D4E3",
            "gridwidth": 2
           },
           "zaxis": {
            "backgroundcolor": "rgb(17,17,17)",
            "gridcolor": "#506784",
            "linecolor": "#506784",
            "showbackground": true,
            "ticks": "",
            "zerolinecolor": "#C8D4E3",
            "gridwidth": 2
           }
          },
          "shapedefaults": {
           "line": {
            "color": "#f2f5fa"
           }
          },
          "annotationdefaults": {
           "arrowcolor": "#f2f5fa",
           "arrowhead": 0,
           "arrowwidth": 1
          },
          "geo": {
           "bgcolor": "rgb(17,17,17)",
           "landcolor": "rgb(17,17,17)",
           "subunitcolor": "#506784",
           "showland": true,
           "showlakes": true,
           "lakecolor": "rgb(17,17,17)"
          },
          "title": {
           "x": 0.05
          },
          "updatemenudefaults": {
           "bgcolor": "#506784",
           "borderwidth": 0
          },
          "sliderdefaults": {
           "bgcolor": "#C8D4E3",
           "borderwidth": 1,
           "bordercolor": "rgb(17,17,17)",
           "tickwidth": 0
          },
          "mapbox": {
           "style": "dark"
          }
         }
        },
        "xaxis": {
         "anchor": "y",
         "domain": [
          0.0,
          1.0
         ],
         "title": {
          "text": "t-SNE 1"
         }
        },
        "yaxis": {
         "anchor": "x",
         "domain": [
          0.0,
          1.0
         ],
         "title": {
          "text": "t-SNE 2"
         }
        },
        "legend": {
         "tracegroupgap": 0
        },
        "title": {
         "text": "t-SNE Embedding Visualization"
        }
       },
       "config": {
        "plotlyServerURL": "https://plot.ly"
       }
      }
     },
     "metadata": {},
     "output_type": "display_data"
    },
    {
     "data": {
      "application/vnd.plotly.v1+json": {
       "data": [
        {
         "customdata": [
          [
           "along in the illness as"
          ],
          [
           "but she did not mind"
          ],
          [
           "them."
          ],
          [
           "struggled to keep"
          ],
          [
           "long had Alba been"
          ],
          [
           "when she got back."
          ],
          [
           "that is strictly"
          ],
          [
           "hands preparing"
          ],
          [
           "Alba"
          ],
          [
           "at her chest"
          ],
          [
           "As"
          ],
          [
           "Just as she managed"
          ],
          [
           "Her hut was near"
          ],
          [
           "phone."
          ],
          [
           "what appeared to be the village"
          ],
          [
           "powered charger."
          ],
          [
           "my heart to leave this"
          ],
          [
           "privacy,"
          ],
          [
           "but one"
          ],
          [
           "looked out over"
          ],
          [
           "the village in daylight."
          ],
          [
           "and"
          ],
          [
           "over her cell phone"
          ],
          [
           "away."
          ],
          [
           "stopped talking,"
          ],
          [
           "to send us replacement"
          ],
          [
           "was a delicate"
          ],
          [
           "It was nearly pitch"
          ],
          [
           "but nothing seemed"
          ],
          [
           "She had no idea"
          ],
          [
           "the best she could,"
          ],
          [
           "reminded her why she"
          ],
          [
           "A week"
          ],
          [
           "Carmen said"
          ],
          [
           "dirt."
          ],
          [
           "she called, surprised."
          ],
          [
           "sky was overcast,"
          ],
          [
           "his name - but"
          ],
          [
           "fever medication."
          ],
          [
           "accent, his English"
          ],
          [
           "lots of"
          ],
          [
           "a carpet of blue green"
          ],
          [
           "indigestion."
          ],
          [
           "pork."
          ],
          [
           "the last of her anti"
          ],
          [
           "to the back."
          ],
          [
           "table."
          ],
          [
           "with."
          ],
          [
           "there was a festival in"
          ],
          [
           "There was no reason"
          ],
          [
           "[\"before'.]"
          ],
          [
           "the authorities to stop"
          ],
          [
           "Carmen"
          ],
          [
           "that replacement shipment"
          ],
          [
           "say."
          ],
          [
           "of the village,"
          ],
          [
           "in her office"
          ],
          [
           "Carmen with gifts."
          ],
          [
           "that if she hiked to the top"
          ],
          [
           "felt horribly guilty"
          ],
          [
           "her outside,"
          ],
          [
           "known?"
          ],
          [
           "her help"
          ],
          [
           "and returned home"
          ],
          [
           "with the strange"
          ],
          [
           "he was a classmate of Carmen"
          ],
          [
           "a long day at"
          ],
          [
           "Carmen"
          ],
          [
           "These were the moments that"
          ],
          [
           "That"
          ],
          [
           "whom Carmen did not recognize"
          ],
          [
           "her for long time."
          ],
          [
           "loggers working"
          ],
          [
           "picked up words amazingly"
          ],
          [
           "the busy clinic in"
          ],
          [
           "who spoke broken"
          ],
          [
           "more out of curiosity,"
          ],
          [
           "shore."
          ],
          [
           "once Antonio started"
          ],
          [
           "sign of civilization"
          ],
          [
           "doctor"
          ],
          [
           "Carmen felt frustrated"
          ],
          [
           "the lantern on the table."
          ],
          [
           "and bowed out of the"
          ],
          [
           "Suddenly,"
          ],
          [
           "that led to the river."
          ],
          [
           "rainforest."
          ],
          [
           "and stared out at the muddy"
          ],
          [
           "in the Amazon jungle,"
          ],
          [
           "sat on a rock"
          ],
          [
           "When Carmen noticed"
          ],
          [
           "night in her hut,"
          ],
          [
           "Her voice"
          ],
          [
           "Carmen"
          ],
          [
           "her shoulder to see the"
          ],
          [
           "into the evening,"
          ],
          [
           "He still had"
          ],
          [
           "Why  had not she"
          ],
          [
           "Stepping out onto the runway,"
          ],
          [
           "placed directly"
          ],
          [
           "turned to stare"
          ],
          [
           "to personally thank"
          ],
          [
           "doctor could be found"
          ],
          [
           "whistled to himself."
          ],
          [
           "to follow him."
          ],
          [
           "most of"
          ],
          [
           "onto a side street"
          ],
          [
           "By this"
          ],
          [
           "Maldonado,"
          ],
          [
           "no answer."
          ],
          [
           "he added apologetically."
          ],
          [
           "When Carmen gave"
          ],
          [
           "he spoke with a heavy"
          ],
          [
           "was released from"
          ],
          [
           "anything like this."
          ],
          [
           "across her chest"
          ],
          [
           "She wanted to know"
          ],
          [
           "down a narrow path"
          ],
          [
           "with this fever?"
          ],
          [
           "thought she noticed"
          ],
          [
           "at Carmen."
          ],
          [
           "Just a few days later,"
          ],
          [
           "that having a foreigner"
          ],
          [
           "winter was enough"
          ],
          [
           "them right away, but"
          ],
          [
           "and"
          ],
          [
           "were still quite mysterious"
          ],
          [
           "Dr. Torreson"
          ],
          [
           "the man looked up at her."
          ],
          [
           "had a nasty,"
          ],
          [
           "come and see what was"
          ],
          [
           "handing her a"
          ],
          [
           "the rainy season,"
          ],
          [
           "with a strange fever."
          ],
          [
           "She"
          ],
          [
           "something important."
          ],
          [
           "Even"
          ],
          [
           "he told her  he had put"
          ],
          [
           "Intrigued,"
          ],
          [
           "His forehead"
          ],
          [
           "and she"
          ],
          [
           "was baffled, and a little"
          ],
          [
           "The patient was an older"
          ],
          [
           "it was not her fault,"
          ],
          [
           "shy in the beginning,"
          ],
          [
           "Carmen noticed a"
          ],
          [
           "the villagers  were not telling"
          ],
          [
           "she rushed over to"
          ],
          [
           "child"
          ],
          [
           "girl continued to stare"
          ],
          [
           "make do with small"
          ],
          [
           "was boarding her plane"
          ],
          [
           "a very long time,"
          ],
          [
           "fires, smoking"
          ],
          [
           "but none did."
          ],
          [
           "When he saw"
          ],
          [
           "bag of supplies"
          ],
          [
           "a deep sleep."
          ],
          [
           "her breakfast, folding"
          ],
          [
           "Carmen opened"
          ],
          [
           "help,"
          ],
          [
           "Carmen sat down"
          ],
          [
           "with a seat attached"
          ],
          [
           "frightened the girl"
          ],
          [
           "as"
          ],
          [
           "According"
          ],
          [
           "of water, but Maria"
          ],
          [
           "he said."
          ],
          [
           "Senor Torreson,"
          ],
          [
           "the better of her,"
          ],
          [
           "was drowned out by"
          ],
          [
           "it over."
          ],
          [
           "medical clinic for the villagers."
          ],
          [
           "conversing with his"
          ],
          [
           "a bed frame,"
          ],
          [
           "bed"
          ],
          [
           "She"
          ],
          [
           "trees, with"
          ],
          [
           "Carmen"
          ],
          [
           "looked down eagerly"
          ],
          [
           "in leaves and twine."
          ],
          [
           "before she came,"
          ],
          [
           "from medical school."
          ],
          [
           "she was."
          ],
          [
           "and a breakfast of mashed"
          ],
          [
           "brown eyes."
          ],
          [
           "handmade necklace."
          ],
          [
           "left the clinic,"
          ],
          [
           "Was the fever contagious?"
          ],
          [
           "giving Carmen"
          ],
          [
           "Carmen"
          ],
          [
           "eyes."
          ],
          [
           "Alba motioned"
          ],
          [
           "mattress and a small"
          ],
          [
           "to invade the  family's"
          ],
          [
           "like this before."
          ],
          [
           "Hello, Dr."
          ],
          [
           "fever came to"
          ],
          [
           "The"
          ],
          [
           "with thatched"
          ],
          [
           "our satellite phone is"
          ],
          [
           "on a table near"
          ],
          [
           "Yes"
          ],
          [
           "evening, Juan"
          ],
          [
           "Along with the"
          ],
          [
           "wooden slats of the"
          ],
          [
           "Here, we would"
          ],
          [
           "was very good."
          ],
          [
           "and with Dr."
          ],
          [
           "Dr. Torreson?"
          ],
          [
           "through the town"
          ],
          [
           "you like this, but there is"
          ],
          [
           "I need your"
          ],
          [
           "gasped, and"
          ],
          [
           "of her hut."
          ],
          [
           "She"
          ],
          [
           "that what came out"
          ],
          [
           "to be nightmares."
          ],
          [
           "as they found her."
          ],
          [
           "As the plane"
          ],
          [
           "Carmen pictured"
          ],
          [
           "pointing at his chest."
          ],
          [
           "started to descend,"
          ],
          [
           "a house, her"
          ],
          [
           "covered by a thin"
          ],
          [
           "You should rest now."
          ],
          [
           "Traumatized and"
          ],
          [
           "Their clothing was more"
          ],
          [
           "below"
          ],
          [
           "the driver set"
          ],
          [
           "That is okay"
          ],
          [
           "moment, so"
          ],
          [
           "here."
          ],
          [
           "She would have to"
          ],
          [
           "the two usually ended"
          ],
          [
           "she had seen"
          ],
          [
           "her for curing his"
          ],
          [
           "the foreign woman"
          ],
          [
           "and wanted to leave"
          ],
          [
           "over in her mind."
          ],
          [
           "like Alba."
          ],
          [
           "the river."
          ],
          [
           "to have cured the man."
          ],
          [
           "to a river."
          ],
          [
           "Sunday morning tennis"
          ],
          [
           "was full of sights"
          ],
          [
           "As soon"
          ],
          [
           "hut."
          ],
          [
           "of medicines,"
          ],
          [
           "started."
          ],
          [
           "of Spanish"
          ],
          [
           "Carmen asked"
          ],
          [
           "For a brief"
          ],
          [
           "Besides,"
          ],
          [
           "if Carmen could"
          ],
          [
           "On"
          ],
          [
           "and Carmen got"
          ],
          [
           "patches of mud"
          ],
          [
           "tended to Ramiro"
          ],
          [
           "had a feeling that many"
          ],
          [
           "that she had done"
          ],
          [
           "layover in Lima,"
          ],
          [
           "teaching the girl to"
          ],
          [
           "coughing and"
          ],
          [
           "clothes,"
          ],
          [
           "would find it very rewarding."
          ],
          [
           "she called for Alba."
          ],
          [
           "that she"
          ],
          [
           "of breath, she"
          ],
          [
           "At a point,"
          ],
          [
           "did not come by the next"
          ],
          [
           "She knocked"
          ],
          [
           "bonfire,"
          ],
          [
           "Concerned."
          ],
          [
           "once,"
          ],
          [
           "may need to keep it for"
          ],
          [
           "Dr. Carmen"
          ],
          [
           "her clothes,"
          ],
          [
           "Juan said"
          ],
          [
           "supplies,"
          ],
          [
           "the village carried his"
          ],
          [
           "her chest."
          ],
          [
           "of bandages."
          ],
          [
           "had come from another"
          ],
          [
           "game"
          ],
          [
           "to care for them."
          ],
          [
           "moment Carmen"
          ],
          [
           "of this fever."
          ],
          [
           "who also"
          ],
          [
           "Torreson wrote,"
          ],
          [
           "heard footsteps"
          ],
          [
           "But, Dr."
          ],
          [
           "Antonio"
          ],
          [
           "dodging vines"
          ],
          [
           "I really hope you consider"
          ],
          [
           "goods"
          ],
          [
           "and Carmen"
          ],
          [
           "was a garbled yell."
          ],
          [
           "Carmen"
          ],
          [
           "in the order right"
          ],
          [
           "The organization"
          ],
          [
           "had friends"
          ],
          [
           "rainy season."
          ],
          [
           "Soon,"
          ],
          [
           "a thermometer"
          ],
          [
           "nervous and excited."
          ],
          [
           "how long she had slept."
          ],
          [
           "clinic to retrieve"
          ],
          [
           "has promised"
          ],
          [
           "the"
          ],
          [
           "of steamy air hit"
          ],
          [
           "that day."
          ],
          [
           "but he  did not yet have"
          ],
          [
           "We must contact"
          ],
          [
           "mix of leaves in"
          ],
          [
           "meats and stirring"
          ],
          [
           "water."
          ],
          [
           "she was familiar"
          ],
          [
           "As she turned"
          ],
          [
           "holding up her hands,"
          ],
          [
           "Carmen"
          ],
          [
           "it breaks"
          ],
          [
           "said, eager to get"
          ],
          [
           "realized that Alba"
          ],
          [
           "disappeared."
          ],
          [
           "At times,"
          ],
          [
           "after Carmen"
          ],
          [
           "not returned her cell"
          ],
          [
           "decorative than most"
          ],
          [
           "arrived yet."
          ],
          [
           "talked for a long time."
          ],
          [
           "jungle."
          ],
          [
           "but also"
          ],
          [
           "already gone."
          ],
          [
           "help?"
          ],
          [
           "She was taken"
          ],
          [
           "then went to her"
          ],
          [
           "Carmen"
          ],
          [
           "Lost"
          ],
          [
           "ran around them,"
          ],
          [
           "turned the boat toward"
          ],
          [
           "Worried and lonely,"
          ],
          [
           "a lantern."
          ],
          [
           "caught her eye:"
          ],
          [
           "ground."
          ],
          [
           "for us, he said,"
          ],
          [
           "been in the village for about"
          ],
          [
           "like nothing Carmen had"
          ],
          [
           "they hung up,"
          ],
          [
           "Carmen spent"
          ],
          [
           "certain aspects"
          ],
          [
           "There was little"
          ],
          [
           "Maria she should"
          ],
          [
           "Carmen"
          ],
          [
           "reasoned that the girl"
          ],
          [
           "she returned to the clinic"
          ],
          [
           "fast"
          ],
          [
           "a delicious feast."
          ],
          [
           "over the young  mans death."
          ],
          [
           "table"
          ],
          [
           "felt anxious"
          ],
          [
           "On the day Ramiro"
          ],
          [
           "for the victims"
          ],
          [
           "any more than that, she"
          ],
          [
           "Arriving"
          ],
          [
           "Alba more and more."
          ],
          [
           "to the United States"
          ],
          [
           "Another week went by."
          ],
          [
           "her walk to the clinic,"
          ],
          [
           "named Dr."
          ],
          [
           "huge baskets of"
          ],
          [
           "Had Dr. Torreson"
          ],
          [
           "flipflops carrying"
          ],
          [
           "Spanish and wore funny"
          ],
          [
           "stood there, holding"
          ],
          [
           "she had brought with her"
          ],
          [
           "cough."
          ],
          [
           "with Carmen slow"
          ],
          [
           "The clinic"
          ],
          [
           "she left now, the"
          ],
          [
           "to get her to drink."
          ],
          [
           "need to take your cell"
          ],
          [
           "was the only way to get medical"
          ],
          [
           "What if this was an"
          ],
          [
           "Carmen, he smiled"
          ],
          [
           "Hours passed"
          ],
          [
           "Chicago where she worked,"
          ],
          [
           "up playing games"
          ],
          [
           "It had been"
          ],
          [
           "the time spent with"
          ],
          [
           "Carmen gave"
          ],
          [
           "or telling stories instead."
          ],
          [
           "Carmen"
          ],
          [
           "patient came to the clinic"
          ],
          [
           "email's strange"
          ],
          [
           "broadly."
          ],
          [
           "A woman and"
          ],
          [
           "When Juan noticed"
          ],
          [
           "had not come by that"
          ],
          [
           "No, Juan said."
          ],
          [
           "adventure."
          ],
          [
           "community."
          ],
          [
           "she walked over to them,"
          ],
          [
           "said pointing"
          ],
          [
           "terminal, a man"
          ],
          [
           "to think about leaving"
          ],
          [
           "of humid air."
          ],
          [
           "would not say."
          ],
          [
           "it was the start of the"
          ],
          [
           "he needed to return"
          ],
          [
           "She was embarrassed"
          ],
          [
           "Carmen face,"
          ],
          [
           "Torreson wrote,"
          ],
          [
           "Inside were a few"
          ],
          [
           "head ashamed"
          ],
          [
           "women in"
          ],
          [
           "to be as far"
          ],
          [
           "at the edge of the Amazon"
          ],
          [
           "friend, Carmen"
          ],
          [
           "Whoa,"
          ],
          [
           "Carmen, but"
          ],
          [
           "Carmen  didn't"
          ],
          [
           "turned the cell phone"
          ],
          [
           "Once Carmen and"
          ],
          [
           "as the driver"
          ],
          [
           "man had a strange"
          ],
          [
           "the buzzing of insects"
          ],
          [
           "She had even begun"
          ],
          [
           "known about the fever"
          ],
          [
           "in his eyes."
          ],
          [
           "enormous help."
          ],
          [
           "hacking cough."
          ],
          [
           "patients had recovered,"
          ],
          [
           "the tiny airport"
          ],
          [
           "spare a couple of months,"
          ],
          [
           "Carmen"
          ],
          [
           "treating him with medication,"
          ],
          [
           "away."
          ],
          [
           "genuine appreciation"
          ],
          [
           "and the women cooked"
          ],
          [
           "confused."
          ],
          [
           "had been so welcoming."
          ],
          [
           "filling out medical"
          ],
          [
           "very much for coming to"
          ],
          [
           "tying her to Chicago."
          ],
          [
           "Alba, Maria"
          ],
          [
           "woman named"
          ],
          [
           "and back,"
          ],
          [
           "them just as interesting"
          ],
          [
           "He"
          ],
          [
           "in the evening to wait for"
          ],
          [
           "night."
          ],
          [
           "got worse."
          ],
          [
           "One morning,"
          ],
          [
           "and soon she"
          ],
          [
           "notice."
          ],
          [
           "led her to a"
          ],
          [
           "to go check on her."
          ],
          [
           "family's hut,"
          ],
          [
           "The floor was packed"
          ],
          [
           "was the villagers only"
          ],
          [
           "pleased that she had"
          ],
          [
           "and the two women"
          ],
          [
           "Torreson leaving,"
          ],
          [
           "great with names."
          ],
          [
           "Carmen started"
          ],
          [
           "with hand gestures"
          ],
          [
           "Juan."
          ],
          [
           "fire"
          ],
          [
           "torn."
          ],
          [
           "Carmen a potent"
          ],
          [
           "if"
          ],
          [
           "it's solar"
          ],
          [
           "before she could change"
          ],
          [
           "expression on his face."
          ],
          [
           "Just as she was about"
          ],
          [
           "to panic."
          ],
          [
           "serve our village."
          ],
          [
           "and grabbed it on instinct."
          ],
          [
           "if she stayed."
          ],
          [
           "and squinted at her"
          ],
          [
           "was a young man that she"
          ],
          [
           "sure if the disease"
          ],
          [
           "name on it."
          ],
          [
           "to sunlight"
          ],
          [
           "The girl"
          ],
          [
           "stood around small"
          ],
          [
           "anything about it in"
          ],
          [
           "and she pushed open"
          ],
          [
           "music,"
          ],
          [
           "in what seemed"
          ],
          [
           "She was enjoying"
          ],
          [
           "Carmen headed back"
          ],
          [
           "filling her"
          ],
          [
           "break, she"
          ],
          [
           "but they have not"
          ],
          [
           "was around, he could"
          ],
          [
           "weather: The"
          ],
          [
           "at her with huge"
          ],
          [
           "The two men stood"
          ]
         ],
         "hovertemplate": "PCA 1=%{x}<br>PCA 2=%{y}<br>text_preview=%{customdata[0]}<extra></extra>",
         "legendgroup": "",
         "marker": {
          "color": "#636efa",
          "symbol": "circle",
          "opacity": 0.7,
          "size": 4
         },
         "mode": "markers",
         "name": "",
         "orientation": "v",
         "showlegend": false,
         "x": {
          "dtype": "f8",
          "bdata": "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"
         },
         "xaxis": "x",
         "y": {
          "dtype": "f8",
          "bdata": "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"
         },
         "yaxis": "y",
         "type": "scatter"
        }
       ],
       "layout": {
        "template": {
         "data": {
          "histogram2dcontour": [
           {
            "type": "histogram2dcontour",
            "colorbar": {
             "outlinewidth": 0,
             "ticks": ""
            },
            "colorscale": [
             [
              0.0,
              "#0d0887"
             ],
             [
              0.1111111111111111,
              "#46039f"
             ],
             [
              0.2222222222222222,
              "#7201a8"
             ],
             [
              0.3333333333333333,
              "#9c179e"
             ],
             [
              0.4444444444444444,
              "#bd3786"
             ],
             [
              0.5555555555555556,
              "#d8576b"
             ],
             [
              0.6666666666666666,
              "#ed7953"
             ],
             [
              0.7777777777777778,
              "#fb9f3a"
             ],
             [
              0.8888888888888888,
              "#fdca26"
             ],
             [
              1.0,
              "#f0f921"
             ]
            ]
           }
          ],
          "choropleth": [
           {
            "type": "choropleth",
            "colorbar": {
             "outlinewidth": 0,
             "ticks": ""
            }
           }
          ],
          "histogram2d": [
           {
            "type": "histogram2d",
            "colorbar": {
             "outlinewidth": 0,
             "ticks": ""
            },
            "colorscale": [
             [
              0.0,
              "#0d0887"
             ],
             [
              0.1111111111111111,
              "#46039f"
             ],
             [
              0.2222222222222222,
              "#7201a8"
             ],
             [
              0.3333333333333333,
              "#9c179e"
             ],
             [
              0.4444444444444444,
              "#bd3786"
             ],
             [
              0.5555555555555556,
              "#d8576b"
             ],
             [
              0.6666666666666666,
              "#ed7953"
             ],
             [
              0.7777777777777778,
              "#fb9f3a"
             ],
             [
              0.8888888888888888,
              "#fdca26"
             ],
             [
              1.0,
              "#f0f921"
             ]
            ]
           }
          ],
          "heatmap": [
           {
            "type": "heatmap",
            "colorbar": {
             "outlinewidth": 0,
             "ticks": ""
            },
            "colorscale": [
             [
              0.0,
              "#0d0887"
             ],
             [
              0.1111111111111111,
              "#46039f"
             ],
             [
              0.2222222222222222,
              "#7201a8"
             ],
             [
              0.3333333333333333,
              "#9c179e"
             ],
             [
              0.4444444444444444,
              "#bd3786"
             ],
             [
              0.5555555555555556,
              "#d8576b"
             ],
             [
              0.6666666666666666,
              "#ed7953"
             ],
             [
              0.7777777777777778,
              "#fb9f3a"
             ],
             [
              0.8888888888888888,
              "#fdca26"
             ],
             [
              1.0,
              "#f0f921"
             ]
            ]
           }
          ],
          "contourcarpet": [
           {
            "type": "contourcarpet",
            "colorbar": {
             "outlinewidth": 0,
             "ticks": ""
            }
           }
          ],
          "contour": [
           {
            "type": "contour",
            "colorbar": {
             "outlinewidth": 0,
             "ticks": ""
            },
            "colorscale": [
             [
              0.0,
              "#0d0887"
             ],
             [
              0.1111111111111111,
              "#46039f"
             ],
             [
              0.2222222222222222,
              "#7201a8"
             ],
             [
              0.3333333333333333,
              "#9c179e"
             ],
             [
              0.4444444444444444,
              "#bd3786"
             ],
             [
              0.5555555555555556,
              "#d8576b"
             ],
             [
              0.6666666666666666,
              "#ed7953"
             ],
             [
              0.7777777777777778,
              "#fb9f3a"
             ],
             [
              0.8888888888888888,
              "#fdca26"
             ],
             [
              1.0,
              "#f0f921"
             ]
            ]
           }
          ],
          "surface": [
           {
            "type": "surface",
            "colorbar": {
             "outlinewidth": 0,
             "ticks": ""
            },
            "colorscale": [
             [
              0.0,
              "#0d0887"
             ],
             [
              0.1111111111111111,
              "#46039f"
             ],
             [
              0.2222222222222222,
              "#7201a8"
             ],
             [
              0.3333333333333333,
              "#9c179e"
             ],
             [
              0.4444444444444444,
              "#bd3786"
             ],
             [
              0.5555555555555556,
              "#d8576b"
             ],
             [
              0.6666666666666666,
              "#ed7953"
             ],
             [
              0.7777777777777778,
              "#fb9f3a"
             ],
             [
              0.8888888888888888,
              "#fdca26"
             ],
             [
              1.0,
              "#f0f921"
             ]
            ]
           }
          ],
          "mesh3d": [
           {
            "type": "mesh3d",
            "colorbar": {
             "outlinewidth": 0,
             "ticks": ""
            }
           }
          ],
          "scatter": [
           {
            "marker": {
             "line": {
              "color": "#283442"
             }
            },
            "type": "scatter"
           }
          ],
          "parcoords": [
           {
            "type": "parcoords",
            "line": {
             "colorbar": {
              "outlinewidth": 0,
              "ticks": ""
             }
            }
           }
          ],
          "scatterpolargl": [
           {
            "type": "scatterpolargl",
            "marker": {
             "colorbar": {
              "outlinewidth": 0,
              "ticks": ""
             }
            }
           }
          ],
          "bar": [
           {
            "error_x": {
             "color": "#f2f5fa"
            },
            "error_y": {
             "color": "#f2f5fa"
            },
            "marker": {
             "line": {
              "color": "rgb(17,17,17)",
              "width": 0.5
             },
             "pattern": {
              "fillmode": "overlay",
              "size": 10,
              "solidity": 0.2
             }
            },
            "type": "bar"
           }
          ],
          "scattergeo": [
           {
            "type": "scattergeo",
            "marker": {
             "colorbar": {
              "outlinewidth": 0,
              "ticks": ""
             }
            }
           }
          ],
          "scatterpolar": [
           {
            "type": "scatterpolar",
            "marker": {
             "colorbar": {
              "outlinewidth": 0,
              "ticks": ""
             }
            }
           }
          ],
          "histogram": [
           {
            "marker": {
             "pattern": {
              "fillmode": "overlay",
              "size": 10,
              "solidity": 0.2
             }
            },
            "type": "histogram"
           }
          ],
          "scattergl": [
           {
            "marker": {
             "line": {
              "color": "#283442"
             }
            },
            "type": "scattergl"
           }
          ],
          "scatter3d": [
           {
            "type": "scatter3d",
            "line": {
             "colorbar": {
              "outlinewidth": 0,
              "ticks": ""
             }
            },
            "marker": {
             "colorbar": {
              "outlinewidth": 0,
              "ticks": ""
             }
            }
           }
          ],
          "scattermap": [
           {
            "type": "scattermap",
            "marker": {
             "colorbar": {
              "outlinewidth": 0,
              "ticks": ""
             }
            }
           }
          ],
          "scattermapbox": [
           {
            "type": "scattermapbox",
            "marker": {
             "colorbar": {
              "outlinewidth": 0,
              "ticks": ""
             }
            }
           }
          ],
          "scatterternary": [
           {
            "type": "scatterternary",
            "marker": {
             "colorbar": {
              "outlinewidth": 0,
              "ticks": ""
             }
            }
           }
          ],
          "scattercarpet": [
           {
            "type": "scattercarpet",
            "marker": {
             "colorbar": {
              "outlinewidth": 0,
              "ticks": ""
             }
            }
           }
          ],
          "carpet": [
           {
            "aaxis": {
             "endlinecolor": "#A2B1C6",
             "gridcolor": "#506784",
             "linecolor": "#506784",
             "minorgridcolor": "#506784",
             "startlinecolor": "#A2B1C6"
            },
            "baxis": {
             "endlinecolor": "#A2B1C6",
             "gridcolor": "#506784",
             "linecolor": "#506784",
             "minorgridcolor": "#506784",
             "startlinecolor": "#A2B1C6"
            },
            "type": "carpet"
           }
          ],
          "table": [
           {
            "cells": {
             "fill": {
              "color": "#506784"
             },
             "line": {
              "color": "rgb(17,17,17)"
             }
            },
            "header": {
             "fill": {
              "color": "#2a3f5f"
             },
             "line": {
              "color": "rgb(17,17,17)"
             }
            },
            "type": "table"
           }
          ],
          "barpolar": [
           {
            "marker": {
             "line": {
              "color": "rgb(17,17,17)",
              "width": 0.5
             },
             "pattern": {
              "fillmode": "overlay",
              "size": 10,
              "solidity": 0.2
             }
            },
            "type": "barpolar"
           }
          ],
          "pie": [
           {
            "automargin": true,
            "type": "pie"
           }
          ]
         },
         "layout": {
          "autotypenumbers": "strict",
          "colorway": [
           "#636efa",
           "#EF553B",
           "#00cc96",
           "#ab63fa",
           "#FFA15A",
           "#19d3f3",
           "#FF6692",
           "#B6E880",
           "#FF97FF",
           "#FECB52"
          ],
          "font": {
           "color": "#f2f5fa"
          },
          "hovermode": "closest",
          "hoverlabel": {
           "align": "left"
          },
          "paper_bgcolor": "rgb(17,17,17)",
          "plot_bgcolor": "rgb(17,17,17)",
          "polar": {
           "bgcolor": "rgb(17,17,17)",
           "angularaxis": {
            "gridcolor": "#506784",
            "linecolor": "#506784",
            "ticks": ""
           },
           "radialaxis": {
            "gridcolor": "#506784",
            "linecolor": "#506784",
            "ticks": ""
           }
          },
          "ternary": {
           "bgcolor": "rgb(17,17,17)",
           "aaxis": {
            "gridcolor": "#506784",
            "linecolor": "#506784",
            "ticks": ""
           },
           "baxis": {
            "gridcolor": "#506784",
            "linecolor": "#506784",
            "ticks": ""
           },
           "caxis": {
            "gridcolor": "#506784",
            "linecolor": "#506784",
            "ticks": ""
           }
          },
          "coloraxis": {
           "colorbar": {
            "outlinewidth": 0,
            "ticks": ""
           }
          },
          "colorscale": {
           "sequential": [
            [
             0.0,
             "#0d0887"
            ],
            [
             0.1111111111111111,
             "#46039f"
            ],
            [
             0.2222222222222222,
             "#7201a8"
            ],
            [
             0.3333333333333333,
             "#9c179e"
            ],
            [
             0.4444444444444444,
             "#bd3786"
            ],
            [
             0.5555555555555556,
             "#d8576b"
            ],
            [
             0.6666666666666666,
             "#ed7953"
            ],
            [
             0.7777777777777778,
             "#fb9f3a"
            ],
            [
             0.8888888888888888,
             "#fdca26"
            ],
            [
             1.0,
             "#f0f921"
            ]
           ],
           "sequentialminus": [
            [
             0.0,
             "#0d0887"
            ],
            [
             0.1111111111111111,
             "#46039f"
            ],
            [
             0.2222222222222222,
             "#7201a8"
            ],
            [
             0.3333333333333333,
             "#9c179e"
            ],
            [
             0.4444444444444444,
             "#bd3786"
            ],
            [
             0.5555555555555556,
             "#d8576b"
            ],
            [
             0.6666666666666666,
             "#ed7953"
            ],
            [
             0.7777777777777778,
             "#fb9f3a"
            ],
            [
             0.8888888888888888,
             "#fdca26"
            ],
            [
             1.0,
             "#f0f921"
            ]
           ],
           "diverging": [
            [
             0,
             "#8e0152"
            ],
            [
             0.1,
             "#c51b7d"
            ],
            [
             0.2,
             "#de77ae"
            ],
            [
             0.3,
             "#f1b6da"
            ],
            [
             0.4,
             "#fde0ef"
            ],
            [
             0.5,
             "#f7f7f7"
            ],
            [
             0.6,
             "#e6f5d0"
            ],
            [
             0.7,
             "#b8e186"
            ],
            [
             0.8,
             "#7fbc41"
            ],
            [
             0.9,
             "#4d9221"
            ],
            [
             1,
             "#276419"
            ]
           ]
          },
          "xaxis": {
           "gridcolor": "#283442",
           "linecolor": "#506784",
           "ticks": "",
           "title": {
            "standoff": 15
           },
           "zerolinecolor": "#283442",
           "automargin": true,
           "zerolinewidth": 2
          },
          "yaxis": {
           "gridcolor": "#283442",
           "linecolor": "#506784",
           "ticks": "",
           "title": {
            "standoff": 15
           },
           "zerolinecolor": "#283442",
           "automargin": true,
           "zerolinewidth": 2
          },
          "scene": {
           "xaxis": {
            "backgroundcolor": "rgb(17,17,17)",
            "gridcolor": "#506784",
            "linecolor": "#506784",
            "showbackground": true,
            "ticks": "",
            "zerolinecolor": "#C8D4E3",
            "gridwidth": 2
           },
           "yaxis": {
            "backgroundcolor": "rgb(17,17,17)",
            "gridcolor": "#506784",
            "linecolor": "#506784",
            "showbackground": true,
            "ticks": "",
            "zerolinecolor": "#C8D4E3",
            "gridwidth": 2
           },
           "zaxis": {
            "backgroundcolor": "rgb(17,17,17)",
            "gridcolor": "#506784",
            "linecolor": "#506784",
            "showbackground": true,
            "ticks": "",
            "zerolinecolor": "#C8D4E3",
            "gridwidth": 2
           }
          },
          "shapedefaults": {
           "line": {
            "color": "#f2f5fa"
           }
          },
          "annotationdefaults": {
           "arrowcolor": "#f2f5fa",
           "arrowhead": 0,
           "arrowwidth": 1
          },
          "geo": {
           "bgcolor": "rgb(17,17,17)",
           "landcolor": "rgb(17,17,17)",
           "subunitcolor": "#506784",
           "showland": true,
           "showlakes": true,
           "lakecolor": "rgb(17,17,17)"
          },
          "title": {
           "x": 0.05
          },
          "updatemenudefaults": {
           "bgcolor": "#506784",
           "borderwidth": 0
          },
          "sliderdefaults": {
           "bgcolor": "#C8D4E3",
           "borderwidth": 1,
           "bordercolor": "rgb(17,17,17)",
           "tickwidth": 0
          },
          "mapbox": {
           "style": "dark"
          }
         }
        },
        "xaxis": {
         "anchor": "y",
         "domain": [
          0.0,
          1.0
         ],
         "title": {
          "text": "PCA 1"
         }
        },
        "yaxis": {
         "anchor": "x",
         "domain": [
          0.0,
          1.0
         ],
         "title": {
          "text": "PCA 2"
         }
        },
        "legend": {
         "tracegroupgap": 0
        },
        "title": {
         "text": "PCA Embedding Visualization (explained variance: 0.70)"
        }
       },
       "config": {
        "plotlyServerURL": "https://plot.ly"
       }
      }
     },
     "metadata": {},
     "output_type": "display_data"
    },
    {
     "name": "stdout",
     "output_type": "stream",
     "text": [
      "\n",
      "✅ Embeddings look good! Ready for CEBRA analysis.\n"
     ]
    },
    {
     "data": {
      "text/plain": [
       "(array([[-0.06433426,  0.049358  ,  0.0284998 , ...,  1.00532391,\n",
       "         -0.75986787,  0.59055148],\n",
       "        [-0.04567493,  0.00633722,  0.00670272, ..., -1.17343088,\n",
       "         -0.75986787,  0.59055148],\n",
       "        [-0.04477897,  0.07996801, -0.00450986, ..., -1.17343088,\n",
       "         -0.79263576,  0.3787057 ],\n",
       "        ...,\n",
       "        [-0.01809768, -0.02533447, -0.01309905, ...,  1.00532391,\n",
       "          1.0669421 ,  1.01424304],\n",
       "        [-0.10999466,  0.1284283 , -0.01778519, ..., -1.17343088,\n",
       "         -1.022011  , -1.10421477],\n",
       "        [-0.0313945 , -0.09264886,  0.04959343, ...,  1.00532391,\n",
       "          1.0669421 ,  1.01424304]], shape=(1182, 392)),\n",
       "       index                      token  \\\n",
       " 0         0             The email came   \n",
       " 1         1         late one afternoon   \n",
       " 2         2                     as Dr.   \n",
       " 3         3    Carmen Reed was sitting   \n",
       " 4         4              in her office   \n",
       " ...     ...                        ...   \n",
       " 1177   1177                    and she   \n",
       " 1178   1178  could be risking her life   \n",
       " 1179   1179             if she stayed.   \n",
       " 1180   1180                   What was   \n",
       " 1181   1181           she going to do?   \n",
       " \n",
       "                                          embedding_file  \n",
       " 0     embeddings_output/lightweight/embeddings_light...  \n",
       " 1     embeddings_output/lightweight/embeddings_light...  \n",
       " 2     embeddings_output/lightweight/embeddings_light...  \n",
       " 3     embeddings_output/lightweight/embeddings_light...  \n",
       " 4     embeddings_output/lightweight/embeddings_light...  \n",
       " ...                                                 ...  \n",
       " 1177  embeddings_output/lightweight/embeddings_light...  \n",
       " 1178  embeddings_output/lightweight/embeddings_light...  \n",
       " 1179  embeddings_output/lightweight/embeddings_light...  \n",
       " 1180  embeddings_output/lightweight/embeddings_light...  \n",
       " 1181  embeddings_output/lightweight/embeddings_light...  \n",
       " \n",
       " [1182 rows x 3 columns])"
      ]
     },
     "execution_count": 25,
     "metadata": {},
     "output_type": "execute_result"
    }
   ],
   "execution_count": 25
  },
  {
   "metadata": {
    "ExecuteTime": {
     "end_time": "2025-06-12T17:08:54.390451Z",
     "start_time": "2025-06-12T17:08:52.699367Z"
    }
   },
   "cell_type": "code",
   "source": "generate_analysis_report(\"./embeddings_output/lightweight\")",
   "id": "94661b18a9f9ddef",
   "outputs": [
    {
     "name": "stdout",
     "output_type": "stream",
     "text": [
      "=== EMBEDDING ANALYSIS REPORT ===\n",
      "\n",
      "Loaded embeddings: (1182, 392)\n",
      "Model: all-MiniLM-L6-v2\n",
      "Semantic dimensions: unknown\n",
      "Label features: 8\n",
      "1. BASIC STATISTICS\n",
      "------------------------------\n",
      "shape: (1182, 392)\n",
      "mean_norm: 2.9692\n",
      "std_norm: 0.4287\n",
      "sparsity: 0.0000\n",
      "dimension_variance: 0.0225\n",
      "pairwise_similarity_mean: 0.0276\n",
      "\n",
      "2. CLUSTERING ANALYSIS\n",
      "------------------------------\n"
     ]
    },
    {
     "data": {
      "text/plain": [
       "<Figure size 1200x400 with 2 Axes>"
      ],
      "image/png": "[encoded data removed]"
     },
     "metadata": {},
     "output_type": "display_data"
    },
    {
     "name": "stdout",
     "output_type": "stream",
     "text": [
      "Best k by silhouette score: 2\n",
      "\n",
      "3. EMBEDDING SPACE VISUALIZATION\n",
      "------------------------------\n",
      "Computing PCA and t-SNE...\n"
     ]
    },
    {
     "data": {
      "application/vnd.plotly.v1+json": {
       "data": [
        {
         "customdata": [
          [
           "She arranged the"
          ],
          [
           "place, but"
          ],
          [
           "She had no idea"
          ],
          [
           "Carmen suddenly felt"
          ],
          [
           "she still felt homesick"
          ],
          [
           "her shoulder to see the"
          ],
          [
           "She called Linda,"
          ],
          [
           "Carmen"
          ],
          [
           "treated any patients"
          ],
          [
           "her patients got by"
          ],
          [
           "the better of her,"
          ],
          [
           "are always being delayed,"
          ],
          [
           "was well-stocked"
          ],
          [
           "body away."
          ],
          [
           "Linda picked up,"
          ],
          [
           "Carmen thoroughly enjoyed"
          ],
          [
           "morning at breakfast,"
          ],
          [
           "Though"
          ],
          [
           "Dr. Carmen, good"
          ],
          [
           "please, Carmen"
          ],
          [
           "grateful that you came such"
          ],
          [
           "and besides,"
          ],
          [
           "Carmen"
          ],
          [
           "To"
          ],
          [
           "fever just"
          ],
          [
           "Juan repeated, looking"
          ],
          [
           "that we can monitor"
          ],
          [
           "privacy,"
          ],
          [
           "a broom made"
          ],
          [
           "Dr. Torreson"
          ],
          [
           "Carmen delight,"
          ],
          [
           "She reached for her"
          ],
          [
           "her help"
          ],
          [
           "she left now, the"
          ],
          [
           "expression on his face."
          ],
          [
           "stayed with him late"
          ],
          [
           "her for long time."
          ],
          [
           "weather: The"
          ],
          [
           "you like this, but there is"
          ],
          [
           "and she pushed open"
          ],
          [
           "played traditional"
          ],
          [
           "find his family."
          ],
          [
           "was supposed to clean for"
          ],
          [
           "We will see"
          ],
          [
           "Luckily,"
          ],
          [
           "Finally his fever"
          ],
          [
           "Each morning, she would bring"
          ],
          [
           "for Carmen to follow"
          ],
          [
           "Suddenly,"
          ],
          [
           "and"
          ],
          [
           "powered charger."
          ],
          [
           "whom Carmen did not recognize"
          ],
          [
           "in the order right"
          ],
          [
           "problems:"
          ],
          [
           "hot water,"
          ],
          [
           "that she"
          ],
          [
           "a small group of men."
          ],
          [
           "could not name."
          ],
          [
           "to send us replacement"
          ],
          [
           "over in her hands,"
          ],
          [
           "[ 'tree\"]"
          ],
          [
           "Maria she should"
          ],
          [
           "she knew."
          ],
          [
           "and Carmen"
          ],
          [
           "something important."
          ],
          [
           "She knocked"
          ],
          [
           "and grabbed it on instinct."
          ],
          [
           "Juan?"
          ],
          [
           "thought about  Alba's"
          ],
          [
           "Carmen"
          ],
          [
           "groaning and thrashing"
          ],
          [
           "in for an afternoon"
          ],
          [
           "to panic."
          ],
          [
           "her mind."
          ],
          [
           "to be nightmares."
          ],
          [
           "As she turned"
          ],
          [
           "was probably helping"
          ],
          [
           "Inside were a few"
          ],
          [
           "unsettled,"
          ],
          [
           "a bed frame,"
          ],
          [
           "laptop and quickly"
          ],
          [
           "The floor was packed"
          ],
          [
           "taken a chance on this"
          ],
          [
           "She was enjoying"
          ],
          [
           "certain aspects"
          ],
          [
           "over her cell phone"
          ],
          [
           "By this"
          ],
          [
           "Take your time,"
          ],
          [
           "She"
          ],
          [
           "accent, his English"
          ],
          [
           "table."
          ],
          [
           "Juan"
          ],
          [
           "with no signs of Alba."
          ],
          [
           "the last of her anti"
          ],
          [
           "had friends"
          ],
          [
           "Carmen began"
          ],
          [
           "and another language native"
          ],
          [
           "Carmen smiled"
          ],
          [
           "Most"
          ],
          [
           "on one elbow"
          ],
          [
           "he  had not made it through the"
          ],
          [
           "Carmen spent"
          ],
          [
           "recognized the man"
          ],
          [
           "Of course,"
          ],
          [
           "like Alba."
          ],
          [
           "in shock, but"
          ],
          [
           "following morning on"
          ],
          [
           "Come in!"
          ],
          [
           "Alba English."
          ],
          [
           "rundown motorcycle"
          ],
          [
           "He"
          ],
          [
           "he was a classmate of Carmen"
          ],
          [
           "Was the fever contagious?"
          ],
          [
           "Worried and lonely,"
          ],
          [
           "It was sent by someone"
          ],
          [
           "mouth and nostrils."
          ],
          [
           "indigestion."
          ],
          [
           "Hours passed"
          ],
          [
           "of bandages."
          ],
          [
           "had not come by that"
          ],
          [
           "At Dawn,"
          ],
          [
           "away."
          ],
          [
           "like this before."
          ],
          [
           "Carmen told Linda"
          ],
          [
           "away."
          ],
          [
           "she was."
          ],
          [
           "She would have to"
          ],
          [
           "the thought of the upcoming"
          ],
          [
           "were filled with tears."
          ],
          [
           "Intrigued,"
          ],
          [
           "the villagers  were not telling"
          ],
          [
           "according to"
          ],
          [
           "When Juan"
          ],
          [
           "That is okay"
          ],
          [
           "The noise"
          ],
          [
           "the two usually ended"
          ],
          [
           "Carmen"
          ],
          [
           "turned the cell phone"
          ],
          [
           "another man."
          ],
          [
           "Juan."
          ],
          [
           "herself."
          ],
          [
           "a second patient"
          ],
          [
           "Carmen face,"
          ],
          [
           "as they found her."
          ],
          [
           "What if this was an"
          ],
          [
           "Carmen was once again"
          ],
          [
           "her."
          ],
          [
           "I think you"
          ],
          [
           "Torreson said"
          ],
          [
           "teaching the girl to"
          ],
          [
           "After what felt like"
          ],
          [
           "mattress and a small"
          ],
          [
           "with hand gestures"
          ],
          [
           "On the other hand,"
          ],
          [
           "Carmen said."
          ],
          [
           "she was familiar"
          ],
          [
           "Carmen started to"
          ],
          [
           "to the back."
          ],
          [
           "to go check on her."
          ],
          [
           "here."
          ],
          [
           "email's strange"
          ],
          [
           "with a seat attached"
          ],
          [
           "and"
          ],
          [
           "everything she saw"
          ],
          [
           "know more about the disease"
          ],
          [
           "and the two women"
          ],
          [
           "to make a few months"
          ],
          [
           "fever."
          ],
          [
           "a thermometer"
          ],
          [
           "did not want to pressure him."
          ],
          [
           "and facial expressions."
          ],
          [
           "what had happened to Maria."
          ],
          [
           "She"
          ],
          [
           "at the attention,"
          ],
          [
           "The water was calm,"
          ],
          [
           "then went to her"
          ],
          [
           "Carmen felt"
          ],
          [
           "and she jumped back."
          ],
          [
           "You should rest now."
          ],
          [
           "was very good."
          ],
          [
           "We thank you"
          ],
          [
           "Carmen"
          ],
          [
           "Carmen"
          ],
          [
           "anything about it in"
          ],
          [
           "as Ramiro,"
          ],
          [
           "I'll be right back, she"
          ],
          [
           "in his eyes."
          ],
          [
           "At a point,"
          ],
          [
           "She was shocked to see"
          ],
          [
           "Once Carmen and"
          ],
          [
           "Sorry,"
          ],
          [
           "even mentioning"
          ],
          [
           "mostly Carmen and"
          ],
          [
           "of humid air."
          ],
          [
           "a week, a"
          ],
          [
           "of course."
          ],
          [
           "less out of health concerns"
          ],
          [
           "If Alba knew"
          ],
          [
           "that is funny."
          ],
          [
           "She was embarrassed"
          ],
          [
           "that it was Juan,"
          ],
          [
           "at her own."
          ],
          [
           "like nothing Carmen had"
          ],
          [
           "Overall,"
          ],
          [
           "more out of curiosity,"
          ],
          [
           "and half empty box"
          ],
          [
           "Nodding,"
          ],
          [
           "missed her company."
          ],
          [
           "Carmen"
          ],
          [
           "a lantern."
          ],
          [
           "Carmen"
          ],
          [
           "Lost"
          ],
          [
           "to have cured the man."
          ],
          [
           "filling her"
          ],
          [
           "reasoned that the girl"
          ],
          [
           "they were there,"
          ],
          [
           "it over."
          ],
          [
           "that replacement shipment"
          ],
          [
           "Antonio"
          ],
          [
           "fell immediately into"
          ],
          [
           "you startled me!"
          ],
          [
           "This time it"
          ],
          [
           "So far one of her"
          ],
          [
           "That"
          ],
          [
           "According"
          ],
          [
           "She looked behind"
          ],
          [
           "dodging vines"
          ],
          [
           "the nonprofit"
          ],
          [
           "treating him with medication,"
          ],
          [
           "Another week went by."
          ],
          [
           "She"
          ],
          [
           "to find that"
          ],
          [
           "she rushed over to"
          ],
          [
           "Carmen a potent"
          ],
          [
           "to her own."
          ],
          [
           "nearly screeched"
          ],
          [
           "and everyone danced late"
          ],
          [
           "was around, he could"
          ],
          [
           "Soon,"
          ],
          [
           "typed her response"
          ],
          [
           "everyone here is so"
          ],
          [
           "up, tugging her suitcase"
          ],
          [
           "winter was enough"
          ],
          [
           "sound pretty appealing."
          ],
          [
           "Carmen was happy"
          ],
          [
           "over the young  mans death."
          ],
          [
           "up playing games"
          ],
          [
           "bag of supplies"
          ],
          [
           "It dawned on her just"
          ],
          [
           "as Carmen sat down"
          ],
          [
           "and Strode over."
          ],
          [
           "had never arrived."
          ],
          [
           "like you to have this,"
          ],
          [
           "hacking cough."
          ],
          [
           "slept on one of the beds"
          ],
          [
           "You know,"
          ],
          [
           "She did not recognize"
          ],
          [
           "a sigh of relief,"
          ],
          [
           "Alba's"
          ],
          [
           "Juan said"
          ],
          [
           "Torreson had"
          ],
          [
           "The"
          ],
          [
           "continue to report"
          ],
          [
           "It dawned"
          ],
          [
           "back, feeling"
          ],
          [
           "nervous and excited."
          ],
          [
           "now, yes?"
          ],
          [
           "and Carmen was touched."
          ],
          [
           "and shook his hand."
          ],
          [
           "wildly hoped that"
          ],
          [
           "Spanish."
          ],
          [
           "He motioned for Carmen"
          ],
          [
           "Torreson wrote,"
          ],
          [
           "if she stayed."
          ],
          [
           "As soon"
          ],
          [
           "she was growing more comfortable"
          ],
          [
           "There was little"
          ],
          [
           "Juan her list"
          ],
          [
           "was the villagers only"
          ],
          [
           "Alba had brought her."
          ],
          [
           "very far from everything"
          ],
          [
           "the door,"
          ],
          [
           "the other patients"
          ],
          [
           "to follow him."
          ],
          [
           "a nonprofit organization"
          ],
          [
           "[\"she probably did not speak]"
          ],
          [
           "filling out medical"
          ],
          [
           "plantains and fried"
          ],
          [
           "trusting eyes;"
          ],
          [
           "not working. I"
          ],
          [
           "each other tomorrow."
          ],
          [
           "Alba"
          ],
          [
           "comforted by the conversation."
          ],
          [
           "But, Dr."
          ],
          [
           "up beside"
          ],
          [
           "Though"
          ],
          [
           "hit by a wave"
          ],
          [
           "The second week"
          ],
          [
           "went down."
          ],
          [
           "our satellite phone is"
          ],
          [
           "Besides,"
          ],
          [
           "and soon she"
          ],
          [
           "Alba proved"
          ],
          [
           "But the"
          ],
          [
           "wracked with guilt"
          ],
          [
           "that night Carmen thought"
          ],
          [
           "but none did."
          ],
          [
           "A week"
          ],
          [
           "there was no"
          ],
          [
           "Carmen decided"
          ],
          [
           "Alba's wide,"
          ],
          [
           "ever had a daughter,"
          ],
          [
           "anywhere."
          ],
          [
           "he spoke with a heavy"
          ],
          [
           "and bowed out of the"
          ],
          [
           "and by the light of"
          ],
          [
           "a long way to care"
          ],
          [
           "Their clothing was more"
          ],
          [
           "Children"
          ],
          [
           "of my men have seen"
          ],
          [
           "Alba, the"
          ],
          [
           "it breaks"
          ],
          [
           "frightened the girl"
          ],
          [
           "but she had no choice"
          ],
          [
           "away, Alba said"
          ],
          [
           "she going to do?"
          ],
          [
           "Even though she knew"
          ],
          [
           "torn."
          ],
          [
           "Whoa,"
          ],
          [
           "Alba was patient"
          ],
          [
           "a deep sleep."
          ],
          [
           "no answer."
          ],
          [
           "one it was."
          ],
          [
           "her breakfast, folding"
          ],
          [
           "talked for a long time."
          ],
          [
           "left by the rain."
          ],
          [
           "remembered"
          ],
          [
           "We must contact"
          ],
          [
           "to sprint to the"
          ],
          [
           "Carmen, but"
          ],
          [
           "he needed to return"
          ],
          [
           "water, and some"
          ],
          [
           "and Carmen language"
          ],
          [
           "was a young man that she"
          ],
          [
           "[\"cure'.]"
          ],
          [
           "sure if the disease"
          ],
          [
           "my heart to leave this"
          ],
          [
           "genuine appreciation"
          ],
          [
           "to be around 11"
          ],
          [
           "medicinal plants that"
          ],
          [
           "covered by a thin"
          ],
          [
           "handing her a"
          ],
          [
           "pleased that she had"
          ],
          [
           "she called for Alba."
          ],
          [
           "It was nearly pitch"
          ],
          [
           "I  do not know"
          ],
          [
           "After a"
          ],
          [
           "she was unable to do more"
          ],
          [
           "Carmen felt frustrated"
          ],
          [
           "sold giant tropical"
          ],
          [
           "Carmen"
          ],
          [
           "Alba, Maria"
          ],
          [
           "his entire family"
          ],
          [
           "had her drink plenty"
          ],
          [
           "did not come by the next"
          ],
          [
           "and one of  Juan close"
          ],
          [
           "and a breakfast of mashed"
          ],
          [
           "to panic, she"
          ],
          [
           "with a strange fever."
          ],
          [
           "She wanted to know"
          ],
          [
           "Dr. Torreson?"
          ],
          [
           "Carmen said"
          ],
          [
           "found it very fulfilling"
          ],
          [
           "already gone."
          ],
          [
           "for the victims"
          ],
          [
           "Carmen continued"
          ],
          [
           "though she knew which"
          ],
          [
           "wooden furniture"
          ],
          [
           "of steamy air hit"
          ],
          [
           "daughter? Carmen"
          ],
          [
           "stood there, holding"
          ],
          [
           "Carmen asked"
          ],
          [
           "The girl"
          ],
          [
           "long had Alba been"
          ],
          [
           "That"
          ],
          [
           "doctor"
          ],
          [
           "With"
          ],
          [
           "Carmen ran to"
          ],
          [
           "the idea out of her"
          ],
          [
           "to read."
          ],
          [
           "anything like this."
          ],
          [
           "I really hope you consider"
          ],
          [
           "come and see what was"
          ],
          [
           "ran around them,"
          ],
          [
           "Inside"
          ],
          [
           "Where do I go"
          ],
          [
           "brokenhearted,"
          ],
          [
           "girl continued to stare"
          ],
          [
           "Part of her"
          ],
          [
           "the men suddenly"
          ],
          [
           "by what she saw inside."
          ],
          [
           "meats and stirring"
          ],
          [
           "Juan."
          ],
          [
           "Hmm,"
          ],
          [
           "become part of her new"
          ],
          [
           "the air still,"
          ],
          [
           "in the first place."
          ],
          [
           "already been infected?"
          ],
          [
           "supplies,"
          ],
          [
           "He nodded"
          ],
          [
           "looked out over"
          ],
          [
           "handmade necklace."
          ],
          [
           "led her to a"
          ],
          [
           "When"
          ],
          [
           "of them spoke a mix"
          ],
          [
           "most of"
          ],
          [
           "their destination"
          ],
          [
           "How"
          ],
          [
           "Ah, si,"
          ],
          [
           "The villagers appreciated"
          ],
          [
           "She was both"
          ],
          [
           "Later"
          ],
          [
           "said. I"
          ],
          [
           "a wonderful companion."
          ],
          [
           "cuts and scrapes"
          ],
          [
           "out, alarmed."
          ],
          [
           "12 years old."
          ],
          [
           "head ashamed"
          ],
          [
           "and squinted at her"
          ],
          [
           "three times,"
          ],
          [
           "table."
          ],
          [
           "A small figure"
          ],
          [
           "Dr."
          ],
          [
           "to see"
          ],
          [
           "through it."
          ],
          [
           "conversing with his"
          ],
          [
           "Juan promised"
          ],
          [
           "of the people came"
          ],
          [
           "appeared to be"
          ],
          [
           "stood clutching"
          ],
          [
           "help?"
          ],
          [
           "name on it."
          ],
          [
           "were still quite mysterious"
          ],
          [
           "soups."
          ],
          [
           "Juan himself came"
          ],
          [
           "would find it very rewarding."
          ],
          [
           "time, the sun was setting,"
          ],
          [
           "could be treated,"
          ],
          [
           "her third patient"
          ],
          [
           "or telling stories instead."
          ],
          [
           "to turn things"
          ],
          [
           "later, Carmen"
          ],
          [
           "moment, so"
          ],
          [
           "table"
          ],
          [
           "arrived yet."
          ],
          [
           "but she did not mind"
          ],
          [
           "her but"
          ],
          [
           "saw her cell phone sitting"
          ],
          [
           "to invade the  family's"
          ],
          [
           "and sounds"
          ],
          [
           "her cell phone picked"
          ],
          [
           "subject line"
          ],
          [
           "her towards one of"
          ],
          [
           "the rainy season,"
          ],
          [
           "it was a"
          ],
          [
           "English."
          ],
          [
           "night."
          ],
          [
           "Some"
          ],
          [
           "a whim, she"
          ],
          [
           "it was the start of the"
          ],
          [
           "Juan Torres."
          ],
          [
           "had a fever"
          ],
          [
           "on Carmen that"
          ],
          [
           "twice,"
          ],
          [
           "pieces of simple"
          ],
          [
           "in this predicament."
          ],
          [
           "in the evening to wait for"
          ],
          [
           "notice."
          ],
          [
           "in what seemed"
          ]
         ],
         "hovertemplate": "cluster=0<br>t-SNE 1=%{x}<br>t-SNE 2=%{y}<br>text_preview=%{customdata[0]}<extra></extra>",
         "legendgroup": "0",
         "marker": {
          "color": "#636efa",
          "symbol": "circle",
          "opacity": 0.7,
          "size": 4
         },
         "mode": "markers",
         "name": "0",
         "orientation": "v",
         "showlegend": true,
         "x": {
          "dtype": "f4",
          "bdata": "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"
         },
         "xaxis": "x",
         "y": {
          "dtype": "f4",
          "bdata": "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"
         },
         "yaxis": "y",
         "type": "scatter"
        },
        {
         "customdata": [
          [
           "water."
          ],
          [
           "jungle."
          ],
          [
           "hut."
          ],
          [
           "began to teach"
          ],
          [
           "phone but, Carmen"
          ],
          [
           "But then Carmen"
          ],
          [
           "She looked"
          ],
          [
           "The organization"
          ],
          [
           "with a bad fever."
          ],
          [
           "that led to the river."
          ],
          [
           "for medicines that might"
          ],
          [
           "and"
          ],
          [
           "Alma"
          ],
          [
           "As she was settling"
          ],
          [
           "as the driver"
          ],
          [
           "was horrified"
          ],
          [
           "charts for the patients"
          ],
          [
           "her, she"
          ],
          [
           "Carmen, he smiled"
          ],
          [
           "Though she had been"
          ],
          [
           "at the shore out"
          ],
          [
           "In the evenings,"
          ],
          [
           "thought that if she"
          ],
          [
           "mind."
          ],
          [
           "Sunday morning tennis"
          ],
          [
           "The following morning,"
          ],
          [
           "was a delicate"
          ],
          [
           "For a brief"
          ],
          [
           "if Carmen could"
          ],
          [
           "how long she had slept."
          ],
          [
           "Chicago where she worked,"
          ],
          [
           "late one afternoon"
          ],
          [
           "Maria?"
          ],
          [
           "to get her to drink."
          ],
          [
           "and Carmen got"
          ],
          [
           "When Carmen noticed"
          ],
          [
           "you know"
          ],
          [
           "She felt she had truly"
          ],
          [
           "of the river."
          ],
          [
           "right away."
          ],
          [
           "But the other"
          ],
          [
           "before she could change"
          ],
          [
           "from time to time."
          ],
          [
           "had died, and it was"
          ],
          [
           "and scared,"
          ],
          [
           "serve our village."
          ],
          [
           "to think that they had"
          ],
          [
           "the busy clinic in"
          ],
          [
           "a desperate look in his"
          ],
          [
           "she returned to the clinic"
          ],
          [
           "on very short"
          ],
          [
           "led Carmen down a"
          ],
          [
           "Four of the men from"
          ],
          [
           "doctor could be found"
          ],
          [
           "unknown disease?"
          ],
          [
           "into the evening,"
          ],
          [
           "I'm sorry to bother"
          ],
          [
           "could name most"
          ],
          [
           "until she felt"
          ],
          [
           "Carmen with gifts."
          ],
          [
           "a man were bent"
          ],
          [
           "girl answered pointing"
          ],
          [
           "pointing at his chest."
          ],
          [
           "the villagers,"
          ],
          [
           "but they have not"
          ],
          [
           "recognized from the village."
          ],
          [
           "in a remote part of"
          ],
          [
           "and ready to go home."
          ],
          [
           "was waiting to take"
          ],
          [
           "to Alba,"
          ],
          [
           "family's hut,"
          ],
          [
           "a small town"
          ],
          [
           "disappeared."
          ],
          [
           "down a narrow path"
          ],
          [
           "The shipments"
          ],
          [
           "turned the boat toward"
          ],
          [
           "out the shapes of huts"
          ],
          [
           "Carmen- he said"
          ],
          [
           "against Carmen skin."
          ],
          [
           "stopped talking,"
          ],
          [
           "cough."
          ],
          [
           "the girl could lead her"
          ],
          [
           "These were the moments that"
          ],
          [
           "tying her to Chicago."
          ],
          [
           "been inside Alba's"
          ],
          [
           "being so distrustful."
          ],
          [
           "but to accept it."
          ],
          [
           "A man emerged"
          ],
          [
           "of this fever."
          ],
          [
           "eyes."
          ],
          [
           "fever came to"
          ],
          [
           "to personally thank"
          ],
          [
           "had become a doctor"
          ],
          [
           "Maria more medication"
          ],
          [
           "phone."
          ],
          [
           "man had a strange"
          ],
          [
           "a carpet of blue green"
          ],
          [
           "It looked beautiful,"
          ],
          [
           "got worse."
          ],
          [
           "Carmen"
          ],
          [
           "Antonio"
          ],
          [
           "shy in the beginning,"
          ],
          [
           "siesta, there"
          ],
          [
           "Dr."
          ],
          [
           "what appeared to be the village"
          ],
          [
           "riverbank,"
          ],
          [
           "how isolated"
          ],
          [
           "sign of civilization"
          ],
          [
           "something to the other men,"
          ],
          [
           "river"
          ],
          [
           "felt horribly guilty"
          ],
          [
           "Maria"
          ],
          [
           "felt anxious"
          ],
          [
           "in a part of the rainforest"
          ],
          [
           "the door."
          ],
          [
           "felt uncomfortable"
          ],
          [
           "coming to work here."
          ],
          [
           "and she"
          ],
          [
           "she heard a rustling in"
          ],
          [
           "Just a few days later,"
          ],
          [
           "Carmen"
          ],
          [
           "say."
          ],
          [
           "and his eyes"
          ],
          [
           "trying to keep her balance"
          ],
          [
           "to her."
          ],
          [
           "the river."
          ],
          [
           "rash across"
          ],
          [
           "driving, the breeze"
          ],
          [
           "she had interrupted"
          ],
          [
           "come by her hut."
          ],
          [
           "between the vehicles"
          ],
          [
           "tended to Ramiro"
          ],
          [
           "found that Maria had"
          ],
          [
           "street vendors"
          ],
          [
           "Juan ushered"
          ],
          [
           "roofs."
          ],
          [
           "said pointing"
          ],
          [
           "in the Amazon jungle,"
          ],
          [
           "the man said"
          ],
          [
           "that she had done"
          ],
          [
           "on the ground."
          ],
          [
           "on the bed, she felt"
          ],
          [
           "she thought to herself."
          ],
          [
           "spotted Juan in the center"
          ],
          [
           "evening, Juan"
          ],
          [
           "Carmen"
          ],
          [
           "Even"
          ],
          [
           "the best she could,"
          ],
          [
           "at work constructing"
          ],
          [
           "he told her  he had put"
          ],
          [
           "With"
          ],
          [
           "decorative than most"
          ],
          [
           "friend, Carmen"
          ],
          [
           "her first glimpse of"
          ],
          [
           "before she came,"
          ],
          [
           "Carmen gave"
          ],
          [
           "the village."
          ],
          [
           "mosquito net around"
          ],
          [
           "puzzled."
          ],
          [
           "round the clock"
          ],
          [
           "of the terminal and"
          ],
          [
           "nothing"
          ],
          [
           "Carmen pictured"
          ],
          [
           "then again she was not"
          ],
          [
           "Carmen"
          ],
          [
           "fires, smoking"
          ],
          [
           "Why  had not she"
          ],
          [
           "were two mattresses"
          ],
          [
           "there was a festival in"
          ],
          [
           "sick"
          ],
          [
           "but also"
          ],
          [
           "which made"
          ],
          [
           "was a knock at the door"
          ],
          [
           "told Carmen?"
          ],
          [
           "leaders of some sort."
          ],
          [
           "struggled to keep"
          ],
          [
           "What was"
          ],
          [
           "Carmen was there,"
          ],
          [
           "source of healthcare"
          ],
          [
           "a boat would pass by,"
          ],
          [
           "night in her hut,"
          ],
          [
           "the authorities to stop"
          ],
          [
           "with Carmen slow"
          ],
          [
           "realized that Alba"
          ],
          [
           "the clinic,"
          ],
          [
           "had come from another"
          ],
          [
           "a look of genuine"
          ],
          [
           "The patient was an older"
          ],
          [
           "During Carmen first"
          ],
          [
           "Did they"
          ],
          [
           "but then Juan"
          ],
          [
           "the village carried his"
          ],
          [
           "she walked over to them,"
          ],
          [
           "It  did not seem like"
          ],
          [
           "of the journey to"
          ],
          [
           "his attention back"
          ],
          [
           "flailing."
          ],
          [
           "an emergency, he said."
          ],
          [
           "to the region."
          ],
          [
           "an old fashioned"
          ],
          [
           "Arriving"
          ],
          [
           "huge baskets of"
          ],
          [
           "child"
          ],
          [
           "and the air was"
          ],
          [
           "a close friend at home."
          ],
          [
           "when she got back."
          ],
          [
           "When Carmen came"
          ],
          [
           "that if she hiked to the top"
          ],
          [
           "picked up words amazingly"
          ],
          [
           "tears in his eyes."
          ],
          [
           "game"
          ],
          [
           "with this fever?"
          ],
          [
           "Carmen think that they were"
          ],
          [
           "unless a replacement"
          ],
          [
           "in the fading"
          ],
          [
           "But Carmen  did not"
          ],
          [
           "to a river."
          ],
          [
           "that having a foreigner"
          ],
          [
           "was full of sights"
          ],
          [
           "fruits that Carmen"
          ],
          [
           "if anyone in the village"
          ],
          [
           "Torreson leaving,"
          ],
          [
           "the man looked up at her."
          ],
          [
           "over the uneven"
          ],
          [
           "to leave, she"
          ],
          [
           "the remote village."
          ],
          [
           "a village leader"
          ],
          [
           "loggers working"
          ],
          [
           "trying not"
          ],
          [
           "of a small Hill"
          ],
          [
           "a hut that looked identical"
          ],
          [
           "in her new home,"
          ],
          [
           "But"
          ],
          [
           "from within the brush."
          ],
          [
           "than they were letting"
          ],
          [
           "said."
          ],
          [
           "in cryptic"
          ],
          [
           "in the rainforest"
          ],
          [
           "as Dr."
          ],
          [
           "may need to keep it for"
          ],
          [
           "In turn, Carmen"
          ],
          [
           "skills improved."
          ],
          [
           "stay in the clinic overnight"
          ],
          [
           "gasped, and"
          ],
          [
           "to lift her suitcase"
          ],
          [
           "driver was already"
          ],
          [
           "heard footsteps"
          ],
          [
           "part of her felt"
          ],
          [
           "at the edge of the Amazon"
          ],
          [
           "Carmen"
          ],
          [
           "shirt was off,"
          ],
          [
           "terminal, a man"
          ],
          [
           "a piece of paper with Carmen"
          ],
          [
           "it would be an"
          ],
          [
           "mix of leaves in"
          ],
          [
           "apprehensively."
          ],
          [
           "She had even begun"
          ],
          [
           "and the women cooked"
          ],
          [
           "he added apologetically."
          ],
          [
           "Juan and the villagers"
          ],
          [
           "to the man from the night"
          ],
          [
           "of breath, she"
          ],
          [
           "two years working"
          ],
          [
           "but one"
          ],
          [
           "Alba lay on the ground,"
          ],
          [
           "it carefully."
          ],
          [
           "Spanish"
          ],
          [
           "will show you to the clinic"
          ],
          [
           "them right away, but"
          ],
          [
           "it was November,"
          ],
          [
           "a house, her"
          ],
          [
           "the fire, Carmen"
          ],
          [
           "like there was something"
          ],
          [
           "completely exhausted."
          ],
          [
           "The clinic"
          ],
          [
           "into the night."
          ],
          [
           "has promised"
          ],
          [
           "wooden slats of the"
          ],
          [
           "known about the fever"
          ],
          [
           "Dr. Carmen"
          ],
          [
           "fire"
          ],
          [
           "community."
          ],
          [
           "had a feeling that many"
          ],
          [
           "But concern and"
          ],
          [
           "she said, flustered,"
          ],
          [
           "with the strange"
          ],
          [
           "the clearing, deep"
          ],
          [
           "the foreign woman"
          ],
          [
           "decision would haunt"
          ],
          [
           "But another"
          ],
          [
           "Juan came"
          ],
          [
           "to Alba."
          ],
          [
           "it was not her fault,"
          ],
          [
           "She"
          ],
          [
           "below"
          ],
          [
           "flipflops carrying"
          ],
          [
           "curiosity got"
          ],
          [
           "her clothes,"
          ],
          [
           "There, a boat"
          ],
          [
           "at Carmen."
          ],
          [
           "once,"
          ],
          [
           "rash, this patient"
          ],
          [
           "placed directly"
          ],
          [
           "didn't go straight to the clinic."
          ],
          [
           "Carmen watched them leave,"
          ],
          [
           "that what came out"
          ],
          [
           "with thatched"
          ],
          [
           "Antonio turned"
          ],
          [
           "and with Dr."
          ],
          [
           "rainforest."
          ],
          [
           "could and"
          ],
          [
           "After Carmen had"
          ],
          [
           "was threatening to"
          ],
          [
           "inside the boat,"
          ],
          [
           "they emerged into"
          ],
          [
           "They walked out"
          ],
          [
           "Her voice"
          ],
          [
           "Had Dr. Torreson"
          ],
          [
           "close it down"
          ],
          [
           "said, eager to get"
          ],
          [
           "friends."
          ],
          [
           "evening."
          ],
          [
           "woke the next morning"
          ],
          [
           "said the clinic"
          ],
          [
           "a very long time,"
          ],
          [
           "light."
          ],
          [
           "left the clinic,"
          ],
          [
           "swatted away mosquitos"
          ],
          [
           "few days in the clinic,"
          ],
          [
           "reminded her why she"
          ],
          [
           "Carmen"
          ],
          [
           "Traumatized and"
          ],
          [
           "her suitcase were safely"
          ],
          [
           "Torreson wrote,"
          ],
          [
           "motoring back up"
          ],
          [
           "looked around"
          ],
          [
           "Carmen"
          ],
          [
           "The only medical supplies"
          ],
          [
           "He still had"
          ],
          [
           "Just as she was about"
          ],
          [
           "all about the Amazon,"
          ],
          [
           "any of the tropical fevers"
          ],
          [
           "took a lantern and set"
          ],
          [
           "She also"
          ],
          [
           "after Carmen"
          ],
          [
           "stood around small"
          ],
          [
           "When Juan noticed"
          ],
          [
           "ever seen."
          ],
          [
           "Carmen smiled"
          ],
          [
           "started."
          ],
          [
           "center."
          ],
          [
           "and rushing"
          ],
          [
           "The two men stood"
          ],
          [
           "Scanning the scene,"
          ],
          [
           "she discovered"
          ],
          [
           "morning! he"
          ],
          [
           "I need your"
          ],
          [
           "patches of mud"
          ],
          [
           "Dr. Torreson"
          ],
          [
           "a new hut."
          ],
          [
           "What if Carmen"
          ],
          [
           "if"
          ],
          [
           "to be as far"
          ],
          [
           "Did they think"
          ],
          [
           "trees, with"
          ],
          [
           "rainy season."
          ],
          [
           "Welcome to the jungle."
          ],
          [
           "woman named"
          ],
          [
           "No, Juan said."
          ],
          [
           "these criminals and"
          ],
          [
           "Carmen  didn't"
          ],
          [
           "the corner."
          ],
          [
           "break, she"
          ],
          [
           "whistled to himself."
          ],
          [
           "the village in daylight."
          ],
          [
           "crossed the clearing"
          ],
          [
           "the patients she"
          ],
          [
           "from here?"
          ],
          [
           "that day."
          ],
          [
           "now."
          ],
          [
           "at the Chicago airport."
          ],
          [
           "help,"
          ],
          [
           "spent the last two"
          ],
          [
           "over her, trying"
          ],
          [
           "herself-"
          ],
          [
           "great with names."
          ],
          [
           "but he  did not yet have"
          ],
          [
           "as"
          ],
          [
           "at her with huge"
          ],
          [
           "in the clinic,"
          ],
          [
           "Maldonado,"
          ],
          [
           "to sit beside her."
          ],
          [
           "built a small medical"
          ],
          [
           "Juan led her"
          ],
          [
           "propped herself up"
          ],
          [
           "along in the illness as"
          ],
          [
           "patient came to the clinic"
          ],
          [
           "the day in the clinic"
          ],
          [
           "goods"
          ],
          [
           "Carmen headed back"
          ],
          [
           "she had seen."
          ],
          [
           "see Carmen in the clinic."
          ],
          [
           "a delicious feast."
          ],
          [
           "which led down"
          ],
          [
           "giving Carmen"
          ],
          [
           "and"
          ],
          [
           "Women"
          ],
          [
           "to say, but Juan was"
          ],
          [
           "Inside"
          ],
          [
           "group of leaders."
          ],
          [
           "her, he whispered"
          ],
          [
           "up a weak signal."
          ],
          [
           "of the culture"
          ],
          [
           "Hello, Dr."
          ],
          [
           "Carmen sat down"
          ],
          [
           "Carmen"
          ],
          [
           "short path to"
          ],
          [
           "hitting send"
          ],
          [
           "even more humid"
          ],
          [
           "Carmen saw"
          ],
          [
           "off down the path"
          ],
          [
           "How could she not have"
          ],
          [
           "John Torreson."
          ],
          [
           "especially Alba,"
          ],
          [
           "that is strictly"
          ],
          [
           "Alba motioned"
          ],
          [
           "she had seen"
          ],
          [
           "would not say."
          ],
          [
           "in the Amazon but"
          ],
          [
           "with."
          ],
          [
           "the"
          ],
          [
           "he said."
          ],
          [
           "of the village,"
          ],
          [
           "through the forest."
          ],
          [
           "although she"
          ],
          [
           "boys was hard"
          ],
          [
           "Her hut was near"
          ],
          [
           "where"
          ],
          [
           "happening"
          ],
          [
           "hut"
          ],
          [
           "the time spent with"
          ],
          [
           "The men made a huge"
          ],
          [
           "Yes"
          ],
          [
           "moment Carmen"
          ],
          [
           "hut."
          ],
          [
           "she  wasn't even"
          ],
          [
           "You must be very"
          ],
          [
           "of water, but Maria"
          ],
          [
           "was released from"
          ],
          [
           "Carmen started"
          ],
          [
           "On"
          ],
          [
           "Senor Torreson,"
          ],
          [
           "Alba more and more."
          ],
          [
           "stethoscope,"
          ],
          [
           "a blast"
          ],
          [
           "who also"
          ],
          [
           "children darted"
          ],
          [
           "the driver"
          ],
          [
           "a clearing."
          ],
          [
           "Carmen"
          ],
          [
           "in her office"
          ],
          [
           "hands preparing"
          ],
          [
           "to think about leaving"
          ],
          [
           "turned to stare"
          ],
          [
           "adventure."
          ],
          [
           "saw had fairly minor"
          ],
          [
           "When Carmen gave"
          ],
          [
           "if they were afraid Maria"
          ],
          [
           "a jolt, Carmen"
          ],
          [
           "off limits."
          ],
          [
           "Inside"
          ],
          [
           "Along with the"
          ],
          [
           "spotted Juan across"
          ],
          [
           "or maybe even get sick"
          ],
          [
           "in conversation with"
          ],
          [
           "ground."
          ],
          [
           "lots of"
          ],
          [
           "and completely"
          ],
          [
           "came to the clinic with"
          ],
          [
           "named Dr."
          ],
          [
           "thought she noticed"
          ],
          [
           "her family prepare for"
          ],
          [
           "any more than that, she"
          ],
          [
           "but Carmen could make"
          ],
          [
           "she almost walked"
          ],
          [
           "her as best she"
          ],
          [
           "of Spanish"
          ],
          [
           "When he saw"
          ],
          [
           "could see the telltale"
          ],
          [
           "clinic to retrieve"
          ],
          [
           "Some of the villagers"
          ],
          [
           "wild."
          ],
          [
           "Wait! she called"
          ],
          [
           "to the United States"
          ],
          [
           "in the doorway, not"
          ],
          [
           "started to descend,"
          ],
          [
           "As"
          ],
          [
           "Stepping out onto the runway,"
          ],
          [
           "bonfire,"
          ],
          [
           "hoping"
          ],
          [
           "At times,"
          ],
          [
           "the tiny airport"
          ],
          [
           "a brown river snaking"
          ],
          [
           "holding up her hands,"
          ],
          [
           "back from her afternoon"
          ],
          [
           "had not mentioned"
          ],
          [
           "onto a side street"
          ],
          [
           "tired from the journey"
          ],
          [
           "Carmen Reed was sitting"
          ],
          [
           "sat on a rock"
          ],
          [
           "could be risking her life"
          ],
          [
           "was warm,"
          ],
          [
           "on the ground,"
          ],
          [
           "fast"
          ],
          [
           "and stared out at the muddy"
          ],
          [
           "hut for a couple hours"
          ],
          [
           "village down the river."
          ],
          [
           "on?"
          ],
          [
           "impossible to know"
          ],
          [
           "better."
          ],
          [
           "medical clinic for the villagers."
          ]
         ],
         "hovertemplate": "cluster=1<br>t-SNE 1=%{x}<br>t-SNE 2=%{y}<br>text_preview=%{customdata[0]}<extra></extra>",
         "legendgroup": "1",
         "marker": {
          "color": "#EF553B",
          "symbol": "circle",
          "opacity": 0.7,
          "size": 4
         },
         "mode": "markers",
         "name": "1",
         "orientation": "v",
         "showlegend": true,
         "x": {
          "dtype": "f4",
          "bdata": "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"
         },
         "xaxis": "x",
         "y": {
          "dtype": "f4",
          "bdata": "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"
         },
         "yaxis": "y",
         "type": "scatter"
        }
       ],
       "layout": {
        "template": {
         "data": {
          "histogram2dcontour": [
           {
            "type": "histogram2dcontour",
            "colorbar": {
             "outlinewidth": 0,
             "ticks": ""
            },
            "colorscale": [
             [
              0.0,
              "#0d0887"
             ],
             [
              0.1111111111111111,
              "#46039f"
             ],
             [
              0.2222222222222222,
              "#7201a8"
             ],
             [
              0.3333333333333333,
              "#9c179e"
             ],
             [
              0.4444444444444444,
              "#bd3786"
             ],
             [
              0.5555555555555556,
              "#d8576b"
             ],
             [
              0.6666666666666666,
              "#ed7953"
             ],
             [
              0.7777777777777778,
              "#fb9f3a"
             ],
             [
              0.8888888888888888,
              "#fdca26"
             ],
             [
              1.0,
              "#f0f921"
             ]
            ]
           }
          ],
          "choropleth": [
           {
            "type": "choropleth",
            "colorbar": {
             "outlinewidth": 0,
             "ticks": ""
            }
           }
          ],
          "histogram2d": [
           {
            "type": "histogram2d",
            "colorbar": {
             "outlinewidth": 0,
             "ticks": ""
            },
            "colorscale": [
             [
              0.0,
              "#0d0887"
             ],
             [
              0.1111111111111111,
              "#46039f"
             ],
             [
              0.2222222222222222,
              "#7201a8"
             ],
             [
              0.3333333333333333,
              "#9c179e"
             ],
             [
              0.4444444444444444,
              "#bd3786"
             ],
             [
              0.5555555555555556,
              "#d8576b"
             ],
             [
              0.6666666666666666,
              "#ed7953"
             ],
             [
              0.7777777777777778,
              "#fb9f3a"
             ],
             [
              0.8888888888888888,
              "#fdca26"
             ],
             [
              1.0,
              "#f0f921"
             ]
            ]
           }
          ],
          "heatmap": [
           {
            "type": "heatmap",
            "colorbar": {
             "outlinewidth": 0,
             "ticks": ""
            },
            "colorscale": [
             [
              0.0,
              "#0d0887"
             ],
             [
              0.1111111111111111,
              "#46039f"
             ],
             [
              0.2222222222222222,
              "#7201a8"
             ],
             [
              0.3333333333333333,
              "#9c179e"
             ],
             [
              0.4444444444444444,
              "#bd3786"
             ],
             [
              0.5555555555555556,
              "#d8576b"
             ],
             [
              0.6666666666666666,
              "#ed7953"
             ],
             [
              0.7777777777777778,
              "#fb9f3a"
             ],
             [
              0.8888888888888888,
              "#fdca26"
             ],
             [
              1.0,
              "#f0f921"
             ]
            ]
           }
          ],
          "contourcarpet": [
           {
            "type": "contourcarpet",
            "colorbar": {
             "outlinewidth": 0,
             "ticks": ""
            }
           }
          ],
          "contour": [
           {
            "type": "contour",
            "colorbar": {
             "outlinewidth": 0,
             "ticks": ""
            },
            "colorscale": [
             [
              0.0,
              "#0d0887"
             ],
             [
              0.1111111111111111,
              "#46039f"
             ],
             [
              0.2222222222222222,
              "#7201a8"
             ],
             [
              0.3333333333333333,
              "#9c179e"
             ],
             [
              0.4444444444444444,
              "#bd3786"
             ],
             [
              0.5555555555555556,
              "#d8576b"
             ],
             [
              0.6666666666666666,
              "#ed7953"
             ],
             [
              0.7777777777777778,
              "#fb9f3a"
             ],
             [
              0.8888888888888888,
              "#fdca26"
             ],
             [
              1.0,
              "#f0f921"
             ]
            ]
           }
          ],
          "surface": [
           {
            "type": "surface",
            "colorbar": {
             "outlinewidth": 0,
             "ticks": ""
            },
            "colorscale": [
             [
              0.0,
              "#0d0887"
             ],
             [
              0.1111111111111111,
              "#46039f"
             ],
             [
              0.2222222222222222,
              "#7201a8"
             ],
             [
              0.3333333333333333,
              "#9c179e"
             ],
             [
              0.4444444444444444,
              "#bd3786"
             ],
             [
              0.5555555555555556,
              "#d8576b"
             ],
             [
              0.6666666666666666,
              "#ed7953"
             ],
             [
              0.7777777777777778,
              "#fb9f3a"
             ],
             [
              0.8888888888888888,
              "#fdca26"
             ],
             [
              1.0,
              "#f0f921"
             ]
            ]
           }
          ],
          "mesh3d": [
           {
            "type": "mesh3d",
            "colorbar": {
             "outlinewidth": 0,
             "ticks": ""
            }
           }
          ],
          "scatter": [
           {
            "marker": {
             "line": {
              "color": "#283442"
             }
            },
            "type": "scatter"
           }
          ],
          "parcoords": [
           {
            "type": "parcoords",
            "line": {
             "colorbar": {
              "outlinewidth": 0,
              "ticks": ""
             }
            }
           }
          ],
          "scatterpolargl": [
           {
            "type": "scatterpolargl",
            "marker": {
             "colorbar": {
              "outlinewidth": 0,
              "ticks": ""
             }
            }
           }
          ],
          "bar": [
           {
            "error_x": {
             "color": "#f2f5fa"
            },
            "error_y": {
             "color": "#f2f5fa"
            },
            "marker": {
             "line": {
              "color": "rgb(17,17,17)",
              "width": 0.5
             },
             "pattern": {
              "fillmode": "overlay",
              "size": 10,
              "solidity": 0.2
             }
            },
            "type": "bar"
           }
          ],
          "scattergeo": [
           {
            "type": "scattergeo",
            "marker": {
             "colorbar": {
              "outlinewidth": 0,
              "ticks": ""
             }
            }
           }
          ],
          "scatterpolar": [
           {
            "type": "scatterpolar",
            "marker": {
             "colorbar": {
              "outlinewidth": 0,
              "ticks": ""
             }
            }
           }
          ],
          "histogram": [
           {
            "marker": {
             "pattern": {
              "fillmode": "overlay",
              "size": 10,
              "solidity": 0.2
             }
            },
            "type": "histogram"
           }
          ],
          "scattergl": [
           {
            "marker": {
             "line": {
              "color": "#283442"
             }
            },
            "type": "scattergl"
           }
          ],
          "scatter3d": [
           {
            "type": "scatter3d",
            "line": {
             "colorbar": {
              "outlinewidth": 0,
              "ticks": ""
             }
            },
            "marker": {
             "colorbar": {
              "outlinewidth": 0,
              "ticks": ""
             }
            }
           }
          ],
          "scattermap": [
           {
            "type": "scattermap",
            "marker": {
             "colorbar": {
              "outlinewidth": 0,
              "ticks": ""
             }
            }
           }
          ],
          "scattermapbox": [
           {
            "type": "scattermapbox",
            "marker": {
             "colorbar": {
              "outlinewidth": 0,
              "ticks": ""
             }
            }
           }
          ],
          "scatterternary": [
           {
            "type": "scatterternary",
            "marker": {
             "colorbar": {
              "outlinewidth": 0,
              "ticks": ""
             }
            }
           }
          ],
          "scattercarpet": [
           {
            "type": "scattercarpet",
            "marker": {
             "colorbar": {
              "outlinewidth": 0,
              "ticks": ""
             }
            }
           }
          ],
          "carpet": [
           {
            "aaxis": {
             "endlinecolor": "#A2B1C6",
             "gridcolor": "#506784",
             "linecolor": "#506784",
             "minorgridcolor": "#506784",
             "startlinecolor": "#A2B1C6"
            },
            "baxis": {
             "endlinecolor": "#A2B1C6",
             "gridcolor": "#506784",
             "linecolor": "#506784",
             "minorgridcolor": "#506784",
             "startlinecolor": "#A2B1C6"
            },
            "type": "carpet"
           }
          ],
          "table": [
           {
            "cells": {
             "fill": {
              "color": "#506784"
             },
             "line": {
              "color": "rgb(17,17,17)"
             }
            },
            "header": {
             "fill": {
              "color": "#2a3f5f"
             },
             "line": {
              "color": "rgb(17,17,17)"
             }
            },
            "type": "table"
           }
          ],
          "barpolar": [
           {
            "marker": {
             "line": {
              "color": "rgb(17,17,17)",
              "width": 0.5
             },
             "pattern": {
              "fillmode": "overlay",
              "size": 10,
              "solidity": 0.2
             }
            },
            "type": "barpolar"
           }
          ],
          "pie": [
           {
            "automargin": true,
            "type": "pie"
           }
          ]
         },
         "layout": {
          "autotypenumbers": "strict",
          "colorway": [
           "#636efa",
           "#EF553B",
           "#00cc96",
           "#ab63fa",
           "#FFA15A",
           "#19d3f3",
           "#FF6692",
           "#B6E880",
           "#FF97FF",
           "#FECB52"
          ],
          "font": {
           "color": "#f2f5fa"
          },
          "hovermode": "closest",
          "hoverlabel": {
           "align": "left"
          },
          "paper_bgcolor": "rgb(17,17,17)",
          "plot_bgcolor": "rgb(17,17,17)",
          "polar": {
           "bgcolor": "rgb(17,17,17)",
           "angularaxis": {
            "gridcolor": "#506784",
            "linecolor": "#506784",
            "ticks": ""
           },
           "radialaxis": {
            "gridcolor": "#506784",
            "linecolor": "#506784",
            "ticks": ""
           }
          },
          "ternary": {
           "bgcolor": "rgb(17,17,17)",
           "aaxis": {
            "gridcolor": "#506784",
            "linecolor": "#506784",
            "ticks": ""
           },
           "baxis": {
            "gridcolor": "#506784",
            "linecolor": "#506784",
            "ticks": ""
           },
           "caxis": {
            "gridcolor": "#506784",
            "linecolor": "#506784",
            "ticks": ""
           }
          },
          "coloraxis": {
           "colorbar": {
            "outlinewidth": 0,
            "ticks": ""
           }
          },
          "colorscale": {
           "sequential": [
            [
             0.0,
             "#0d0887"
            ],
            [
             0.1111111111111111,
             "#46039f"
            ],
            [
             0.2222222222222222,
             "#7201a8"
            ],
            [
             0.3333333333333333,
             "#9c179e"
            ],
            [
             0.4444444444444444,
             "#bd3786"
            ],
            [
             0.5555555555555556,
             "#d8576b"
            ],
            [
             0.6666666666666666,
             "#ed7953"
            ],
            [
             0.7777777777777778,
             "#fb9f3a"
            ],
            [
             0.8888888888888888,
             "#fdca26"
            ],
            [
             1.0,
             "#f0f921"
            ]
           ],
           "sequentialminus": [
            [
             0.0,
             "#0d0887"
            ],
            [
             0.1111111111111111,
             "#46039f"
            ],
            [
             0.2222222222222222,
             "#7201a8"
            ],
            [
             0.3333333333333333,
             "#9c179e"
            ],
            [
             0.4444444444444444,
             "#bd3786"
            ],
            [
             0.5555555555555556,
             "#d8576b"
            ],
            [
             0.6666666666666666,
             "#ed7953"
            ],
            [
             0.7777777777777778,
             "#fb9f3a"
            ],
            [
             0.8888888888888888,
             "#fdca26"
            ],
            [
             1.0,
             "#f0f921"
            ]
           ],
           "diverging": [
            [
             0,
             "#8e0152"
            ],
            [
             0.1,
             "#c51b7d"
            ],
            [
             0.2,
             "#de77ae"
            ],
            [
             0.3,
             "#f1b6da"
            ],
            [
             0.4,
             "#fde0ef"
            ],
            [
             0.5,
             "#f7f7f7"
            ],
            [
             0.6,
             "#e6f5d0"
            ],
            [
             0.7,
             "#b8e186"
            ],
            [
             0.8,
             "#7fbc41"
            ],
            [
             0.9,
             "#4d9221"
            ],
            [
             1,
             "#276419"
            ]
           ]
          },
          "xaxis": {
           "gridcolor": "#283442",
           "linecolor": "#506784",
           "ticks": "",
           "title": {
            "standoff": 15
           },
           "zerolinecolor": "#283442",
           "automargin": true,
           "zerolinewidth": 2
          },
          "yaxis": {
           "gridcolor": "#283442",
           "linecolor": "#506784",
           "ticks": "",
           "title": {
            "standoff": 15
           },
           "zerolinecolor": "#283442",
           "automargin": true,
           "zerolinewidth": 2
          },
          "scene": {
           "xaxis": {
            "backgroundcolor": "rgb(17,17,17)",
            "gridcolor": "#506784",
            "linecolor": "#506784",
            "showbackground": true,
            "ticks": "",
            "zerolinecolor": "#C8D4E3",
            "gridwidth": 2
           },
           "yaxis": {
            "backgroundcolor": "rgb(17,17,17)",
            "gridcolor": "#506784",
            "linecolor": "#506784",
            "showbackground": true,
            "ticks": "",
            "zerolinecolor": "#C8D4E3",
            "gridwidth": 2
           },
           "zaxis": {
            "backgroundcolor": "rgb(17,17,17)",
            "gridcolor": "#506784",
            "linecolor": "#506784",
            "showbackground": true,
            "ticks": "",
            "zerolinecolor": "#C8D4E3",
            "gridwidth": 2
           }
          },
          "shapedefaults": {
           "line": {
            "color": "#f2f5fa"
           }
          },
          "annotationdefaults": {
           "arrowcolor": "#f2f5fa",
           "arrowhead": 0,
           "arrowwidth": 1
          },
          "geo": {
           "bgcolor": "rgb(17,17,17)",
           "landcolor": "rgb(17,17,17)",
           "subunitcolor": "#506784",
           "showland": true,
           "showlakes": true,
           "lakecolor": "rgb(17,17,17)"
          },
          "title": {
           "x": 0.05
          },
          "updatemenudefaults": {
           "bgcolor": "#506784",
           "borderwidth": 0
          },
          "sliderdefaults": {
           "bgcolor": "#C8D4E3",
           "borderwidth": 1,
           "bordercolor": "rgb(17,17,17)",
           "tickwidth": 0
          },
          "mapbox": {
           "style": "dark"
          }
         }
        },
        "xaxis": {
         "anchor": "y",
         "domain": [
          0.0,
          1.0
         ],
         "title": {
          "text": "t-SNE 1"
         }
        },
        "yaxis": {
         "anchor": "x",
         "domain": [
          0.0,
          1.0
         ],
         "title": {
          "text": "t-SNE 2"
         }
        },
        "legend": {
         "title": {
          "text": "cluster"
         },
         "tracegroupgap": 0
        },
        "title": {
         "text": "t-SNE Embedding Visualization"
        }
       },
       "config": {
        "plotlyServerURL": "https://plot.ly"
       }
      }
     },
     "metadata": {},
     "output_type": "display_data"
    },
    {
     "data": {
      "application/vnd.plotly.v1+json": {
       "data": [
        {
         "customdata": [
          [
           "She arranged the"
          ],
          [
           "place, but"
          ],
          [
           "She had no idea"
          ],
          [
           "Carmen suddenly felt"
          ],
          [
           "she still felt homesick"
          ],
          [
           "her shoulder to see the"
          ],
          [
           "She called Linda,"
          ],
          [
           "Carmen"
          ],
          [
           "treated any patients"
          ],
          [
           "her patients got by"
          ],
          [
           "the better of her,"
          ],
          [
           "are always being delayed,"
          ],
          [
           "was well-stocked"
          ],
          [
           "body away."
          ],
          [
           "Linda picked up,"
          ],
          [
           "Carmen thoroughly enjoyed"
          ],
          [
           "morning at breakfast,"
          ],
          [
           "Though"
          ],
          [
           "Dr. Carmen, good"
          ],
          [
           "please, Carmen"
          ],
          [
           "grateful that you came such"
          ],
          [
           "and besides,"
          ],
          [
           "Carmen"
          ],
          [
           "To"
          ],
          [
           "fever just"
          ],
          [
           "Juan repeated, looking"
          ],
          [
           "that we can monitor"
          ],
          [
           "privacy,"
          ],
          [
           "a broom made"
          ],
          [
           "Dr. Torreson"
          ],
          [
           "Carmen delight,"
          ],
          [
           "She reached for her"
          ],
          [
           "her help"
          ],
          [
           "she left now, the"
          ],
          [
           "expression on his face."
          ],
          [
           "stayed with him late"
          ],
          [
           "her for long time."
          ],
          [
           "weather: The"
          ],
          [
           "you like this, but there is"
          ],
          [
           "and she pushed open"
          ],
          [
           "played traditional"
          ],
          [
           "find his family."
          ],
          [
           "was supposed to clean for"
          ],
          [
           "We will see"
          ],
          [
           "Luckily,"
          ],
          [
           "Finally his fever"
          ],
          [
           "Each morning, she would bring"
          ],
          [
           "for Carmen to follow"
          ],
          [
           "Suddenly,"
          ],
          [
           "and"
          ],
          [
           "powered charger."
          ],
          [
           "whom Carmen did not recognize"
          ],
          [
           "in the order right"
          ],
          [
           "problems:"
          ],
          [
           "hot water,"
          ],
          [
           "that she"
          ],
          [
           "a small group of men."
          ],
          [
           "could not name."
          ],
          [
           "to send us replacement"
          ],
          [
           "over in her hands,"
          ],
          [
           "[ 'tree\"]"
          ],
          [
           "Maria she should"
          ],
          [
           "she knew."
          ],
          [
           "and Carmen"
          ],
          [
           "something important."
          ],
          [
           "She knocked"
          ],
          [
           "and grabbed it on instinct."
          ],
          [
           "Juan?"
          ],
          [
           "thought about  Alba's"
          ],
          [
           "Carmen"
          ],
          [
           "groaning and thrashing"
          ],
          [
           "in for an afternoon"
          ],
          [
           "to panic."
          ],
          [
           "her mind."
          ],
          [
           "to be nightmares."
          ],
          [
           "As she turned"
          ],
          [
           "was probably helping"
          ],
          [
           "Inside were a few"
          ],
          [
           "unsettled,"
          ],
          [
           "a bed frame,"
          ],
          [
           "laptop and quickly"
          ],
          [
           "The floor was packed"
          ],
          [
           "taken a chance on this"
          ],
          [
           "She was enjoying"
          ],
          [
           "certain aspects"
          ],
          [
           "over her cell phone"
          ],
          [
           "By this"
          ],
          [
           "Take your time,"
          ],
          [
           "She"
          ],
          [
           "accent, his English"
          ],
          [
           "table."
          ],
          [
           "Juan"
          ],
          [
           "with no signs of Alba."
          ],
          [
           "the last of her anti"
          ],
          [
           "had friends"
          ],
          [
           "Carmen began"
          ],
          [
           "and another language native"
          ],
          [
           "Carmen smiled"
          ],
          [
           "Most"
          ],
          [
           "on one elbow"
          ],
          [
           "he  had not made it through the"
          ],
          [
           "Carmen spent"
          ],
          [
           "recognized the man"
          ],
          [
           "Of course,"
          ],
          [
           "like Alba."
          ],
          [
           "in shock, but"
          ],
          [
           "following morning on"
          ],
          [
           "Come in!"
          ],
          [
           "Alba English."
          ],
          [
           "rundown motorcycle"
          ],
          [
           "He"
          ],
          [
           "he was a classmate of Carmen"
          ],
          [
           "Was the fever contagious?"
          ],
          [
           "Worried and lonely,"
          ],
          [
           "It was sent by someone"
          ],
          [
           "mouth and nostrils."
          ],
          [
           "indigestion."
          ],
          [
           "Hours passed"
          ],
          [
           "of bandages."
          ],
          [
           "had not come by that"
          ],
          [
           "At Dawn,"
          ],
          [
           "away."
          ],
          [
           "like this before."
          ],
          [
           "Carmen told Linda"
          ],
          [
           "away."
          ],
          [
           "she was."
          ],
          [
           "She would have to"
          ],
          [
           "the thought of the upcoming"
          ],
          [
           "were filled with tears."
          ],
          [
           "Intrigued,"
          ],
          [
           "the villagers  were not telling"
          ],
          [
           "according to"
          ],
          [
           "When Juan"
          ],
          [
           "That is okay"
          ],
          [
           "The noise"
          ],
          [
           "the two usually ended"
          ],
          [
           "Carmen"
          ],
          [
           "turned the cell phone"
          ],
          [
           "another man."
          ],
          [
           "Juan."
          ],
          [
           "herself."
          ],
          [
           "a second patient"
          ],
          [
           "Carmen face,"
          ],
          [
           "as they found her."
          ],
          [
           "What if this was an"
          ],
          [
           "Carmen was once again"
          ],
          [
           "her."
          ],
          [
           "I think you"
          ],
          [
           "Torreson said"
          ],
          [
           "teaching the girl to"
          ],
          [
           "After what felt like"
          ],
          [
           "mattress and a small"
          ],
          [
           "with hand gestures"
          ],
          [
           "On the other hand,"
          ],
          [
           "Carmen said."
          ],
          [
           "she was familiar"
          ],
          [
           "Carmen started to"
          ],
          [
           "to the back."
          ],
          [
           "to go check on her."
          ],
          [
           "here."
          ],
          [
           "email's strange"
          ],
          [
           "with a seat attached"
          ],
          [
           "and"
          ],
          [
           "everything she saw"
          ],
          [
           "know more about the disease"
          ],
          [
           "and the two women"
          ],
          [
           "to make a few months"
          ],
          [
           "fever."
          ],
          [
           "a thermometer"
          ],
          [
           "did not want to pressure him."
          ],
          [
           "and facial expressions."
          ],
          [
           "what had happened to Maria."
          ],
          [
           "She"
          ],
          [
           "at the attention,"
          ],
          [
           "The water was calm,"
          ],
          [
           "then went to her"
          ],
          [
           "Carmen felt"
          ],
          [
           "and she jumped back."
          ],
          [
           "You should rest now."
          ],
          [
           "was very good."
          ],
          [
           "We thank you"
          ],
          [
           "Carmen"
          ],
          [
           "Carmen"
          ],
          [
           "anything about it in"
          ],
          [
           "as Ramiro,"
          ],
          [
           "I'll be right back, she"
          ],
          [
           "in his eyes."
          ],
          [
           "At a point,"
          ],
          [
           "She was shocked to see"
          ],
          [
           "Once Carmen and"
          ],
          [
           "Sorry,"
          ],
          [
           "even mentioning"
          ],
          [
           "mostly Carmen and"
          ],
          [
           "of humid air."
          ],
          [
           "a week, a"
          ],
          [
           "of course."
          ],
          [
           "less out of health concerns"
          ],
          [
           "If Alba knew"
          ],
          [
           "that is funny."
          ],
          [
           "She was embarrassed"
          ],
          [
           "that it was Juan,"
          ],
          [
           "at her own."
          ],
          [
           "like nothing Carmen had"
          ],
          [
           "Overall,"
          ],
          [
           "more out of curiosity,"
          ],
          [
           "and half empty box"
          ],
          [
           "Nodding,"
          ],
          [
           "missed her company."
          ],
          [
           "Carmen"
          ],
          [
           "a lantern."
          ],
          [
           "Carmen"
          ],
          [
           "Lost"
          ],
          [
           "to have cured the man."
          ],
          [
           "filling her"
          ],
          [
           "reasoned that the girl"
          ],
          [
           "they were there,"
          ],
          [
           "it over."
          ],
          [
           "that replacement shipment"
          ],
          [
           "Antonio"
          ],
          [
           "fell immediately into"
          ],
          [
           "you startled me!"
          ],
          [
           "This time it"
          ],
          [
           "So far one of her"
          ],
          [
           "That"
          ],
          [
           "According"
          ],
          [
           "She looked behind"
          ],
          [
           "dodging vines"
          ],
          [
           "the nonprofit"
          ],
          [
           "treating him with medication,"
          ],
          [
           "Another week went by."
          ],
          [
           "She"
          ],
          [
           "to find that"
          ],
          [
           "she rushed over to"
          ],
          [
           "Carmen a potent"
          ],
          [
           "to her own."
          ],
          [
           "nearly screeched"
          ],
          [
           "and everyone danced late"
          ],
          [
           "was around, he could"
          ],
          [
           "Soon,"
          ],
          [
           "typed her response"
          ],
          [
           "everyone here is so"
          ],
          [
           "up, tugging her suitcase"
          ],
          [
           "winter was enough"
          ],
          [
           "sound pretty appealing."
          ],
          [
           "Carmen was happy"
          ],
          [
           "over the young  mans death."
          ],
          [
           "up playing games"
          ],
          [
           "bag of supplies"
          ],
          [
           "It dawned on her just"
          ],
          [
           "as Carmen sat down"
          ],
          [
           "and Strode over."
          ],
          [
           "had never arrived."
          ],
          [
           "like you to have this,"
          ],
          [
           "hacking cough."
          ],
          [
           "slept on one of the beds"
          ],
          [
           "You know,"
          ],
          [
           "She did not recognize"
          ],
          [
           "a sigh of relief,"
          ],
          [
           "Alba's"
          ],
          [
           "Juan said"
          ],
          [
           "Torreson had"
          ],
          [
           "The"
          ],
          [
           "continue to report"
          ],
          [
           "It dawned"
          ],
          [
           "back, feeling"
          ],
          [
           "nervous and excited."
          ],
          [
           "now, yes?"
          ],
          [
           "and Carmen was touched."
          ],
          [
           "and shook his hand."
          ],
          [
           "wildly hoped that"
          ],
          [
           "Spanish."
          ],
          [
           "He motioned for Carmen"
          ],
          [
           "Torreson wrote,"
          ],
          [
           "if she stayed."
          ],
          [
           "As soon"
          ],
          [
           "she was growing more comfortable"
          ],
          [
           "There was little"
          ],
          [
           "Juan her list"
          ],
          [
           "was the villagers only"
          ],
          [
           "Alba had brought her."
          ],
          [
           "very far from everything"
          ],
          [
           "the door,"
          ],
          [
           "the other patients"
          ],
          [
           "to follow him."
          ],
          [
           "a nonprofit organization"
          ],
          [
           "[\"she probably did not speak]"
          ],
          [
           "filling out medical"
          ],
          [
           "plantains and fried"
          ],
          [
           "trusting eyes;"
          ],
          [
           "not working. I"
          ],
          [
           "each other tomorrow."
          ],
          [
           "Alba"
          ],
          [
           "comforted by the conversation."
          ],
          [
           "But, Dr."
          ],
          [
           "up beside"
          ],
          [
           "Though"
          ],
          [
           "hit by a wave"
          ],
          [
           "The second week"
          ],
          [
           "went down."
          ],
          [
           "our satellite phone is"
          ],
          [
           "Besides,"
          ],
          [
           "and soon she"
          ],
          [
           "Alba proved"
          ],
          [
           "But the"
          ],
          [
           "wracked with guilt"
          ],
          [
           "that night Carmen thought"
          ],
          [
           "but none did."
          ],
          [
           "A week"
          ],
          [
           "there was no"
          ],
          [
           "Carmen decided"
          ],
          [
           "Alba's wide,"
          ],
          [
           "ever had a daughter,"
          ],
          [
           "anywhere."
          ],
          [
           "he spoke with a heavy"
          ],
          [
           "and bowed out of the"
          ],
          [
           "and by the light of"
          ],
          [
           "a long way to care"
          ],
          [
           "Their clothing was more"
          ],
          [
           "Children"
          ],
          [
           "of my men have seen"
          ],
          [
           "Alba, the"
          ],
          [
           "it breaks"
          ],
          [
           "frightened the girl"
          ],
          [
           "but she had no choice"
          ],
          [
           "away, Alba said"
          ],
          [
           "she going to do?"
          ],
          [
           "Even though she knew"
          ],
          [
           "torn."
          ],
          [
           "Whoa,"
          ],
          [
           "Alba was patient"
          ],
          [
           "a deep sleep."
          ],
          [
           "no answer."
          ],
          [
           "one it was."
          ],
          [
           "her breakfast, folding"
          ],
          [
           "talked for a long time."
          ],
          [
           "left by the rain."
          ],
          [
           "remembered"
          ],
          [
           "We must contact"
          ],
          [
           "to sprint to the"
          ],
          [
           "Carmen, but"
          ],
          [
           "he needed to return"
          ],
          [
           "water, and some"
          ],
          [
           "and Carmen language"
          ],
          [
           "was a young man that she"
          ],
          [
           "[\"cure'.]"
          ],
          [
           "sure if the disease"
          ],
          [
           "my heart to leave this"
          ],
          [
           "genuine appreciation"
          ],
          [
           "to be around 11"
          ],
          [
           "medicinal plants that"
          ],
          [
           "covered by a thin"
          ],
          [
           "handing her a"
          ],
          [
           "pleased that she had"
          ],
          [
           "she called for Alba."
          ],
          [
           "It was nearly pitch"
          ],
          [
           "I  do not know"
          ],
          [
           "After a"
          ],
          [
           "she was unable to do more"
          ],
          [
           "Carmen felt frustrated"
          ],
          [
           "sold giant tropical"
          ],
          [
           "Carmen"
          ],
          [
           "Alba, Maria"
          ],
          [
           "his entire family"
          ],
          [
           "had her drink plenty"
          ],
          [
           "did not come by the next"
          ],
          [
           "and one of  Juan close"
          ],
          [
           "and a breakfast of mashed"
          ],
          [
           "to panic, she"
          ],
          [
           "with a strange fever."
          ],
          [
           "She wanted to know"
          ],
          [
           "Dr. Torreson?"
          ],
          [
           "Carmen said"
          ],
          [
           "found it very fulfilling"
          ],
          [
           "already gone."
          ],
          [
           "for the victims"
          ],
          [
           "Carmen continued"
          ],
          [
           "though she knew which"
          ],
          [
           "wooden furniture"
          ],
          [
           "of steamy air hit"
          ],
          [
           "daughter? Carmen"
          ],
          [
           "stood there, holding"
          ],
          [
           "Carmen asked"
          ],
          [
           "The girl"
          ],
          [
           "long had Alba been"
          ],
          [
           "That"
          ],
          [
           "doctor"
          ],
          [
           "With"
          ],
          [
           "Carmen ran to"
          ],
          [
           "the idea out of her"
          ],
          [
           "to read."
          ],
          [
           "anything like this."
          ],
          [
           "I really hope you consider"
          ],
          [
           "come and see what was"
          ],
          [
           "ran around them,"
          ],
          [
           "Inside"
          ],
          [
           "Where do I go"
          ],
          [
           "brokenhearted,"
          ],
          [
           "girl continued to stare"
          ],
          [
           "Part of her"
          ],
          [
           "the men suddenly"
          ],
          [
           "by what she saw inside."
          ],
          [
           "meats and stirring"
          ],
          [
           "Juan."
          ],
          [
           "Hmm,"
          ],
          [
           "become part of her new"
          ],
          [
           "the air still,"
          ],
          [
           "in the first place."
          ],
          [
           "already been infected?"
          ],
          [
           "supplies,"
          ],
          [
           "He nodded"
          ],
          [
           "looked out over"
          ],
          [
           "handmade necklace."
          ],
          [
           "led her to a"
          ],
          [
           "When"
          ],
          [
           "of them spoke a mix"
          ],
          [
           "most of"
          ],
          [
           "their destination"
          ],
          [
           "How"
          ],
          [
           "Ah, si,"
          ],
          [
           "The villagers appreciated"
          ],
          [
           "She was both"
          ],
          [
           "Later"
          ],
          [
           "said. I"
          ],
          [
           "a wonderful companion."
          ],
          [
           "cuts and scrapes"
          ],
          [
           "out, alarmed."
          ],
          [
           "12 years old."
          ],
          [
           "head ashamed"
          ],
          [
           "and squinted at her"
          ],
          [
           "three times,"
          ],
          [
           "table."
          ],
          [
           "A small figure"
          ],
          [
           "Dr."
          ],
          [
           "to see"
          ],
          [
           "through it."
          ],
          [
           "conversing with his"
          ],
          [
           "Juan promised"
          ],
          [
           "of the people came"
          ],
          [
           "appeared to be"
          ],
          [
           "stood clutching"
          ],
          [
           "help?"
          ],
          [
           "name on it."
          ],
          [
           "were still quite mysterious"
          ],
          [
           "soups."
          ],
          [
           "Juan himself came"
          ],
          [
           "would find it very rewarding."
          ],
          [
           "time, the sun was setting,"
          ],
          [
           "could be treated,"
          ],
          [
           "her third patient"
          ],
          [
           "or telling stories instead."
          ],
          [
           "to turn things"
          ],
          [
           "later, Carmen"
          ],
          [
           "moment, so"
          ],
          [
           "table"
          ],
          [
           "arrived yet."
          ],
          [
           "but she did not mind"
          ],
          [
           "her but"
          ],
          [
           "saw her cell phone sitting"
          ],
          [
           "to invade the  family's"
          ],
          [
           "and sounds"
          ],
          [
           "her cell phone picked"
          ],
          [
           "subject line"
          ],
          [
           "her towards one of"
          ],
          [
           "the rainy season,"
          ],
          [
           "it was a"
          ],
          [
           "English."
          ],
          [
           "night."
          ],
          [
           "Some"
          ],
          [
           "a whim, she"
          ],
          [
           "it was the start of the"
          ],
          [
           "Juan Torres."
          ],
          [
           "had a fever"
          ],
          [
           "on Carmen that"
          ],
          [
           "twice,"
          ],
          [
           "pieces of simple"
          ],
          [
           "in this predicament."
          ],
          [
           "in the evening to wait for"
          ],
          [
           "notice."
          ],
          [
           "in what seemed"
          ]
         ],
         "hovertemplate": "cluster=0<br>PCA 1=%{x}<br>PCA 2=%{y}<br>text_preview=%{customdata[0]}<extra></extra>",
         "legendgroup": "0",
         "marker": {
          "color": "#636efa",
          "symbol": "circle",
          "opacity": 0.7,
          "size": 4
         },
         "mode": "markers",
         "name": "0",
         "orientation": "v",
         "showlegend": true,
         "x": {
          "dtype": "f8",
          "bdata": "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"
         },
         "xaxis": "x",
         "y": {
          "dtype": "f8",
          "bdata": "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"
         },
         "yaxis": "y",
         "type": "scatter"
        },
        {
         "customdata": [
          [
           "water."
          ],
          [
           "jungle."
          ],
          [
           "hut."
          ],
          [
           "began to teach"
          ],
          [
           "phone but, Carmen"
          ],
          [
           "But then Carmen"
          ],
          [
           "She looked"
          ],
          [
           "The organization"
          ],
          [
           "with a bad fever."
          ],
          [
           "that led to the river."
          ],
          [
           "for medicines that might"
          ],
          [
           "and"
          ],
          [
           "Alma"
          ],
          [
           "As she was settling"
          ],
          [
           "as the driver"
          ],
          [
           "was horrified"
          ],
          [
           "charts for the patients"
          ],
          [
           "her, she"
          ],
          [
           "Carmen, he smiled"
          ],
          [
           "Though she had been"
          ],
          [
           "at the shore out"
          ],
          [
           "In the evenings,"
          ],
          [
           "thought that if she"
          ],
          [
           "mind."
          ],
          [
           "Sunday morning tennis"
          ],
          [
           "The following morning,"
          ],
          [
           "was a delicate"
          ],
          [
           "For a brief"
          ],
          [
           "if Carmen could"
          ],
          [
           "how long she had slept."
          ],
          [
           "Chicago where she worked,"
          ],
          [
           "late one afternoon"
          ],
          [
           "Maria?"
          ],
          [
           "to get her to drink."
          ],
          [
           "and Carmen got"
          ],
          [
           "When Carmen noticed"
          ],
          [
           "you know"
          ],
          [
           "She felt she had truly"
          ],
          [
           "of the river."
          ],
          [
           "right away."
          ],
          [
           "But the other"
          ],
          [
           "before she could change"
          ],
          [
           "from time to time."
          ],
          [
           "had died, and it was"
          ],
          [
           "and scared,"
          ],
          [
           "serve our village."
          ],
          [
           "to think that they had"
          ],
          [
           "the busy clinic in"
          ],
          [
           "a desperate look in his"
          ],
          [
           "she returned to the clinic"
          ],
          [
           "on very short"
          ],
          [
           "led Carmen down a"
          ],
          [
           "Four of the men from"
          ],
          [
           "doctor could be found"
          ],
          [
           "unknown disease?"
          ],
          [
           "into the evening,"
          ],
          [
           "I'm sorry to bother"
          ],
          [
           "could name most"
          ],
          [
           "until she felt"
          ],
          [
           "Carmen with gifts."
          ],
          [
           "a man were bent"
          ],
          [
           "girl answered pointing"
          ],
          [
           "pointing at his chest."
          ],
          [
           "the villagers,"
          ],
          [
           "but they have not"
          ],
          [
           "recognized from the village."
          ],
          [
           "in a remote part of"
          ],
          [
           "and ready to go home."
          ],
          [
           "was waiting to take"
          ],
          [
           "to Alba,"
          ],
          [
           "family's hut,"
          ],
          [
           "a small town"
          ],
          [
           "disappeared."
          ],
          [
           "down a narrow path"
          ],
          [
           "The shipments"
          ],
          [
           "turned the boat toward"
          ],
          [
           "out the shapes of huts"
          ],
          [
           "Carmen- he said"
          ],
          [
           "against Carmen skin."
          ],
          [
           "stopped talking,"
          ],
          [
           "cough."
          ],
          [
           "the girl could lead her"
          ],
          [
           "These were the moments that"
          ],
          [
           "tying her to Chicago."
          ],
          [
           "been inside Alba's"
          ],
          [
           "being so distrustful."
          ],
          [
           "but to accept it."
          ],
          [
           "A man emerged"
          ],
          [
           "of this fever."
          ],
          [
           "eyes."
          ],
          [
           "fever came to"
          ],
          [
           "to personally thank"
          ],
          [
           "had become a doctor"
          ],
          [
           "Maria more medication"
          ],
          [
           "phone."
          ],
          [
           "man had a strange"
          ],
          [
           "a carpet of blue green"
          ],
          [
           "It looked beautiful,"
          ],
          [
           "got worse."
          ],
          [
           "Carmen"
          ],
          [
           "Antonio"
          ],
          [
           "shy in the beginning,"
          ],
          [
           "siesta, there"
          ],
          [
           "Dr."
          ],
          [
           "what appeared to be the village"
          ],
          [
           "riverbank,"
          ],
          [
           "how isolated"
          ],
          [
           "sign of civilization"
          ],
          [
           "something to the other men,"
          ],
          [
           "river"
          ],
          [
           "felt horribly guilty"
          ],
          [
           "Maria"
          ],
          [
           "felt anxious"
          ],
          [
           "in a part of the rainforest"
          ],
          [
           "the door."
          ],
          [
           "felt uncomfortable"
          ],
          [
           "coming to work here."
          ],
          [
           "and she"
          ],
          [
           "she heard a rustling in"
          ],
          [
           "Just a few days later,"
          ],
          [
           "Carmen"
          ],
          [
           "say."
          ],
          [
           "and his eyes"
          ],
          [
           "trying to keep her balance"
          ],
          [
           "to her."
          ],
          [
           "the river."
          ],
          [
           "rash across"
          ],
          [
           "driving, the breeze"
          ],
          [
           "she had interrupted"
          ],
          [
           "come by her hut."
          ],
          [
           "between the vehicles"
          ],
          [
           "tended to Ramiro"
          ],
          [
           "found that Maria had"
          ],
          [
           "street vendors"
          ],
          [
           "Juan ushered"
          ],
          [
           "roofs."
          ],
          [
           "said pointing"
          ],
          [
           "in the Amazon jungle,"
          ],
          [
           "the man said"
          ],
          [
           "that she had done"
          ],
          [
           "on the ground."
          ],
          [
           "on the bed, she felt"
          ],
          [
           "she thought to herself."
          ],
          [
           "spotted Juan in the center"
          ],
          [
           "evening, Juan"
          ],
          [
           "Carmen"
          ],
          [
           "Even"
          ],
          [
           "the best she could,"
          ],
          [
           "at work constructing"
          ],
          [
           "he told her  he had put"
          ],
          [
           "With"
          ],
          [
           "decorative than most"
          ],
          [
           "friend, Carmen"
          ],
          [
           "her first glimpse of"
          ],
          [
           "before she came,"
          ],
          [
           "Carmen gave"
          ],
          [
           "the village."
          ],
          [
           "mosquito net around"
          ],
          [
           "puzzled."
          ],
          [
           "round the clock"
          ],
          [
           "of the terminal and"
          ],
          [
           "nothing"
          ],
          [
           "Carmen pictured"
          ],
          [
           "then again she was not"
          ],
          [
           "Carmen"
          ],
          [
           "fires, smoking"
          ],
          [
           "Why  had not she"
          ],
          [
           "were two mattresses"
          ],
          [
           "there was a festival in"
          ],
          [
           "sick"
          ],
          [
           "but also"
          ],
          [
           "which made"
          ],
          [
           "was a knock at the door"
          ],
          [
           "told Carmen?"
          ],
          [
           "leaders of some sort."
          ],
          [
           "struggled to keep"
          ],
          [
           "What was"
          ],
          [
           "Carmen was there,"
          ],
          [
           "source of healthcare"
          ],
          [
           "a boat would pass by,"
          ],
          [
           "night in her hut,"
          ],
          [
           "the authorities to stop"
          ],
          [
           "with Carmen slow"
          ],
          [
           "realized that Alba"
          ],
          [
           "the clinic,"
          ],
          [
           "had come from another"
          ],
          [
           "a look of genuine"
          ],
          [
           "The patient was an older"
          ],
          [
           "During Carmen first"
          ],
          [
           "Did they"
          ],
          [
           "but then Juan"
          ],
          [
           "the village carried his"
          ],
          [
           "she walked over to them,"
          ],
          [
           "It  did not seem like"
          ],
          [
           "of the journey to"
          ],
          [
           "his attention back"
          ],
          [
           "flailing."
          ],
          [
           "an emergency, he said."
          ],
          [
           "to the region."
          ],
          [
           "an old fashioned"
          ],
          [
           "Arriving"
          ],
          [
           "huge baskets of"
          ],
          [
           "child"
          ],
          [
           "and the air was"
          ],
          [
           "a close friend at home."
          ],
          [
           "when she got back."
          ],
          [
           "When Carmen came"
          ],
          [
           "that if she hiked to the top"
          ],
          [
           "picked up words amazingly"
          ],
          [
           "tears in his eyes."
          ],
          [
           "game"
          ],
          [
           "with this fever?"
          ],
          [
           "Carmen think that they were"
          ],
          [
           "unless a replacement"
          ],
          [
           "in the fading"
          ],
          [
           "But Carmen  did not"
          ],
          [
           "to a river."
          ],
          [
           "that having a foreigner"
          ],
          [
           "was full of sights"
          ],
          [
           "fruits that Carmen"
          ],
          [
           "if anyone in the village"
          ],
          [
           "Torreson leaving,"
          ],
          [
           "the man looked up at her."
          ],
          [
           "over the uneven"
          ],
          [
           "to leave, she"
          ],
          [
           "the remote village."
          ],
          [
           "a village leader"
          ],
          [
           "loggers working"
          ],
          [
           "trying not"
          ],
          [
           "of a small Hill"
          ],
          [
           "a hut that looked identical"
          ],
          [
           "in her new home,"
          ],
          [
           "But"
          ],
          [
           "from within the brush."
          ],
          [
           "than they were letting"
          ],
          [
           "said."
          ],
          [
           "in cryptic"
          ],
          [
           "in the rainforest"
          ],
          [
           "as Dr."
          ],
          [
           "may need to keep it for"
          ],
          [
           "In turn, Carmen"
          ],
          [
           "skills improved."
          ],
          [
           "stay in the clinic overnight"
          ],
          [
           "gasped, and"
          ],
          [
           "to lift her suitcase"
          ],
          [
           "driver was already"
          ],
          [
           "heard footsteps"
          ],
          [
           "part of her felt"
          ],
          [
           "at the edge of the Amazon"
          ],
          [
           "Carmen"
          ],
          [
           "shirt was off,"
          ],
          [
           "terminal, a man"
          ],
          [
           "a piece of paper with Carmen"
          ],
          [
           "it would be an"
          ],
          [
           "mix of leaves in"
          ],
          [
           "apprehensively."
          ],
          [
           "She had even begun"
          ],
          [
           "and the women cooked"
          ],
          [
           "he added apologetically."
          ],
          [
           "Juan and the villagers"
          ],
          [
           "to the man from the night"
          ],
          [
           "of breath, she"
          ],
          [
           "two years working"
          ],
          [
           "but one"
          ],
          [
           "Alba lay on the ground,"
          ],
          [
           "it carefully."
          ],
          [
           "Spanish"
          ],
          [
           "will show you to the clinic"
          ],
          [
           "them right away, but"
          ],
          [
           "it was November,"
          ],
          [
           "a house, her"
          ],
          [
           "the fire, Carmen"
          ],
          [
           "like there was something"
          ],
          [
           "completely exhausted."
          ],
          [
           "The clinic"
          ],
          [
           "into the night."
          ],
          [
           "has promised"
          ],
          [
           "wooden slats of the"
          ],
          [
           "known about the fever"
          ],
          [
           "Dr. Carmen"
          ],
          [
           "fire"
          ],
          [
           "community."
          ],
          [
           "had a feeling that many"
          ],
          [
           "But concern and"
          ],
          [
           "she said, flustered,"
          ],
          [
           "with the strange"
          ],
          [
           "the clearing, deep"
          ],
          [
           "the foreign woman"
          ],
          [
           "decision would haunt"
          ],
          [
           "But another"
          ],
          [
           "Juan came"
          ],
          [
           "to Alba."
          ],
          [
           "it was not her fault,"
          ],
          [
           "She"
          ],
          [
           "below"
          ],
          [
           "flipflops carrying"
          ],
          [
           "curiosity got"
          ],
          [
           "her clothes,"
          ],
          [
           "There, a boat"
          ],
          [
           "at Carmen."
          ],
          [
           "once,"
          ],
          [
           "rash, this patient"
          ],
          [
           "placed directly"
          ],
          [
           "didn't go straight to the clinic."
          ],
          [
           "Carmen watched them leave,"
          ],
          [
           "that what came out"
          ],
          [
           "with thatched"
          ],
          [
           "Antonio turned"
          ],
          [
           "and with Dr."
          ],
          [
           "rainforest."
          ],
          [
           "could and"
          ],
          [
           "After Carmen had"
          ],
          [
           "was threatening to"
          ],
          [
           "inside the boat,"
          ],
          [
           "they emerged into"
          ],
          [
           "They walked out"
          ],
          [
           "Her voice"
          ],
          [
           "Had Dr. Torreson"
          ],
          [
           "close it down"
          ],
          [
           "said, eager to get"
          ],
          [
           "friends."
          ],
          [
           "evening."
          ],
          [
           "woke the next morning"
          ],
          [
           "said the clinic"
          ],
          [
           "a very long time,"
          ],
          [
           "light."
          ],
          [
           "left the clinic,"
          ],
          [
           "swatted away mosquitos"
          ],
          [
           "few days in the clinic,"
          ],
          [
           "reminded her why she"
          ],
          [
           "Carmen"
          ],
          [
           "Traumatized and"
          ],
          [
           "her suitcase were safely"
          ],
          [
           "Torreson wrote,"
          ],
          [
           "motoring back up"
          ],
          [
           "looked around"
          ],
          [
           "Carmen"
          ],
          [
           "The only medical supplies"
          ],
          [
           "He still had"
          ],
          [
           "Just as she was about"
          ],
          [
           "all about the Amazon,"
          ],
          [
           "any of the tropical fevers"
          ],
          [
           "took a lantern and set"
          ],
          [
           "She also"
          ],
          [
           "after Carmen"
          ],
          [
           "stood around small"
          ],
          [
           "When Juan noticed"
          ],
          [
           "ever seen."
          ],
          [
           "Carmen smiled"
          ],
          [
           "started."
          ],
          [
           "center."
          ],
          [
           "and rushing"
          ],
          [
           "The two men stood"
          ],
          [
           "Scanning the scene,"
          ],
          [
           "she discovered"
          ],
          [
           "morning! he"
          ],
          [
           "I need your"
          ],
          [
           "patches of mud"
          ],
          [
           "Dr. Torreson"
          ],
          [
           "a new hut."
          ],
          [
           "What if Carmen"
          ],
          [
           "if"
          ],
          [
           "to be as far"
          ],
          [
           "Did they think"
          ],
          [
           "trees, with"
          ],
          [
           "rainy season."
          ],
          [
           "Welcome to the jungle."
          ],
          [
           "woman named"
          ],
          [
           "No, Juan said."
          ],
          [
           "these criminals and"
          ],
          [
           "Carmen  didn't"
          ],
          [
           "the corner."
          ],
          [
           "break, she"
          ],
          [
           "whistled to himself."
          ],
          [
           "the village in daylight."
          ],
          [
           "crossed the clearing"
          ],
          [
           "the patients she"
          ],
          [
           "from here?"
          ],
          [
           "that day."
          ],
          [
           "now."
          ],
          [
           "at the Chicago airport."
          ],
          [
           "help,"
          ],
          [
           "spent the last two"
          ],
          [
           "over her, trying"
          ],
          [
           "herself-"
          ],
          [
           "great with names."
          ],
          [
           "but he  did not yet have"
          ],
          [
           "as"
          ],
          [
           "at her with huge"
          ],
          [
           "in the clinic,"
          ],
          [
           "Maldonado,"
          ],
          [
           "to sit beside her."
          ],
          [
           "built a small medical"
          ],
          [
           "Juan led her"
          ],
          [
           "propped herself up"
          ],
          [
           "along in the illness as"
          ],
          [
           "patient came to the clinic"
          ],
          [
           "the day in the clinic"
          ],
          [
           "goods"
          ],
          [
           "Carmen headed back"
          ],
          [
           "she had seen."
          ],
          [
           "see Carmen in the clinic."
          ],
          [
           "a delicious feast."
          ],
          [
           "which led down"
          ],
          [
           "giving Carmen"
          ],
          [
           "and"
          ],
          [
           "Women"
          ],
          [
           "to say, but Juan was"
          ],
          [
           "Inside"
          ],
          [
           "group of leaders."
          ],
          [
           "her, he whispered"
          ],
          [
           "up a weak signal."
          ],
          [
           "of the culture"
          ],
          [
           "Hello, Dr."
          ],
          [
           "Carmen sat down"
          ],
          [
           "Carmen"
          ],
          [
           "short path to"
          ],
          [
           "hitting send"
          ],
          [
           "even more humid"
          ],
          [
           "Carmen saw"
          ],
          [
           "off down the path"
          ],
          [
           "How could she not have"
          ],
          [
           "John Torreson."
          ],
          [
           "especially Alba,"
          ],
          [
           "that is strictly"
          ],
          [
           "Alba motioned"
          ],
          [
           "she had seen"
          ],
          [
           "would not say."
          ],
          [
           "in the Amazon but"
          ],
          [
           "with."
          ],
          [
           "the"
          ],
          [
           "he said."
          ],
          [
           "of the village,"
          ],
          [
           "through the forest."
          ],
          [
           "although she"
          ],
          [
           "boys was hard"
          ],
          [
           "Her hut was near"
          ],
          [
           "where"
          ],
          [
           "happening"
          ],
          [
           "hut"
          ],
          [
           "the time spent with"
          ],
          [
           "The men made a huge"
          ],
          [
           "Yes"
          ],
          [
           "moment Carmen"
          ],
          [
           "hut."
          ],
          [
           "she  wasn't even"
          ],
          [
           "You must be very"
          ],
          [
           "of water, but Maria"
          ],
          [
           "was released from"
          ],
          [
           "Carmen started"
          ],
          [
           "On"
          ],
          [
           "Senor Torreson,"
          ],
          [
           "Alba more and more."
          ],
          [
           "stethoscope,"
          ],
          [
           "a blast"
          ],
          [
           "who also"
          ],
          [
           "children darted"
          ],
          [
           "the driver"
          ],
          [
           "a clearing."
          ],
          [
           "Carmen"
          ],
          [
           "in her office"
          ],
          [
           "hands preparing"
          ],
          [
           "to think about leaving"
          ],
          [
           "turned to stare"
          ],
          [
           "adventure."
          ],
          [
           "saw had fairly minor"
          ],
          [
           "When Carmen gave"
          ],
          [
           "if they were afraid Maria"
          ],
          [
           "a jolt, Carmen"
          ],
          [
           "off limits."
          ],
          [
           "Inside"
          ],
          [
           "Along with the"
          ],
          [
           "spotted Juan across"
          ],
          [
           "or maybe even get sick"
          ],
          [
           "in conversation with"
          ],
          [
           "ground."
          ],
          [
           "lots of"
          ],
          [
           "and completely"
          ],
          [
           "came to the clinic with"
          ],
          [
           "named Dr."
          ],
          [
           "thought she noticed"
          ],
          [
           "her family prepare for"
          ],
          [
           "any more than that, she"
          ],
          [
           "but Carmen could make"
          ],
          [
           "she almost walked"
          ],
          [
           "her as best she"
          ],
          [
           "of Spanish"
          ],
          [
           "When he saw"
          ],
          [
           "could see the telltale"
          ],
          [
           "clinic to retrieve"
          ],
          [
           "Some of the villagers"
          ],
          [
           "wild."
          ],
          [
           "Wait! she called"
          ],
          [
           "to the United States"
          ],
          [
           "in the doorway, not"
          ],
          [
           "started to descend,"
          ],
          [
           "As"
          ],
          [
           "Stepping out onto the runway,"
          ],
          [
           "bonfire,"
          ],
          [
           "hoping"
          ],
          [
           "At times,"
          ],
          [
           "the tiny airport"
          ],
          [
           "a brown river snaking"
          ],
          [
           "holding up her hands,"
          ],
          [
           "back from her afternoon"
          ],
          [
           "had not mentioned"
          ],
          [
           "onto a side street"
          ],
          [
           "tired from the journey"
          ],
          [
           "Carmen Reed was sitting"
          ],
          [
           "sat on a rock"
          ],
          [
           "could be risking her life"
          ],
          [
           "was warm,"
          ],
          [
           "on the ground,"
          ],
          [
           "fast"
          ],
          [
           "and stared out at the muddy"
          ],
          [
           "hut for a couple hours"
          ],
          [
           "village down the river."
          ],
          [
           "on?"
          ],
          [
           "impossible to know"
          ],
          [
           "better."
          ],
          [
           "medical clinic for the villagers."
          ]
         ],
         "hovertemplate": "cluster=1<br>PCA 1=%{x}<br>PCA 2=%{y}<br>text_preview=%{customdata[0]}<extra></extra>",
         "legendgroup": "1",
         "marker": {
          "color": "#EF553B",
          "symbol": "circle",
          "opacity": 0.7,
          "size": 4
         },
         "mode": "markers",
         "name": "1",
         "orientation": "v",
         "showlegend": true,
         "x": {
          "dtype": "f8",
          "bdata": "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"
         },
         "xaxis": "x",
         "y": {
          "dtype": "f8",
          "bdata": "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"
         },
         "yaxis": "y",
         "type": "scatter"
        }
       ],
       "layout": {
        "template": {
         "data": {
          "histogram2dcontour": [
           {
            "type": "histogram2dcontour",
            "colorbar": {
             "outlinewidth": 0,
             "ticks": ""
            },
            "colorscale": [
             [
              0.0,
              "#0d0887"
             ],
             [
              0.1111111111111111,
              "#46039f"
             ],
             [
              0.2222222222222222,
              "#7201a8"
             ],
             [
              0.3333333333333333,
              "#9c179e"
             ],
             [
              0.4444444444444444,
              "#bd3786"
             ],
             [
              0.5555555555555556,
              "#d8576b"
             ],
             [
              0.6666666666666666,
              "#ed7953"
             ],
             [
              0.7777777777777778,
              "#fb9f3a"
             ],
             [
              0.8888888888888888,
              "#fdca26"
             ],
             [
              1.0,
              "#f0f921"
             ]
            ]
           }
          ],
          "choropleth": [
           {
            "type": "choropleth",
            "colorbar": {
             "outlinewidth": 0,
             "ticks": ""
            }
           }
          ],
          "histogram2d": [
           {
            "type": "histogram2d",
            "colorbar": {
             "outlinewidth": 0,
             "ticks": ""
            },
            "colorscale": [
             [
              0.0,
              "#0d0887"
             ],
             [
              0.1111111111111111,
              "#46039f"
             ],
             [
              0.2222222222222222,
              "#7201a8"
             ],
             [
              0.3333333333333333,
              "#9c179e"
             ],
             [
              0.4444444444444444,
              "#bd3786"
             ],
             [
              0.5555555555555556,
              "#d8576b"
             ],
             [
              0.6666666666666666,
              "#ed7953"
             ],
             [
              0.7777777777777778,
              "#fb9f3a"
             ],
             [
              0.8888888888888888,
              "#fdca26"
             ],
             [
              1.0,
              "#f0f921"
             ]
            ]
           }
          ],
          "heatmap": [
           {
            "type": "heatmap",
            "colorbar": {
             "outlinewidth": 0,
             "ticks": ""
            },
            "colorscale": [
             [
              0.0,
              "#0d0887"
             ],
             [
              0.1111111111111111,
              "#46039f"
             ],
             [
              0.2222222222222222,
              "#7201a8"
             ],
             [
              0.3333333333333333,
              "#9c179e"
             ],
             [
              0.4444444444444444,
              "#bd3786"
             ],
             [
              0.5555555555555556,
              "#d8576b"
             ],
             [
              0.6666666666666666,
              "#ed7953"
             ],
             [
              0.7777777777777778,
              "#fb9f3a"
             ],
             [
              0.8888888888888888,
              "#fdca26"
             ],
             [
              1.0,
              "#f0f921"
             ]
            ]
           }
          ],
          "contourcarpet": [
           {
            "type": "contourcarpet",
            "colorbar": {
             "outlinewidth": 0,
             "ticks": ""
            }
           }
          ],
          "contour": [
           {
            "type": "contour",
            "colorbar": {
             "outlinewidth": 0,
             "ticks": ""
            },
            "colorscale": [
             [
              0.0,
              "#0d0887"
             ],
             [
              0.1111111111111111,
              "#46039f"
             ],
             [
              0.2222222222222222,
              "#7201a8"
             ],
             [
              0.3333333333333333,
              "#9c179e"
             ],
             [
              0.4444444444444444,
              "#bd3786"
             ],
             [
              0.5555555555555556,
              "#d8576b"
             ],
             [
              0.6666666666666666,
              "#ed7953"
             ],
             [
              0.7777777777777778,
              "#fb9f3a"
             ],
             [
              0.8888888888888888,
              "#fdca26"
             ],
             [
              1.0,
              "#f0f921"
             ]
            ]
           }
          ],
          "surface": [
           {
            "type": "surface",
            "colorbar": {
             "outlinewidth": 0,
             "ticks": ""
            },
            "colorscale": [
             [
              0.0,
              "#0d0887"
             ],
             [
              0.1111111111111111,
              "#46039f"
             ],
             [
              0.2222222222222222,
              "#7201a8"
             ],
             [
              0.3333333333333333,
              "#9c179e"
             ],
             [
              0.4444444444444444,
              "#bd3786"
             ],
             [
              0.5555555555555556,
              "#d8576b"
             ],
             [
              0.6666666666666666,
              "#ed7953"
             ],
             [
              0.7777777777777778,
              "#fb9f3a"
             ],
             [
              0.8888888888888888,
              "#fdca26"
             ],
             [
              1.0,
              "#f0f921"
             ]
            ]
           }
          ],
          "mesh3d": [
           {
            "type": "mesh3d",
            "colorbar": {
             "outlinewidth": 0,
             "ticks": ""
            }
           }
          ],
          "scatter": [
           {
            "marker": {
             "line": {
              "color": "#283442"
             }
            },
            "type": "scatter"
           }
          ],
          "parcoords": [
           {
            "type": "parcoords",
            "line": {
             "colorbar": {
              "outlinewidth": 0,
              "ticks": ""
             }
            }
           }
          ],
          "scatterpolargl": [
           {
            "type": "scatterpolargl",
            "marker": {
             "colorbar": {
              "outlinewidth": 0,
              "ticks": ""
             }
            }
           }
          ],
          "bar": [
           {
            "error_x": {
             "color": "#f2f5fa"
            },
            "error_y": {
             "color": "#f2f5fa"
            },
            "marker": {
             "line": {
              "color": "rgb(17,17,17)",
              "width": 0.5
             },
             "pattern": {
              "fillmode": "overlay",
              "size": 10,
              "solidity": 0.2
             }
            },
            "type": "bar"
           }
          ],
          "scattergeo": [
           {
            "type": "scattergeo",
            "marker": {
             "colorbar": {
              "outlinewidth": 0,
              "ticks": ""
             }
            }
           }
          ],
          "scatterpolar": [
           {
            "type": "scatterpolar",
            "marker": {
             "colorbar": {
              "outlinewidth": 0,
              "ticks": ""
             }
            }
           }
          ],
          "histogram": [
           {
            "marker": {
             "pattern": {
              "fillmode": "overlay",
              "size": 10,
              "solidity": 0.2
             }
            },
            "type": "histogram"
           }
          ],
          "scattergl": [
           {
            "marker": {
             "line": {
              "color": "#283442"
             }
            },
            "type": "scattergl"
           }
          ],
          "scatter3d": [
           {
            "type": "scatter3d",
            "line": {
             "colorbar": {
              "outlinewidth": 0,
              "ticks": ""
             }
            },
            "marker": {
             "colorbar": {
              "outlinewidth": 0,
              "ticks": ""
             }
            }
           }
          ],
          "scattermap": [
           {
            "type": "scattermap",
            "marker": {
             "colorbar": {
              "outlinewidth": 0,
              "ticks": ""
             }
            }
           }
          ],
          "scattermapbox": [
           {
            "type": "scattermapbox",
            "marker": {
             "colorbar": {
              "outlinewidth": 0,
              "ticks": ""
             }
            }
           }
          ],
          "scatterternary": [
           {
            "type": "scatterternary",
            "marker": {
             "colorbar": {
              "outlinewidth": 0,
              "ticks": ""
             }
            }
           }
          ],
          "scattercarpet": [
           {
            "type": "scattercarpet",
            "marker": {
             "colorbar": {
              "outlinewidth": 0,
              "ticks": ""
             }
            }
           }
          ],
          "carpet": [
           {
            "aaxis": {
             "endlinecolor": "#A2B1C6",
             "gridcolor": "#506784",
             "linecolor": "#506784",
             "minorgridcolor": "#506784",
             "startlinecolor": "#A2B1C6"
            },
            "baxis": {
             "endlinecolor": "#A2B1C6",
             "gridcolor": "#506784",
             "linecolor": "#506784",
             "minorgridcolor": "#506784",
             "startlinecolor": "#A2B1C6"
            },
            "type": "carpet"
           }
          ],
          "table": [
           {
            "cells": {
             "fill": {
              "color": "#506784"
             },
             "line": {
              "color": "rgb(17,17,17)"
             }
            },
            "header": {
             "fill": {
              "color": "#2a3f5f"
             },
             "line": {
              "color": "rgb(17,17,17)"
             }
            },
            "type": "table"
           }
          ],
          "barpolar": [
           {
            "marker": {
             "line": {
              "color": "rgb(17,17,17)",
              "width": 0.5
             },
             "pattern": {
              "fillmode": "overlay",
              "size": 10,
              "solidity": 0.2
             }
            },
            "type": "barpolar"
           }
          ],
          "pie": [
           {
            "automargin": true,
            "type": "pie"
           }
          ]
         },
         "layout": {
          "autotypenumbers": "strict",
          "colorway": [
           "#636efa",
           "#EF553B",
           "#00cc96",
           "#ab63fa",
           "#FFA15A",
           "#19d3f3",
           "#FF6692",
           "#B6E880",
           "#FF97FF",
           "#FECB52"
          ],
          "font": {
           "color": "#f2f5fa"
          },
          "hovermode": "closest",
          "hoverlabel": {
           "align": "left"
          },
          "paper_bgcolor": "rgb(17,17,17)",
          "plot_bgcolor": "rgb(17,17,17)",
          "polar": {
           "bgcolor": "rgb(17,17,17)",
           "angularaxis": {
            "gridcolor": "#506784",
            "linecolor": "#506784",
            "ticks": ""
           },
           "radialaxis": {
            "gridcolor": "#506784",
            "linecolor": "#506784",
            "ticks": ""
           }
          },
          "ternary": {
           "bgcolor": "rgb(17,17,17)",
           "aaxis": {
            "gridcolor": "#506784",
            "linecolor": "#506784",
            "ticks": ""
           },
           "baxis": {
            "gridcolor": "#506784",
            "linecolor": "#506784",
            "ticks": ""
           },
           "caxis": {
            "gridcolor": "#506784",
            "linecolor": "#506784",
            "ticks": ""
           }
          },
          "coloraxis": {
           "colorbar": {
            "outlinewidth": 0,
            "ticks": ""
           }
          },
          "colorscale": {
           "sequential": [
            [
             0.0,
             "#0d0887"
            ],
            [
             0.1111111111111111,
             "#46039f"
            ],
            [
             0.2222222222222222,
             "#7201a8"
            ],
            [
             0.3333333333333333,
             "#9c179e"
            ],
            [
             0.4444444444444444,
             "#bd3786"
            ],
            [
             0.5555555555555556,
             "#d8576b"
            ],
            [
             0.6666666666666666,
             "#ed7953"
            ],
            [
             0.7777777777777778,
             "#fb9f3a"
            ],
            [
             0.8888888888888888,
             "#fdca26"
            ],
            [
             1.0,
             "#f0f921"
            ]
           ],
           "sequentialminus": [
            [
             0.0,
             "#0d0887"
            ],
            [
             0.1111111111111111,
             "#46039f"
            ],
            [
             0.2222222222222222,
             "#7201a8"
            ],
            [
             0.3333333333333333,
             "#9c179e"
            ],
            [
             0.4444444444444444,
             "#bd3786"
            ],
            [
             0.5555555555555556,
             "#d8576b"
            ],
            [
             0.6666666666666666,
             "#ed7953"
            ],
            [
             0.7777777777777778,
             "#fb9f3a"
            ],
            [
             0.8888888888888888,
             "#fdca26"
            ],
            [
             1.0,
             "#f0f921"
            ]
           ],
           "diverging": [
            [
             0,
             "#8e0152"
            ],
            [
             0.1,
             "#c51b7d"
            ],
            [
             0.2,
             "#de77ae"
            ],
            [
             0.3,
             "#f1b6da"
            ],
            [
             0.4,
             "#fde0ef"
            ],
            [
             0.5,
             "#f7f7f7"
            ],
            [
             0.6,
             "#e6f5d0"
            ],
            [
             0.7,
             "#b8e186"
            ],
            [
             0.8,
             "#7fbc41"
            ],
            [
             0.9,
             "#4d9221"
            ],
            [
             1,
             "#276419"
            ]
           ]
          },
          "xaxis": {
           "gridcolor": "#283442",
           "linecolor": "#506784",
           "ticks": "",
           "title": {
            "standoff": 15
           },
           "zerolinecolor": "#283442",
           "automargin": true,
           "zerolinewidth": 2
          },
          "yaxis": {
           "gridcolor": "#283442",
           "linecolor": "#506784",
           "ticks": "",
           "title": {
            "standoff": 15
           },
           "zerolinecolor": "#283442",
           "automargin": true,
           "zerolinewidth": 2
          },
          "scene": {
           "xaxis": {
            "backgroundcolor": "rgb(17,17,17)",
            "gridcolor": "#506784",
            "linecolor": "#506784",
            "showbackground": true,
            "ticks": "",
            "zerolinecolor": "#C8D4E3",
            "gridwidth": 2
           },
           "yaxis": {
            "backgroundcolor": "rgb(17,17,17)",
            "gridcolor": "#506784",
            "linecolor": "#506784",
            "showbackground": true,
            "ticks": "",
            "zerolinecolor": "#C8D4E3",
            "gridwidth": 2
           },
           "zaxis": {
            "backgroundcolor": "rgb(17,17,17)",
            "gridcolor": "#506784",
            "linecolor": "#506784",
            "showbackground": true,
            "ticks": "",
            "zerolinecolor": "#C8D4E3",
            "gridwidth": 2
           }
          },
          "shapedefaults": {
           "line": {
            "color": "#f2f5fa"
           }
          },
          "annotationdefaults": {
           "arrowcolor": "#f2f5fa",
           "arrowhead": 0,
           "arrowwidth": 1
          },
          "geo": {
           "bgcolor": "rgb(17,17,17)",
           "landcolor": "rgb(17,17,17)",
           "subunitcolor": "#506784",
           "showland": true,
           "showlakes": true,
           "lakecolor": "rgb(17,17,17)"
          },
          "title": {
           "x": 0.05
          },
          "updatemenudefaults": {
           "bgcolor": "#506784",
           "borderwidth": 0
          },
          "sliderdefaults": {
           "bgcolor": "#C8D4E3",
           "borderwidth": 1,
           "bordercolor": "rgb(17,17,17)",
           "tickwidth": 0
          },
          "mapbox": {
           "style": "dark"
          }
         }
        },
        "xaxis": {
         "anchor": "y",
         "domain": [
          0.0,
          1.0
         ],
         "title": {
          "text": "PCA 1"
         }
        },
        "yaxis": {
         "anchor": "x",
         "domain": [
          0.0,
          1.0
         ],
         "title": {
          "text": "PCA 2"
         }
        },
        "legend": {
         "title": {
          "text": "cluster"
         },
         "tracegroupgap": 0
        },
        "title": {
         "text": "PCA Embedding Visualization (explained variance: 0.70)"
        }
       },
       "config": {
        "plotlyServerURL": "https://plot.ly"
       }
      }
     },
     "metadata": {},
     "output_type": "display_data"
    },
    {
     "name": "stdout",
     "output_type": "stream",
     "text": [
      "\n",
      "4. SEMANTIC SIMILARITY\n",
      "------------------------------\n",
      "=== Semantic Neighbors Analysis ===\n",
      "\n",
      "Query: 'and'\n",
      "Nearest neighbors:\n",
      "  1. 'The email came' (distance: 0.104)\n",
      "  2. 'in for an afternoon' (distance: 0.115)\n",
      "  3. 'to be around 11' (distance: 0.123)\n",
      "  4. '[\"before'.]' (distance: 0.139)\n",
      "  5. 'spare a couple of months,' (distance: 0.145)\n",
      "\n",
      "Query: 'She was taken'\n",
      "Nearest neighbors:\n",
      "  1. 'She had no idea' (distance: 0.116)\n",
      "  2. 'she rushed over to' (distance: 0.117)\n",
      "  3. 'she was.' (distance: 0.119)\n",
      "  4. 'she had brought with her' (distance: 0.125)\n",
      "  5. 'She wrapped her brain' (distance: 0.125)\n",
      "\n",
      "Query: 'something to the other men,'\n",
      "Nearest neighbors:\n",
      "  1. 'to leave, she' (distance: 0.056)\n",
      "  2. 'But the other' (distance: 0.057)\n",
      "  3. 'the man looked up at her.' (distance: 0.061)\n",
      "  4. 'to think that they had' (distance: 0.061)\n",
      "  5. 'to lift her suitcase' (distance: 0.061)\n",
      "\n",
      "=== NEXT STEPS FOR CEBRA ===\n",
      "✓ Embeddings are ready for CEBRA auxiliary variables\n",
      "✓ Consider the clustering patterns for hypothesis formation\n",
      "✓ Label distributions show contextual encoding quality\n",
      "✓ Semantic neighbors validate embedding meaningfulness\n"
     ]
    },
    {
     "data": {
      "text/plain": [
       "{'embeddings': array([[-0.06433426,  0.049358  ,  0.0284998 , ...,  1.00532391,\n",
       "         -0.75986787,  0.59055148],\n",
       "        [-0.04567493,  0.00633722,  0.00670272, ..., -1.17343088,\n",
       "         -0.75986787,  0.59055148],\n",
       "        [-0.04477897,  0.07996801, -0.00450986, ..., -1.17343088,\n",
       "         -0.79263576,  0.3787057 ],\n",
       "        ...,\n",
       "        [-0.01809768, -0.02533447, -0.01309905, ...,  1.00532391,\n",
       "          1.0669421 ,  1.01424304],\n",
       "        [-0.10999466,  0.1284283 , -0.01778519, ..., -1.17343088,\n",
       "         -1.022011  , -1.10421477],\n",
       "        [-0.0313945 , -0.09264886,  0.04959343, ...,  1.00532391,\n",
       "          1.0669421 ,  1.01424304]], shape=(1182, 392)),\n",
       " 'metadata': {'model_tier': 'lightweight',\n",
       "  'model_name': 'all-MiniLM-L6-v2',\n",
       "  'embedding_dim': 392,\n",
       "  'label_features': 8,\n",
       "  'num_tokens': 1182,\n",
       "  'feature_names': ['characters_value',\n",
       "   'characters_confidence',\n",
       "   'emotions_value',\n",
       "   'emotions_confidence',\n",
       "   'location_value',\n",
       "   'location_confidence',\n",
       "   'time_value',\n",
       "   'time_confidence']},\n",
       " 'token_df':       index                      token  \\\n",
       " 0         0             The email came   \n",
       " 1         1         late one afternoon   \n",
       " 2         2                     as Dr.   \n",
       " 3         3    Carmen Reed was sitting   \n",
       " 4         4              in her office   \n",
       " ...     ...                        ...   \n",
       " 1177   1177                    and she   \n",
       " 1178   1178  could be risking her life   \n",
       " 1179   1179             if she stayed.   \n",
       " 1180   1180                   What was   \n",
       " 1181   1181           she going to do?   \n",
       " \n",
       "                                          embedding_file  \n",
       " 0     embeddings_output/lightweight/embeddings_light...  \n",
       " 1     embeddings_output/lightweight/embeddings_light...  \n",
       " 2     embeddings_output/lightweight/embeddings_light...  \n",
       " 3     embeddings_output/lightweight/embeddings_light...  \n",
       " 4     embeddings_output/lightweight/embeddings_light...  \n",
       " ...                                                 ...  \n",
       " 1177  embeddings_output/lightweight/embeddings_light...  \n",
       " 1178  embeddings_output/lightweight/embeddings_light...  \n",
       " 1179  embeddings_output/lightweight/embeddings_light...  \n",
       " 1180  embeddings_output/lightweight/embeddings_light...  \n",
       " 1181  embeddings_output/lightweight/embeddings_light...  \n",
       " \n",
       " [1182 rows x 3 columns],\n",
       " 'clusters': array([0, 1, 1, ..., 0, 1, 0], shape=(1182,), dtype=int32),\n",
       " 'coords': {'tsne': array([[ 15.605679 ,  30.062134 ],\n",
       "         [ -3.0874527,   3.1000803],\n",
       "         [-20.994574 ,  36.623867 ],\n",
       "         ...,\n",
       "         [-25.665682 ,  36.695435 ],\n",
       "         [ -4.160969 ,   1.5664405],\n",
       "         [ 27.624334 ,  -7.746149 ]], shape=(1000, 2), dtype=float32),\n",
       "  'pca': array([[ 2.01393537,  0.69071742],\n",
       "         [-0.84755872,  0.57277491],\n",
       "         [-2.30454077,  2.06003572],\n",
       "         ...,\n",
       "         [-2.59971391,  1.56173171],\n",
       "         [-0.96277167, -0.08803093],\n",
       "         [ 2.64412525, -0.41906812]], shape=(1000, 2))}}"
      ]
     },
     "execution_count": 27,
     "metadata": {},
     "output_type": "execute_result"
    }
   ],
   "execution_count": 27
  },
  {
   "metadata": {},
   "cell_type": "code",
   "outputs": [],
   "execution_count": null,
   "source": "",
   "id": "4bef04c14db8f8d1"
  }
 ],
 "metadata": {
  "kernelspec": {
   "display_name": "Python 3",
   "language": "python",
   "name": "python3"
  },
  "language_info": {
   "codemirror_mode": {
    "name": "ipython",
    "version": 2
   },
   "file_extension": ".py",
   "mimetype": "text/x-python",
   "name": "python",
   "nbconvert_exporter": "python",
   "pygments_lexer": "ipython2",
   "version": "2.7.6"
  }
 },
 "nbformat": 4,
 "nbformat_minor": 5
}
